{
 "cells": [
  {
   "cell_type": "markdown",
   "metadata": {},
   "source": [
    "# FactBook Data Exploration and Initial Data Processing"
   ]
  },
  {
   "cell_type": "markdown",
   "metadata": {},
   "source": [
    "__In this notebook file we preprocessed and show initial statistic plots for some features of FactBook data.\n",
    "We first dowloaded json files for all countries then filtered it by selecting only 20 countries which are in the Now corpus data set including news articles (our second data set). This notebook includes only the data exploration of the factbook data, where we have different geographic, national, economical, social, political and environmental facts about each country. In the initial part we selected only 20 countries and created a proper data frame including 25 features that we decided to work on. In the second part we preprocessed some interesting facts and plot these features per each country. __"
   ]
  },
  {
   "cell_type": "code",
   "execution_count": 3,
   "metadata": {},
   "outputs": [],
   "source": [
    "%matplotlib inline\n",
    "import pandas as pd\n",
    "import numpy as np\n",
    "import matplotlib.pyplot as plt\n",
    "import matplotlib as mlb\n",
    "import seaborn as sns\n",
    "from datetime import datetime, date, time\n",
    "from dateutil.parser import parse\n",
    "import warnings\n",
    "warnings.filterwarnings('ignore')\n",
    "import os\n",
    "import glob"
   ]
  },
  {
   "cell_type": "markdown",
   "metadata": {},
   "source": [
    "### PART 1 : READ AND FILTER DATA SELECT PRE-DETERMINED FEATURES OF INTEREST"
   ]
  },
  {
   "cell_type": "code",
   "execution_count": 4,
   "metadata": {},
   "outputs": [],
   "source": [
    "#Read data folder of fact book\n",
    "DATA_FOLDER = './Data'"
   ]
  },
  {
   "cell_type": "code",
   "execution_count": 5,
   "metadata": {},
   "outputs": [],
   "source": [
    "#Determine country list codes(as presented in factbook) that are included in Now Corpus\n",
    "country_List=['US', 'EI' ,'AS' ,'UK' ,'CA', 'IN' ,'NZ' ,'SF', 'LK', 'SN', 'PH' ,'GH', 'NI', 'KE',\n",
    " 'HK', 'JM', 'PK' ,'BG', 'MY' ,'TZ']\n",
    "#convert the country names to lower cases\n",
    "country_List=[x.lower() for x in country_List]"
   ]
  },
  {
   "cell_type": "code",
   "execution_count": 7,
   "metadata": {},
   "outputs": [
    {
     "data": {
      "text/plain": [
       "20"
      ]
     },
     "execution_count": 7,
     "metadata": {},
     "output_type": "execute_result"
    }
   ],
   "source": [
    "#check how many country we have\n",
    "len(country_List)"
   ]
  },
  {
   "cell_type": "code",
   "execution_count": 8,
   "metadata": {},
   "outputs": [],
   "source": [
    "#check what is inside the factbook data folder \n",
    "folders_list=os.listdir(DATA_FOLDER+\"/factbook.json\")"
   ]
  },
  {
   "cell_type": "code",
   "execution_count": 9,
   "metadata": {},
   "outputs": [
    {
     "data": {
      "text/plain": [
       "['README.md',\n",
       " 'south-america',\n",
       " 'package.json',\n",
       " 'oceans',\n",
       " 'world',\n",
       " 'ALMANAC.md',\n",
       " 'south-asia',\n",
       " '.git',\n",
       " 'NOTES.md',\n",
       " 'australia-oceania',\n",
       " 'MONGO.md',\n",
       " 'europe',\n",
       " 'central-asia',\n",
       " 'central-america-n-caribbean',\n",
       " 'north-america',\n",
       " 'LICENSE.md',\n",
       " 'middle-east',\n",
       " 'africa',\n",
       " 'meta',\n",
       " 'SUMMARY.md',\n",
       " 'antarctica',\n",
       " 'east-n-southeast-asia']"
      ]
     },
     "execution_count": 9,
     "metadata": {},
     "output_type": "execute_result"
    }
   ],
   "source": [
    "folders_list"
   ]
  },
  {
   "cell_type": "code",
   "execution_count": 11,
   "metadata": {},
   "outputs": [],
   "source": [
    "#Get Per country json files from factbook data\n",
    "countryData_List=glob.glob(DATA_FOLDER+\"/factbook.json/*/*.json\")"
   ]
  },
  {
   "cell_type": "code",
   "execution_count": 12,
   "metadata": {},
   "outputs": [],
   "source": [
    "#filter out only the selected countries data\n",
    "ourcountries=[]\n",
    "for i in country_List:\n",
    "    for j in countryData_List:\n",
    "        if i in j[len(j)-7:]:\n",
    "            ourcountries.append(j)     "
   ]
  },
  {
   "cell_type": "code",
   "execution_count": 13,
   "metadata": {},
   "outputs": [
    {
     "data": {
      "text/plain": [
       "['./Data/factbook.json/north-america/us.json',\n",
       " './Data/factbook.json/europe/ei.json',\n",
       " './Data/factbook.json/australia-oceania/as.json',\n",
       " './Data/factbook.json/europe/uk.json',\n",
       " './Data/factbook.json/north-america/ca.json',\n",
       " './Data/factbook.json/south-asia/in.json',\n",
       " './Data/factbook.json/australia-oceania/nz.json',\n",
       " './Data/factbook.json/africa/sf.json',\n",
       " './Data/factbook.json/south-asia/lk.json',\n",
       " './Data/factbook.json/east-n-southeast-asia/sn.json',\n",
       " './Data/factbook.json/east-n-southeast-asia/ph.json',\n",
       " './Data/factbook.json/africa/gh.json',\n",
       " './Data/factbook.json/africa/ni.json',\n",
       " './Data/factbook.json/africa/ke.json',\n",
       " './Data/factbook.json/east-n-southeast-asia/hk.json',\n",
       " './Data/factbook.json/central-america-n-caribbean/jm.json',\n",
       " './Data/factbook.json/south-asia/pk.json',\n",
       " './Data/factbook.json/south-asia/bg.json',\n",
       " './Data/factbook.json/east-n-southeast-asia/my.json',\n",
       " './Data/factbook.json/africa/tz.json']"
      ]
     },
     "execution_count": 13,
     "metadata": {},
     "output_type": "execute_result"
    }
   ],
   "source": [
    "#check the json file list of selected countries\n",
    "ourcountries"
   ]
  },
  {
   "cell_type": "code",
   "execution_count": 14,
   "metadata": {},
   "outputs": [
    {
     "data": {
      "text/plain": [
       "20"
      ]
     },
     "execution_count": 14,
     "metadata": {},
     "output_type": "execute_result"
    }
   ],
   "source": [
    "len(ourcountries)"
   ]
  },
  {
   "cell_type": "code",
   "execution_count": 15,
   "metadata": {},
   "outputs": [],
   "source": [
    "#Append all countries data files\n",
    "worldFactRaw=[]\n",
    "worldFactRaw.append([pd.read_json(f) for f in ourcountries])\n",
    "countries=worldFactRaw[0]"
   ]
  },
  {
   "cell_type": "code",
   "execution_count": 16,
   "metadata": {},
   "outputs": [
    {
     "data": {
      "text/plain": [
       "20"
      ]
     },
     "execution_count": 16,
     "metadata": {},
     "output_type": "execute_result"
    }
   ],
   "source": [
    "#check how many country data we have\n",
    "len(countries)"
   ]
  },
  {
   "cell_type": "code",
   "execution_count": 17,
   "metadata": {},
   "outputs": [
    {
     "name": "stdout",
     "output_type": "stream",
     "text": [
      "United States\n",
      "Ireland\n",
      "Australia\n",
      "United Kingdom\n",
      "Canada\n",
      "India\n",
      "New Zealand\n",
      "South Africa\n",
      "Sri Lanka\n",
      "Singapore\n",
      "Philippines\n",
      "Ghana\n",
      "Nigeria\n",
      "Kenya\n",
      "Hong Kong\n",
      "Jamaica\n",
      "Pakistan\n",
      "Bangladesh\n",
      "Malaysia\n",
      "Tanzania\n"
     ]
    }
   ],
   "source": [
    "for p in countries:\n",
    "    print(p['Government']['Country name']['conventional short form']['text'])"
   ]
  },
  {
   "cell_type": "code",
   "execution_count": 18,
   "metadata": {},
   "outputs": [],
   "source": [
    "#Get only the selected features per country and properly create a dataframe including each feature s a column\n",
    "x=''\n",
    "from pandas import DataFrame as df\n",
    "factBook = df([p['Government']['Country name']['conventional short form']['text'], \n",
    "        p['Geography'][{'Geographic coordinates'}][0]['text'],\n",
    "        p['Geography'][{'Natural hazards'}][0]['text'],\n",
    "        p['Geography'][{'Environment - current issues'}][0]['text'],\n",
    "        x.join(str(p['People and Society'][{'Population'}][0]['text']).split(\" \",1)[0].split(',',3)),\n",
    "        p['People and Society'][{'Age structure'}][0],\n",
    "        p['People and Society'][{'Religions'}][0]['text'],\n",
    "        p['People and Society'][{'Ethnic groups'}][0]['text'],\n",
    "        p['People and Society'][{'Median age'}][0],\n",
    "        p['People and Society'][{'Population growth rate'}][0]['text'],\n",
    "        p['People and Society'][{'Birth rate'}][0]['text'].split(' ')[0],\n",
    "        p['People and Society'][{'Death rate'}][0]['text'],\n",
    "        p['People and Society'][{'Net migration rate'}][0]['text'],\n",
    "        p['People and Society'][{'Sex ratio'}][0]['total population']['text'].split(' ')[0],\n",
    "        p['People and Society'][{'Life expectancy at birth'}][0],\n",
    "        p['Government'][{'Executive branch'}][0],\n",
    "        p['Government'][{'Legislative branch'}][0],\n",
    "        int(p['Economy'][{'GDP - per capita (PPP)'}][0]['text'].split(' ')[0].lstrip('$').replace(',', '')),\n",
    "        p['Economy'][{'Unemployment rate'}][0]['text'].split('%')[0],\n",
    "        p['Economy'][{'Population below poverty line'}][0],\n",
    "        p['Economy'][{'Inflation rate (consumer prices)'}][0]['text'].split('%')[0],\n",
    "        p['Energy'][{'Electricity - from other renewable sources'}][0]['text'].split('%')[0],\n",
    "        p['Energy'][{'Carbon dioxide emissions from consumption of energy'}][0]['text'].split(' ')[0],\n",
    "        p['Communications'][{'Internet users'}][0]['percent of population']['text'].split('%')[0]\n",
    "        ]\n",
    "       \n",
    "        for p in countries)\n"
   ]
  },
  {
   "cell_type": "code",
   "execution_count": 19,
   "metadata": {},
   "outputs": [],
   "source": [
    "factBook\n",
    "#re-assign proper column names\n",
    "factBook.columns=['Country','Coordinates','Natural_hazards','Environment_issues',\n",
    "        'Population',\n",
    "        'Age_structure',\n",
    "        'Religions',\n",
    "        'Ethnic_groups',\n",
    "        'Median age',\n",
    "        'Population_growth_rate',\n",
    "        'Birth_rate',\n",
    "        'Death_rate',\n",
    "        'Net_migration_rate',\n",
    "        'Sex_ratio',\n",
    "        'Life_expectancy_at_birth',\n",
    "        'Executive_branch',\n",
    "        'Legislative_branch',\n",
    "        'GDP_per_capita',\n",
    "        'Unemployment_rate',\n",
    "        'Population_below_poverty_line',\n",
    "        'Inflation_rate',\n",
    "        'Electricity_renewable_sources',\n",
    "        'Carbon_dioxide_emissions',\n",
    "        'Internet_users']"
   ]
  },
  {
   "cell_type": "markdown",
   "metadata": {},
   "source": [
    "### PART 2 : PRE-PROCESS AND PLOT SOME INTERESTING FEATURES SUCH AS POPULATION, GDP, UNEMPLOYEMENT RATE PER COUNTRY"
   ]
  },
  {
   "cell_type": "markdown",
   "metadata": {},
   "source": [
    "### Population"
   ]
  },
  {
   "cell_type": "code",
   "execution_count": 20,
   "metadata": {},
   "outputs": [
    {
     "data": {
      "text/plain": [
       "0      United States\n",
       "1            Ireland\n",
       "2          Australia\n",
       "3     United Kingdom\n",
       "4             Canada\n",
       "5              India\n",
       "6        New Zealand\n",
       "7       South Africa\n",
       "8          Sri Lanka\n",
       "9          Singapore\n",
       "10       Philippines\n",
       "11             Ghana\n",
       "12           Nigeria\n",
       "13             Kenya\n",
       "14         Hong Kong\n",
       "15           Jamaica\n",
       "16          Pakistan\n",
       "17        Bangladesh\n",
       "18          Malaysia\n",
       "19          Tanzania\n",
       "Name: Country, dtype: object"
      ]
     },
     "execution_count": 20,
     "metadata": {},
     "output_type": "execute_result"
    }
   ],
   "source": [
    "factBook['Country']"
   ]
  },
  {
   "cell_type": "code",
   "execution_count": 74,
   "metadata": {},
   "outputs": [],
   "source": [
    "factBook['Population'][8]='22235000'"
   ]
  },
  {
   "cell_type": "code",
   "execution_count": 75,
   "metadata": {},
   "outputs": [
    {
     "data": {
      "text/plain": [
       "0      323995528\n",
       "1        4952473\n",
       "2       22992654\n",
       "3       64430428\n",
       "4       35362905\n",
       "5     1266883598\n",
       "6        4474549\n",
       "7       54300704\n",
       "8       22235000\n",
       "9        5781728\n",
       "10     102624209\n",
       "11      26908262\n",
       "12     186053386\n",
       "13      46790758\n",
       "14       7167403\n",
       "15       2970340\n",
       "16     201995540\n",
       "17     156186882\n",
       "18      30949962\n",
       "19      52482726\n",
       "Name: Population, dtype: int64"
      ]
     },
     "execution_count": 75,
     "metadata": {},
     "output_type": "execute_result"
    }
   ],
   "source": [
    "factBook['Population']=factBook['Population'].astype('int')\n",
    "factBook['Population']"
   ]
  },
  {
   "cell_type": "code",
   "execution_count": 76,
   "metadata": {},
   "outputs": [
    {
     "data": {
      "text/plain": [
       "count    2.000000e+01\n",
       "mean     1.309770e+08\n",
       "std      2.803522e+08\n",
       "min      2.970340e+06\n",
       "25%      1.846810e+07\n",
       "50%      4.107683e+07\n",
       "75%      1.160149e+08\n",
       "max      1.266884e+09\n",
       "Name: Population, dtype: float64"
      ]
     },
     "execution_count": 76,
     "metadata": {},
     "output_type": "execute_result"
    }
   ],
   "source": [
    "factBook['Population'].describe()"
   ]
  },
  {
   "cell_type": "code",
   "execution_count": 77,
   "metadata": {
    "scrolled": false
   },
   "outputs": [
    {
     "data": {
      "text/plain": [
       "([0, 1, 2, 3, 4, 5, 6, 7, 8, 9, 10, 11, 12, 13, 14, 15, 16, 17, 18, 19],\n",
       " <a list of 20 Text xticklabel objects>)"
      ]
     },
     "execution_count": 77,
     "metadata": {},
     "output_type": "execute_result"
    },
    {
     "data": {
      "image/png": "[encoded data removed]",
      "text/plain": [
       "<Figure size 432x288 with 1 Axes>"
      ]
     },
     "metadata": {},
     "output_type": "display_data"
    }
   ],
   "source": [
    "#Plot Population data for selected countries\n",
    "plt.bar(factBook['Country'],factBook['Population'])\n",
    "plt.xticks(rotation=90)"
   ]
  },
  {
   "cell_type": "markdown",
   "metadata": {},
   "source": [
    "__As we see from the statistics and the plot India's population compared to the other countries is very large. In our future analysis while we are grouping the countries per population and check the relationship between the news topics that they are talking about, we can group the countries according to the order of magnitude of the population.__ "
   ]
  },
  {
   "cell_type": "markdown",
   "metadata": {},
   "source": [
    "### GDP per capita"
   ]
  },
  {
   "cell_type": "code",
   "execution_count": 78,
   "metadata": {},
   "outputs": [
    {
     "data": {
      "text/plain": [
       "count       20.000000\n",
       "mean     27365.000000\n",
       "std      26282.479155\n",
       "min       3100.000000\n",
       "25%       5700.000000\n",
       "50%      12200.000000\n",
       "75%      46850.000000\n",
       "max      87100.000000\n",
       "Name: GDP_per_capita, dtype: float64"
      ]
     },
     "execution_count": 78,
     "metadata": {},
     "output_type": "execute_result"
    }
   ],
   "source": [
    "factBook['GDP_per_capita'].describe()"
   ]
  },
  {
   "cell_type": "code",
   "execution_count": 79,
   "metadata": {
    "scrolled": true
   },
   "outputs": [
    {
     "data": {
      "text/plain": [
       "Text(0,0.5,'GDP_per_capita')"
      ]
     },
     "execution_count": 79,
     "metadata": {},
     "output_type": "execute_result"
    },
    {
     "data": {
      "image/png": "[encoded data removed]",
      "text/plain": [
       "<Figure size 432x288 with 1 Axes>"
      ]
     },
     "metadata": {},
     "output_type": "display_data"
    }
   ],
   "source": [
    "#Plot GDP per capita for selected countries\n",
    "plt.bar(factBook['Country'],factBook['GDP_per_capita'])\n",
    "plt.xticks(rotation=90)\n",
    "plt.ylabel('GDP_per_capita')"
   ]
  },
  {
   "cell_type": "markdown",
   "metadata": {},
   "source": [
    "__As we see from the statistics and the plot GDP per capita difference changes from 3100 to 87100. In this feature we can check the percentage of topics on the news vs GDP after normalizizng the GDP data. We can also group the countries by 25%, 50% and 75% percentiles values.__ "
   ]
  },
  {
   "cell_type": "markdown",
   "metadata": {},
   "source": [
    "### Unemployement Rate"
   ]
  },
  {
   "cell_type": "code",
   "execution_count": 80,
   "metadata": {},
   "outputs": [
    {
     "data": {
      "text/plain": [
       "0      4.7\n",
       "1        8\n",
       "2      5.8\n",
       "3      5.1\n",
       "4      7.1\n",
       "5      8.4\n",
       "6      5.1\n",
       "7     26.8\n",
       "8      4.5\n",
       "9      2.1\n",
       "10     6.6\n",
       "11     5.2\n",
       "12    23.9\n",
       "13      40\n",
       "14     3.6\n",
       "15    13.8\n",
       "16     6.7\n",
       "17     4.9\n",
       "18     3.3\n",
       "19      NA\n",
       "Name: Unemployment_rate, dtype: object"
      ]
     },
     "execution_count": 80,
     "metadata": {},
     "output_type": "execute_result"
    }
   ],
   "source": [
    "factBook['Unemployment_rate']"
   ]
  },
  {
   "cell_type": "code",
   "execution_count": 81,
   "metadata": {},
   "outputs": [],
   "source": [
    "# we have one missing value in Tanzania, we can find it from another source or remove this country from the analysis\n",
    "# for now, we provided the statistics and plots by excluding this specific country\n",
    "factBook['Unemployment_rate']=factBook['Unemployment_rate'].replace('NA','-1')\n",
    "factBook['Unemployment_rate']=factBook['Unemployment_rate'].astype('float')"
   ]
  },
  {
   "cell_type": "code",
   "execution_count": 82,
   "metadata": {},
   "outputs": [
    {
     "data": {
      "text/plain": [
       "count    19.000000\n",
       "mean      9.768421\n",
       "std       9.853372\n",
       "min       2.100000\n",
       "25%       4.800000\n",
       "50%       5.800000\n",
       "75%       8.200000\n",
       "max      40.000000\n",
       "Name: Unemployment_rate, dtype: float64"
      ]
     },
     "execution_count": 82,
     "metadata": {},
     "output_type": "execute_result"
    }
   ],
   "source": [
    "factBook[factBook['Unemployment_rate']!=-1]['Unemployment_rate'].describe()"
   ]
  },
  {
   "cell_type": "code",
   "execution_count": 83,
   "metadata": {},
   "outputs": [
    {
     "data": {
      "text/plain": [
       "Text(0,0.5,'Unemployement Rate %')"
      ]
     },
     "execution_count": 83,
     "metadata": {},
     "output_type": "execute_result"
    },
    {
     "data": {
      "image/png": "[encoded data removed]",
      "text/plain": [
       "<Figure size 432x288 with 1 Axes>"
      ]
     },
     "metadata": {},
     "output_type": "display_data"
    }
   ],
   "source": [
    "#Plot GDP per capita for selected countries except nan values\n",
    "plt.bar(factBook[factBook['Unemployment_rate']!=-1]['Country'],factBook[factBook['Unemployment_rate']!=-1]['Unemployment_rate'])\n",
    "plt.xticks(rotation=90)\n",
    "plt.ylabel('Unemployement Rate %')"
   ]
  },
  {
   "cell_type": "markdown",
   "metadata": {},
   "source": [
    "__Unemployement percentages of the countries changes from 2.1% to 40% of the population. In this data we have values from years ranging from 2006 to 2017. \n",
    "We will check if the values belong to earlier than 2015 is consistant or not from the Internet then update the results before correlating with the news data.__ "
   ]
  },
  {
   "cell_type": "markdown",
   "metadata": {},
   "source": [
    "### Birth Rate \n",
    "(the average annual number of births during a year per 1,000 persons in the population at midyear)"
   ]
  },
  {
   "cell_type": "code",
   "execution_count": 84,
   "metadata": {},
   "outputs": [],
   "source": [
    "factBook['Birth_rate']=factBook['Birth_rate'].astype('float')"
   ]
  },
  {
   "cell_type": "code",
   "execution_count": 85,
   "metadata": {},
   "outputs": [
    {
     "data": {
      "text/plain": [
       "count    20.000000\n",
       "mean     18.975000\n",
       "std       8.361055\n",
       "min       8.400000\n",
       "25%      12.400000\n",
       "50%      18.500000\n",
       "75%      22.725000\n",
       "max      37.300000\n",
       "Name: Birth_rate, dtype: float64"
      ]
     },
     "execution_count": 85,
     "metadata": {},
     "output_type": "execute_result"
    }
   ],
   "source": [
    "factBook['Birth_rate'].describe()"
   ]
  },
  {
   "cell_type": "code",
   "execution_count": 86,
   "metadata": {},
   "outputs": [
    {
     "data": {
      "text/plain": [
       "Text(0,0.5,'Birth Rate per 1000')"
      ]
     },
     "execution_count": 86,
     "metadata": {},
     "output_type": "execute_result"
    },
    {
     "data": {
      "image/png": "[encoded data removed]",
      "text/plain": [
       "<Figure size 432x288 with 1 Axes>"
      ]
     },
     "metadata": {},
     "output_type": "display_data"
    }
   ],
   "source": [
    "#Plot Birth_rate for selected countries number/1000\n",
    "plt.bar(factBook['Country'],factBook['Birth_rate'])\n",
    "plt.xticks(rotation=90)\n",
    "plt.ylabel('Birth Rate per 1000')"
   ]
  },
  {
   "cell_type": "markdown",
   "metadata": {},
   "source": [
    "### Sex ratio male/female"
   ]
  },
  {
   "cell_type": "code",
   "execution_count": 87,
   "metadata": {},
   "outputs": [],
   "source": [
    "factBook['Sex_ratio']=factBook['Sex_ratio'].astype('float')"
   ]
  },
  {
   "cell_type": "code",
   "execution_count": 88,
   "metadata": {},
   "outputs": [
    {
     "data": {
      "text/plain": [
       "count    20.000000\n",
       "mean      0.992000\n",
       "std       0.043359\n",
       "min       0.870000\n",
       "25%       0.970000\n",
       "50%       0.990000\n",
       "75%       1.010000\n",
       "max       1.080000\n",
       "Name: Sex_ratio, dtype: float64"
      ]
     },
     "execution_count": 88,
     "metadata": {},
     "output_type": "execute_result"
    }
   ],
   "source": [
    "factBook['Sex_ratio'].describe()"
   ]
  },
  {
   "cell_type": "code",
   "execution_count": 89,
   "metadata": {},
   "outputs": [
    {
     "data": {
      "text/plain": [
       "Text(0,0.5,'Sex_ratio (male/female)')"
      ]
     },
     "execution_count": 89,
     "metadata": {},
     "output_type": "execute_result"
    },
    {
     "data": {
      "image/png": "[encoded data removed]",
      "text/plain": [
       "<Figure size 432x288 with 1 Axes>"
      ]
     },
     "metadata": {},
     "output_type": "display_data"
    }
   ],
   "source": [
    "#Plot Sex_ratio (male/female) for selected countries populations\n",
    "plt.bar(factBook['Country'],factBook['Sex_ratio'])\n",
    "plt.xticks(rotation=90)\n",
    "plt.ylabel('Sex_ratio (male/female)')"
   ]
  },
  {
   "cell_type": "markdown",
   "metadata": {},
   "source": [
    "### Population below poverty line"
   ]
  },
  {
   "cell_type": "code",
   "execution_count": 90,
   "metadata": {},
   "outputs": [
    {
     "data": {
      "text/plain": [
       "0                         {'text': '15.1% (2010 est.)'}\n",
       "1                          {'text': '8.2% (2013 est.)'}\n",
       "2                                       {'text': 'NA%'}\n",
       "3                           {'text': '15% (2013 est.)'}\n",
       "4     {'text': '9.4%', 'note': {'text': 'this figure...\n",
       "5                         {'text': '29.8% (2010 est.)'}\n",
       "6                                       {'text': 'NA%'}\n",
       "7                         {'text': '35.9% (2012 est.)'}\n",
       "8                          {'text': '8.9% (2010 est.)'}\n",
       "9                                       {'text': 'NA%'}\n",
       "10                        {'text': '25.2% (2012 est.)'}\n",
       "11                        {'text': '24.2% (2013 est.)'}\n",
       "12                          {'text': '70% (2010 est.)'}\n",
       "13                        {'text': '43.4% (2012 est.)'}\n",
       "14                        {'text': '19.6% (2012 est.)'}\n",
       "15                        {'text': '16.5% (2009 est.)'}\n",
       "16                      {'text': '22.3% (FY2005 est.)'}\n",
       "17                        {'text': '31.5% (2010 est.)'}\n",
       "18                         {'text': '3.8% (2009 est.)'}\n",
       "19                        {'text': '67.9% (2011 est.)'}\n",
       "Name: Population_below_poverty_line, dtype: object"
      ]
     },
     "execution_count": 90,
     "metadata": {},
     "output_type": "execute_result"
    }
   ],
   "source": [
    "factBook['Population_below_poverty_line']"
   ]
  },
  {
   "cell_type": "markdown",
   "metadata": {},
   "source": [
    "Since the data time changes from 2005 to 2013 we decided not to use this feature of the data set to correlate with news data."
   ]
  },
  {
   "cell_type": "markdown",
   "metadata": {},
   "source": [
    "### Inflation rate (%)"
   ]
  },
  {
   "cell_type": "code",
   "execution_count": 91,
   "metadata": {},
   "outputs": [],
   "source": [
    "factBook['Inflation_rate']=factBook['Inflation_rate'].astype('float')"
   ]
  },
  {
   "cell_type": "code",
   "execution_count": 92,
   "metadata": {},
   "outputs": [
    {
     "data": {
      "text/plain": [
       "count    20.000000\n",
       "mean      4.185000\n",
       "std       4.754198\n",
       "min      -0.800000\n",
       "25%       1.375000\n",
       "50%       2.550000\n",
       "75%       5.600000\n",
       "max      17.800000\n",
       "Name: Inflation_rate, dtype: float64"
      ]
     },
     "execution_count": 92,
     "metadata": {},
     "output_type": "execute_result"
    }
   ],
   "source": [
    "factBook['Inflation_rate'].describe()"
   ]
  },
  {
   "cell_type": "code",
   "execution_count": 93,
   "metadata": {},
   "outputs": [
    {
     "data": {
      "text/plain": [
       "Text(0,0.5,'Inflation_rate (%)')"
      ]
     },
     "execution_count": 93,
     "metadata": {},
     "output_type": "execute_result"
    },
    {
     "data": {
      "image/png": "[encoded data removed]",
      "text/plain": [
       "<Figure size 432x288 with 1 Axes>"
      ]
     },
     "metadata": {},
     "output_type": "display_data"
    }
   ],
   "source": [
    "#Plot Inflation_rate (%) for selected countries \n",
    "plt.bar(factBook['Country'],factBook['Inflation_rate'])\n",
    "plt.xticks(rotation=90)\n",
    "plt.ylabel('Inflation_rate (%)')"
   ]
  },
  {
   "cell_type": "markdown",
   "metadata": {},
   "source": [
    "### Percentage of Electricity from renewable sources"
   ]
  },
  {
   "cell_type": "code",
   "execution_count": 94,
   "metadata": {},
   "outputs": [],
   "source": [
    "factBook['Electricity_renewable_sources']=factBook['Electricity_renewable_sources'].astype('float')"
   ]
  },
  {
   "cell_type": "code",
   "execution_count": 95,
   "metadata": {},
   "outputs": [
    {
     "data": {
      "text/plain": [
       "count    20.000000\n",
       "mean      6.435000\n",
       "std       6.887385\n",
       "min       0.000000\n",
       "25%       0.625000\n",
       "50%       4.900000\n",
       "75%      11.375000\n",
       "max      25.000000\n",
       "Name: Electricity_renewable_sources, dtype: float64"
      ]
     },
     "execution_count": 95,
     "metadata": {},
     "output_type": "execute_result"
    }
   ],
   "source": [
    "factBook['Electricity_renewable_sources'].describe()"
   ]
  },
  {
   "cell_type": "code",
   "execution_count": 96,
   "metadata": {},
   "outputs": [
    {
     "data": {
      "text/plain": [
       "Text(0,0.5,'Electricity from renewable sources (%)')"
      ]
     },
     "execution_count": 96,
     "metadata": {},
     "output_type": "execute_result"
    },
    {
     "data": {
      "image/png": "[encoded data removed]",
      "text/plain": [
       "<Figure size 432x288 with 1 Axes>"
      ]
     },
     "metadata": {},
     "output_type": "display_data"
    }
   ],
   "source": [
    "#Plot Percentage of Electricity from renewable sources¶ (%) for selected countries \n",
    "plt.bar(factBook['Country'],factBook['Electricity_renewable_sources'])\n",
    "plt.xticks(rotation=90)\n",
    "plt.ylabel('Electricity from renewable sources (%)')"
   ]
  },
  {
   "cell_type": "markdown",
   "metadata": {},
   "source": [
    "### Carbon dioxide emissions from consumption of energy\n",
    "\n",
    "(This entry is the total amount of carbon dioxide, measured in metric tons, released by burning fossil fuels in the process of producing and consuming energy.)"
   ]
  },
  {
   "cell_type": "code",
   "execution_count": 97,
   "metadata": {},
   "outputs": [],
   "source": [
    "factBook['Carbon_dioxide_emissions']=factBook['Carbon_dioxide_emissions'].astype('float')"
   ]
  },
  {
   "cell_type": "code",
   "execution_count": 98,
   "metadata": {},
   "outputs": [],
   "source": [
    "factBook.loc[factBook['Carbon_dioxide_emissions']<6,'Carbon_dioxide_emissions']= factBook[factBook['Carbon_dioxide_emissions']<6]['Carbon_dioxide_emissions']*1000"
   ]
  },
  {
   "cell_type": "code",
   "execution_count": 99,
   "metadata": {},
   "outputs": [
    {
     "data": {
      "text/plain": [
       "count      20.000000\n",
       "mean      516.615000\n",
       "std      1226.249218\n",
       "min        10.000000\n",
       "25%        29.500000\n",
       "50%        93.500000\n",
       "75%       409.250000\n",
       "max      5402.000000\n",
       "Name: Carbon_dioxide_emissions, dtype: float64"
      ]
     },
     "execution_count": 99,
     "metadata": {},
     "output_type": "execute_result"
    }
   ],
   "source": [
    "factBook['Carbon_dioxide_emissions'].describe()"
   ]
  },
  {
   "cell_type": "code",
   "execution_count": 100,
   "metadata": {},
   "outputs": [
    {
     "data": {
      "text/plain": [
       "Text(0,0.5,'Carbon dioxide emissions from consumption of energy in metric tons')"
      ]
     },
     "execution_count": 100,
     "metadata": {},
     "output_type": "execute_result"
    },
    {
     "data": {
      "image/png": "[encoded data removed]",
      "text/plain": [
       "<Figure size 432x288 with 1 Axes>"
      ]
     },
     "metadata": {},
     "output_type": "display_data"
    }
   ],
   "source": [
    "#Plot Carbon dioxide emissions from consumption of energy in metric tons for selected countries \n",
    "plt.bar(factBook['Country'],factBook['Carbon_dioxide_emissions'])\n",
    "plt.xticks(rotation=90)\n",
    "plt.ylabel('Carbon dioxide emissions from consumption of energy in metric tons')"
   ]
  },
  {
   "cell_type": "markdown",
   "metadata": {},
   "source": [
    "As we see there are two countries having very large amount of co2 emission compared to the others. We can see the correlations between percentage of news on environmental issues vs co2 emmision."
   ]
  },
  {
   "cell_type": "markdown",
   "metadata": {},
   "source": [
    "### Internet users\n",
    "\n",
    "The percent of population with Internet access (i.e., the penetration rate) helps gauge how widespread Internet use is within a country. Statistics vary from country to country and may include users who access the Internet at least several times a week to those who access it only once within a period of several months"
   ]
  },
  {
   "cell_type": "code",
   "execution_count": 21,
   "metadata": {},
   "outputs": [],
   "source": [
    "factBook['Internet_users']=factBook['Internet_users'].astype('float')"
   ]
  },
  {
   "cell_type": "code",
   "execution_count": 22,
   "metadata": {},
   "outputs": [
    {
     "data": {
      "text/plain": [
       "count    20.000000\n",
       "mean     54.615000\n",
       "std      28.845966\n",
       "min       5.400000\n",
       "25%      29.000000\n",
       "50%      49.650000\n",
       "75%      82.725000\n",
       "max      92.000000\n",
       "Name: Internet_users, dtype: float64"
      ]
     },
     "execution_count": 22,
     "metadata": {},
     "output_type": "execute_result"
    }
   ],
   "source": [
    "factBook['Internet_users'].describe()"
   ]
  },
  {
   "cell_type": "code",
   "execution_count": 23,
   "metadata": {},
   "outputs": [
    {
     "data": {
      "text/plain": [
       "Text(0,0.5,'Internet User Percentage')"
      ]
     },
     "execution_count": 23,
     "metadata": {},
     "output_type": "execute_result"
    },
    {
     "data": {
      "image/png": "[encoded data removed]",
      "text/plain": [
       "<Figure size 432x288 with 1 Axes>"
      ]
     },
     "metadata": {},
     "output_type": "display_data"
    }
   ],
   "source": [
    "#Plot Internet User percentage for selected countries \n",
    "plt.bar(factBook['Country'],factBook['Internet_users'])\n",
    "plt.xticks(rotation=90)\n",
    "plt.ylabel('Internet User Percentage')"
   ]
  },
  {
   "cell_type": "markdown",
   "metadata": {},
   "source": [
    "As we se from the above plot we can divide the internet user groups to above %80, between %50-80, and below %50. Then we can correlate this data with news topic of corresponding country group. It can also be compared to number of news resourse data."
   ]
  },
  {
   "cell_type": "code",
   "execution_count": 25,
   "metadata": {},
   "outputs": [],
   "source": [
    "rate=factBook[['Country','Internet_users']]"
   ]
  },
  {
   "cell_type": "code",
   "execution_count": 26,
   "metadata": {},
   "outputs": [
    {
     "data": {
      "text/html": [
       "<div>\n",
       "<style scoped>\n",
       "    .dataframe tbody tr th:only-of-type {\n",
       "        vertical-align: middle;\n",
       "    }\n",
       "\n",
       "    .dataframe tbody tr th {\n",
       "        vertical-align: top;\n",
       "    }\n",
       "\n",
       "    .dataframe thead th {\n",
       "        text-align: right;\n",
       "    }\n",
       "</style>\n",
       "<table border=\"1\" class=\"dataframe\">\n",
       "  <thead>\n",
       "    <tr style=\"text-align: right;\">\n",
       "      <th></th>\n",
       "      <th>Country</th>\n",
       "      <th>Internet_users</th>\n",
       "    </tr>\n",
       "  </thead>\n",
       "  <tbody>\n",
       "    <tr>\n",
       "      <th>0</th>\n",
       "      <td>United States</td>\n",
       "      <td>74.6</td>\n",
       "    </tr>\n",
       "    <tr>\n",
       "      <th>1</th>\n",
       "      <td>Ireland</td>\n",
       "      <td>80.1</td>\n",
       "    </tr>\n",
       "    <tr>\n",
       "      <th>2</th>\n",
       "      <td>Australia</td>\n",
       "      <td>84.6</td>\n",
       "    </tr>\n",
       "    <tr>\n",
       "      <th>3</th>\n",
       "      <td>United Kingdom</td>\n",
       "      <td>92.0</td>\n",
       "    </tr>\n",
       "    <tr>\n",
       "      <th>4</th>\n",
       "      <td>Canada</td>\n",
       "      <td>88.5</td>\n",
       "    </tr>\n",
       "    <tr>\n",
       "      <th>5</th>\n",
       "      <td>India</td>\n",
       "      <td>26.0</td>\n",
       "    </tr>\n",
       "    <tr>\n",
       "      <th>6</th>\n",
       "      <td>New Zealand</td>\n",
       "      <td>88.2</td>\n",
       "    </tr>\n",
       "    <tr>\n",
       "      <th>7</th>\n",
       "      <td>South Africa</td>\n",
       "      <td>51.9</td>\n",
       "    </tr>\n",
       "    <tr>\n",
       "      <th>8</th>\n",
       "      <td>Sri Lanka</td>\n",
       "      <td>30.0</td>\n",
       "    </tr>\n",
       "    <tr>\n",
       "      <th>9</th>\n",
       "      <td>Singapore</td>\n",
       "      <td>82.1</td>\n",
       "    </tr>\n",
       "    <tr>\n",
       "      <th>10</th>\n",
       "      <td>Philippines</td>\n",
       "      <td>40.7</td>\n",
       "    </tr>\n",
       "    <tr>\n",
       "      <th>11</th>\n",
       "      <td>Ghana</td>\n",
       "      <td>23.5</td>\n",
       "    </tr>\n",
       "    <tr>\n",
       "      <th>12</th>\n",
       "      <td>Nigeria</td>\n",
       "      <td>47.4</td>\n",
       "    </tr>\n",
       "    <tr>\n",
       "      <th>13</th>\n",
       "      <td>Kenya</td>\n",
       "      <td>45.6</td>\n",
       "    </tr>\n",
       "    <tr>\n",
       "      <th>14</th>\n",
       "      <td>Hong Kong</td>\n",
       "      <td>85.0</td>\n",
       "    </tr>\n",
       "    <tr>\n",
       "      <th>15</th>\n",
       "      <td>Jamaica</td>\n",
       "      <td>43.2</td>\n",
       "    </tr>\n",
       "    <tr>\n",
       "      <th>16</th>\n",
       "      <td>Pakistan</td>\n",
       "      <td>18.0</td>\n",
       "    </tr>\n",
       "    <tr>\n",
       "      <th>17</th>\n",
       "      <td>Bangladesh</td>\n",
       "      <td>14.4</td>\n",
       "    </tr>\n",
       "    <tr>\n",
       "      <th>18</th>\n",
       "      <td>Malaysia</td>\n",
       "      <td>71.1</td>\n",
       "    </tr>\n",
       "    <tr>\n",
       "      <th>19</th>\n",
       "      <td>Tanzania</td>\n",
       "      <td>5.4</td>\n",
       "    </tr>\n",
       "  </tbody>\n",
       "</table>\n",
       "</div>"
      ],
      "text/plain": [
       "           Country  Internet_users\n",
       "0    United States            74.6\n",
       "1          Ireland            80.1\n",
       "2        Australia            84.6\n",
       "3   United Kingdom            92.0\n",
       "4           Canada            88.5\n",
       "5            India            26.0\n",
       "6      New Zealand            88.2\n",
       "7     South Africa            51.9\n",
       "8        Sri Lanka            30.0\n",
       "9        Singapore            82.1\n",
       "10     Philippines            40.7\n",
       "11           Ghana            23.5\n",
       "12         Nigeria            47.4\n",
       "13           Kenya            45.6\n",
       "14       Hong Kong            85.0\n",
       "15         Jamaica            43.2\n",
       "16        Pakistan            18.0\n",
       "17      Bangladesh            14.4\n",
       "18        Malaysia            71.1\n",
       "19        Tanzania             5.4"
      ]
     },
     "execution_count": 26,
     "metadata": {},
     "output_type": "execute_result"
    }
   ],
   "source": [
    "rate"
   ]
  },
  {
   "cell_type": "code",
   "execution_count": 30,
   "metadata": {},
   "outputs": [],
   "source": [
    "rate.to_csv('./Data/rate.csv',index=False)"
   ]
  }
 ],
 "metadata": {
  "kernelspec": {
   "display_name": "Python 3",
   "language": "python",
   "name": "python3"
  },
  "language_info": {
   "codemirror_mode": {
    "name": "ipython",
    "version": 3
   },
   "file_extension": ".py",
   "mimetype": "text/x-python",
   "name": "python",
   "nbconvert_exporter": "python",
   "pygments_lexer": "ipython3",
   "version": "3.6.5"
  }
 },
 "nbformat": 4,
 "nbformat_minor": 2
}
