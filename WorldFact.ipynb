{
 "cells": [
  {
   "cell_type": "code",
   "execution_count": 112,
   "metadata": {},
   "outputs": [],
   "source": [
    "# Add your imports here\n",
    "%matplotlib inline\n",
    "import pandas as pd\n",
    "import numpy as np\n",
    "import matplotlib.pyplot as plt\n",
    "import matplotlib as mlb\n",
    "import seaborn as sns\n",
    "from datetime import datetime, date, time\n",
    "from dateutil.parser import parse"
   ]
  },
  {
   "cell_type": "code",
   "execution_count": 113,
   "metadata": {},
   "outputs": [],
   "source": [
    "DATA_FOLDER = './Data'"
   ]
  },
  {
   "cell_type": "code",
   "execution_count": 114,
   "metadata": {},
   "outputs": [],
   "source": [
    "country_List=['US', 'IE' ,'AU' ,'GB' ,'CA', 'IN' ,'NZ' ,'ZA', 'LK', 'SG', 'PH' ,'GH', 'NG', 'KE',\n",
    " 'HK', 'JM', 'PK' ,'BD', 'MY' ,'TZ']\n",
    "country_List=[x.lower() for x in country_List]"
   ]
  },
  {
   "cell_type": "code",
   "execution_count": 115,
   "metadata": {},
   "outputs": [
    {
     "data": {
      "text/plain": [
       "20"
      ]
     },
     "execution_count": 115,
     "metadata": {},
     "output_type": "execute_result"
    }
   ],
   "source": [
    "len(country_List)"
   ]
  },
  {
   "cell_type": "code",
   "execution_count": 116,
   "metadata": {},
   "outputs": [],
   "source": [
    "import os\n",
    "folders_list=os.listdir(DATA_FOLDER+\"/factbook.json\")"
   ]
  },
  {
   "cell_type": "code",
   "execution_count": 117,
   "metadata": {},
   "outputs": [
    {
     "data": {
      "text/plain": [
       "['README.md',\n",
       " 'south-america',\n",
       " 'package.json',\n",
       " 'oceans',\n",
       " 'world',\n",
       " 'ALMANAC.md',\n",
       " 'south-asia',\n",
       " '.git',\n",
       " 'NOTES.md',\n",
       " 'australia-oceania',\n",
       " 'MONGO.md',\n",
       " 'europe',\n",
       " 'central-asia',\n",
       " 'central-america-n-caribbean',\n",
       " 'north-america',\n",
       " 'LICENSE.md',\n",
       " 'middle-east',\n",
       " 'africa',\n",
       " 'meta',\n",
       " 'SUMMARY.md',\n",
       " 'antarctica',\n",
       " 'east-n-southeast-asia']"
      ]
     },
     "execution_count": 117,
     "metadata": {},
     "output_type": "execute_result"
    }
   ],
   "source": [
    "folders_list"
   ]
  },
  {
   "cell_type": "code",
   "execution_count": 118,
   "metadata": {},
   "outputs": [
    {
     "data": {
      "text/plain": [
       "[(1, 22)]"
      ]
     },
     "execution_count": 118,
     "metadata": {},
     "output_type": "execute_result"
    }
   ],
   "source": [
    "[(1,len(folders_list))]"
   ]
  },
  {
   "cell_type": "code",
   "execution_count": 120,
   "metadata": {},
   "outputs": [
    {
     "data": {
      "text/plain": [
       "['./Data/factbook.json/south-america/ci.json',\n",
       " './Data/factbook.json/south-america/bl.json',\n",
       " './Data/factbook.json/south-america/pa.json',\n",
       " './Data/factbook.json/south-america/co.json',\n",
       " './Data/factbook.json/south-america/ns.json',\n",
       " './Data/factbook.json/south-america/gy.json',\n",
       " './Data/factbook.json/south-america/ve.json',\n",
       " './Data/factbook.json/south-america/uy.json',\n",
       " './Data/factbook.json/south-america/br.json',\n",
       " './Data/factbook.json/south-america/fk.json',\n",
       " './Data/factbook.json/south-america/ec.json',\n",
       " './Data/factbook.json/south-america/ar.json',\n",
       " './Data/factbook.json/south-america/sx.json',\n",
       " './Data/factbook.json/south-america/pe.json',\n",
       " './Data/factbook.json/oceans/zn.json',\n",
       " './Data/factbook.json/oceans/oo.json',\n",
       " './Data/factbook.json/oceans/zh.json',\n",
       " './Data/factbook.json/oceans/xq.json',\n",
       " './Data/factbook.json/oceans/xo.json',\n",
       " './Data/factbook.json/world/xx.json',\n",
       " './Data/factbook.json/south-asia/np.json',\n",
       " './Data/factbook.json/south-asia/io.json',\n",
       " './Data/factbook.json/south-asia/pk.json',\n",
       " './Data/factbook.json/south-asia/af.json',\n",
       " './Data/factbook.json/south-asia/bg.json',\n",
       " './Data/factbook.json/south-asia/in.json',\n",
       " './Data/factbook.json/south-asia/lk.json',\n",
       " './Data/factbook.json/south-asia/mv.json',\n",
       " './Data/factbook.json/south-asia/bt.json',\n",
       " './Data/factbook.json/australia-oceania/cr.json',\n",
       " './Data/factbook.json/australia-oceania/pc.json',\n",
       " './Data/factbook.json/australia-oceania/nh.json',\n",
       " './Data/factbook.json/australia-oceania/nc.json',\n",
       " './Data/factbook.json/australia-oceania/nr.json',\n",
       " './Data/factbook.json/australia-oceania/kr.json',\n",
       " './Data/factbook.json/australia-oceania/gq.json',\n",
       " './Data/factbook.json/australia-oceania/ck.json',\n",
       " './Data/factbook.json/australia-oceania/cq.json',\n",
       " './Data/factbook.json/australia-oceania/kt.json',\n",
       " './Data/factbook.json/australia-oceania/fj.json',\n",
       " './Data/factbook.json/australia-oceania/nf.json',\n",
       " './Data/factbook.json/australia-oceania/at.json',\n",
       " './Data/factbook.json/australia-oceania/fp.json',\n",
       " './Data/factbook.json/australia-oceania/nz.json',\n",
       " './Data/factbook.json/australia-oceania/as.json',\n",
       " './Data/factbook.json/australia-oceania/bp.json',\n",
       " './Data/factbook.json/australia-oceania/wf.json',\n",
       " './Data/factbook.json/australia-oceania/rm.json',\n",
       " './Data/factbook.json/australia-oceania/tv.json',\n",
       " './Data/factbook.json/australia-oceania/fm.json',\n",
       " './Data/factbook.json/australia-oceania/cw.json',\n",
       " './Data/factbook.json/australia-oceania/ne.json',\n",
       " './Data/factbook.json/australia-oceania/aq.json',\n",
       " './Data/factbook.json/australia-oceania/um.json',\n",
       " './Data/factbook.json/australia-oceania/wq.json',\n",
       " './Data/factbook.json/australia-oceania/ps.json',\n",
       " './Data/factbook.json/australia-oceania/tl.json',\n",
       " './Data/factbook.json/australia-oceania/ws.json',\n",
       " './Data/factbook.json/australia-oceania/tn.json',\n",
       " './Data/factbook.json/europe/uk.json',\n",
       " './Data/factbook.json/europe/sp.json',\n",
       " './Data/factbook.json/europe/be.json',\n",
       " './Data/factbook.json/europe/an.json',\n",
       " './Data/factbook.json/europe/lu.json',\n",
       " './Data/factbook.json/europe/ro.json',\n",
       " './Data/factbook.json/europe/en.json',\n",
       " './Data/factbook.json/europe/da.json',\n",
       " './Data/factbook.json/europe/bo.json',\n",
       " './Data/factbook.json/europe/ee.json',\n",
       " './Data/factbook.json/europe/sv.json',\n",
       " './Data/factbook.json/europe/kv.json',\n",
       " './Data/factbook.json/europe/mn.json',\n",
       " './Data/factbook.json/europe/cy.json',\n",
       " './Data/factbook.json/europe/hu.json',\n",
       " './Data/factbook.json/europe/fi.json',\n",
       " './Data/factbook.json/europe/au.json',\n",
       " './Data/factbook.json/europe/mt.json',\n",
       " './Data/factbook.json/europe/sm.json',\n",
       " './Data/factbook.json/europe/gr.json',\n",
       " './Data/factbook.json/europe/md.json',\n",
       " './Data/factbook.json/europe/pl.json',\n",
       " './Data/factbook.json/europe/dx.json',\n",
       " './Data/factbook.json/europe/bu.json',\n",
       " './Data/factbook.json/europe/al.json',\n",
       " './Data/factbook.json/europe/up.json',\n",
       " './Data/factbook.json/europe/vt.json',\n",
       " './Data/factbook.json/europe/gi.json',\n",
       " './Data/factbook.json/europe/gk.json',\n",
       " './Data/factbook.json/europe/ri.json',\n",
       " './Data/factbook.json/europe/lg.json',\n",
       " './Data/factbook.json/europe/lo.json',\n",
       " './Data/factbook.json/europe/im.json',\n",
       " './Data/factbook.json/europe/jn.json',\n",
       " './Data/factbook.json/europe/sw.json',\n",
       " './Data/factbook.json/europe/hr.json',\n",
       " './Data/factbook.json/europe/it.json',\n",
       " './Data/factbook.json/europe/sz.json',\n",
       " './Data/factbook.json/europe/je.json',\n",
       " './Data/factbook.json/europe/mj.json',\n",
       " './Data/factbook.json/europe/bk.json',\n",
       " './Data/factbook.json/europe/gm.json',\n",
       " './Data/factbook.json/europe/ez.json',\n",
       " './Data/factbook.json/europe/fr.json',\n",
       " './Data/factbook.json/europe/ax.json',\n",
       " './Data/factbook.json/europe/ei.json',\n",
       " './Data/factbook.json/europe/ls.json',\n",
       " './Data/factbook.json/europe/lh.json',\n",
       " './Data/factbook.json/europe/ic.json',\n",
       " './Data/factbook.json/europe/no.json',\n",
       " './Data/factbook.json/europe/po.json',\n",
       " './Data/factbook.json/europe/si.json',\n",
       " './Data/factbook.json/europe/mk.json',\n",
       " './Data/factbook.json/europe/nl.json',\n",
       " './Data/factbook.json/europe/fo.json',\n",
       " './Data/factbook.json/central-asia/kg.json',\n",
       " './Data/factbook.json/central-asia/ti.json',\n",
       " './Data/factbook.json/central-asia/uz.json',\n",
       " './Data/factbook.json/central-asia/kz.json',\n",
       " './Data/factbook.json/central-asia/tx.json',\n",
       " './Data/factbook.json/central-asia/rs.json',\n",
       " './Data/factbook.json/central-america-n-caribbean/ac.json',\n",
       " './Data/factbook.json/central-america-n-caribbean/jm.json',\n",
       " './Data/factbook.json/central-america-n-caribbean/bb.json',\n",
       " './Data/factbook.json/central-america-n-caribbean/vi.json',\n",
       " './Data/factbook.json/central-america-n-caribbean/dr.json',\n",
       " './Data/factbook.json/central-america-n-caribbean/td.json',\n",
       " './Data/factbook.json/central-america-n-caribbean/ho.json',\n",
       " './Data/factbook.json/central-america-n-caribbean/st.json',\n",
       " './Data/factbook.json/central-america-n-caribbean/tk.json',\n",
       " './Data/factbook.json/central-america-n-caribbean/rq.json',\n",
       " './Data/factbook.json/central-america-n-caribbean/vc.json',\n",
       " './Data/factbook.json/central-america-n-caribbean/cj.json',\n",
       " './Data/factbook.json/central-america-n-caribbean/cu.json',\n",
       " './Data/factbook.json/central-america-n-caribbean/bh.json',\n",
       " './Data/factbook.json/central-america-n-caribbean/rn.json',\n",
       " './Data/factbook.json/central-america-n-caribbean/bf.json',\n",
       " './Data/factbook.json/central-america-n-caribbean/av.json',\n",
       " './Data/factbook.json/central-america-n-caribbean/tb.json',\n",
       " './Data/factbook.json/central-america-n-caribbean/vq.json',\n",
       " './Data/factbook.json/central-america-n-caribbean/ha.json',\n",
       " './Data/factbook.json/central-america-n-caribbean/gj.json',\n",
       " './Data/factbook.json/central-america-n-caribbean/es.json',\n",
       " './Data/factbook.json/central-america-n-caribbean/pm.json',\n",
       " './Data/factbook.json/central-america-n-caribbean/aa.json',\n",
       " './Data/factbook.json/central-america-n-caribbean/nu.json',\n",
       " './Data/factbook.json/central-america-n-caribbean/cs.json',\n",
       " './Data/factbook.json/central-america-n-caribbean/do.json',\n",
       " './Data/factbook.json/central-america-n-caribbean/sc.json',\n",
       " './Data/factbook.json/central-america-n-caribbean/gt.json',\n",
       " './Data/factbook.json/central-america-n-caribbean/mh.json',\n",
       " './Data/factbook.json/central-america-n-caribbean/bq.json',\n",
       " './Data/factbook.json/central-america-n-caribbean/sk.json',\n",
       " './Data/factbook.json/central-america-n-caribbean/cc.json',\n",
       " './Data/factbook.json/north-america/ip.json',\n",
       " './Data/factbook.json/north-america/ca.json',\n",
       " './Data/factbook.json/north-america/mx.json',\n",
       " './Data/factbook.json/north-america/gl.json',\n",
       " './Data/factbook.json/north-america/us.json',\n",
       " './Data/factbook.json/north-america/sb.json',\n",
       " './Data/factbook.json/north-america/bd.json',\n",
       " './Data/factbook.json/middle-east/aj.json',\n",
       " './Data/factbook.json/middle-east/qa.json',\n",
       " './Data/factbook.json/middle-east/gg.json',\n",
       " './Data/factbook.json/middle-east/jo.json',\n",
       " './Data/factbook.json/middle-east/tu.json',\n",
       " './Data/factbook.json/middle-east/we.json',\n",
       " './Data/factbook.json/middle-east/ir.json',\n",
       " './Data/factbook.json/middle-east/sy.json',\n",
       " './Data/factbook.json/middle-east/ae.json',\n",
       " './Data/factbook.json/middle-east/mu.json',\n",
       " './Data/factbook.json/middle-east/is.json',\n",
       " './Data/factbook.json/middle-east/le.json',\n",
       " './Data/factbook.json/middle-east/ba.json',\n",
       " './Data/factbook.json/middle-east/sa.json',\n",
       " './Data/factbook.json/middle-east/iz.json',\n",
       " './Data/factbook.json/middle-east/ym.json',\n",
       " './Data/factbook.json/middle-east/ku.json',\n",
       " './Data/factbook.json/middle-east/gz.json',\n",
       " './Data/factbook.json/middle-east/am.json',\n",
       " './Data/factbook.json/africa/by.json',\n",
       " './Data/factbook.json/africa/za.json',\n",
       " './Data/factbook.json/africa/ek.json',\n",
       " './Data/factbook.json/africa/eg.json',\n",
       " './Data/factbook.json/africa/sf.json',\n",
       " './Data/factbook.json/africa/od.json',\n",
       " './Data/factbook.json/africa/sl.json',\n",
       " './Data/factbook.json/africa/tp.json',\n",
       " './Data/factbook.json/africa/dj.json',\n",
       " './Data/factbook.json/africa/er.json',\n",
       " './Data/factbook.json/africa/gh.json',\n",
       " './Data/factbook.json/africa/ni.json',\n",
       " './Data/factbook.json/africa/pu.json',\n",
       " './Data/factbook.json/africa/et.json',\n",
       " './Data/factbook.json/africa/wi.json',\n",
       " './Data/factbook.json/africa/cd.json',\n",
       " './Data/factbook.json/africa/ug.json',\n",
       " './Data/factbook.json/africa/uv.json',\n",
       " './Data/factbook.json/africa/se.json',\n",
       " './Data/factbook.json/africa/rw.json',\n",
       " './Data/factbook.json/africa/ma.json',\n",
       " './Data/factbook.json/africa/so.json',\n",
       " './Data/factbook.json/africa/bn.json',\n",
       " './Data/factbook.json/africa/mi.json',\n",
       " './Data/factbook.json/africa/li.json',\n",
       " './Data/factbook.json/africa/ly.json',\n",
       " './Data/factbook.json/africa/su.json',\n",
       " './Data/factbook.json/africa/sh.json',\n",
       " './Data/factbook.json/africa/iv.json',\n",
       " './Data/factbook.json/africa/wz.json',\n",
       " './Data/factbook.json/africa/mp.json',\n",
       " './Data/factbook.json/africa/tz.json',\n",
       " './Data/factbook.json/africa/bc.json',\n",
       " './Data/factbook.json/africa/gv.json',\n",
       " './Data/factbook.json/africa/ct.json',\n",
       " './Data/factbook.json/africa/ts.json',\n",
       " './Data/factbook.json/africa/cf.json',\n",
       " './Data/factbook.json/africa/cm.json',\n",
       " './Data/factbook.json/africa/ke.json',\n",
       " './Data/factbook.json/africa/sg.json',\n",
       " './Data/factbook.json/africa/ng.json',\n",
       " './Data/factbook.json/africa/ag.json',\n",
       " './Data/factbook.json/africa/mz.json',\n",
       " './Data/factbook.json/africa/ml.json',\n",
       " './Data/factbook.json/africa/mo.json',\n",
       " './Data/factbook.json/africa/cn.json',\n",
       " './Data/factbook.json/africa/lt.json',\n",
       " './Data/factbook.json/africa/wa.json',\n",
       " './Data/factbook.json/africa/cg.json',\n",
       " './Data/factbook.json/africa/to.json',\n",
       " './Data/factbook.json/africa/zi.json',\n",
       " './Data/factbook.json/africa/mr.json',\n",
       " './Data/factbook.json/africa/gb.json',\n",
       " './Data/factbook.json/africa/cv.json',\n",
       " './Data/factbook.json/africa/ga.json',\n",
       " './Data/factbook.json/africa/ao.json',\n",
       " './Data/factbook.json/meta/categories.json',\n",
       " './Data/factbook.json/antarctica/hm.json',\n",
       " './Data/factbook.json/antarctica/fs.json',\n",
       " './Data/factbook.json/antarctica/ay.json',\n",
       " './Data/factbook.json/antarctica/bv.json',\n",
       " './Data/factbook.json/east-n-southeast-asia/ks.json',\n",
       " './Data/factbook.json/east-n-southeast-asia/la.json',\n",
       " './Data/factbook.json/east-n-southeast-asia/vm.json',\n",
       " './Data/factbook.json/east-n-southeast-asia/kn.json',\n",
       " './Data/factbook.json/east-n-southeast-asia/pp.json',\n",
       " './Data/factbook.json/east-n-southeast-asia/ch.json',\n",
       " './Data/factbook.json/east-n-southeast-asia/mg.json',\n",
       " './Data/factbook.json/east-n-southeast-asia/ph.json',\n",
       " './Data/factbook.json/east-n-southeast-asia/sn.json',\n",
       " './Data/factbook.json/east-n-southeast-asia/bm.json',\n",
       " './Data/factbook.json/east-n-southeast-asia/tt.json',\n",
       " './Data/factbook.json/east-n-southeast-asia/ja.json',\n",
       " './Data/factbook.json/east-n-southeast-asia/my.json',\n",
       " './Data/factbook.json/east-n-southeast-asia/mc.json',\n",
       " './Data/factbook.json/east-n-southeast-asia/hk.json',\n",
       " './Data/factbook.json/east-n-southeast-asia/th.json',\n",
       " './Data/factbook.json/east-n-southeast-asia/tw.json',\n",
       " './Data/factbook.json/east-n-southeast-asia/pf.json',\n",
       " './Data/factbook.json/east-n-southeast-asia/cb.json',\n",
       " './Data/factbook.json/east-n-southeast-asia/bx.json',\n",
       " './Data/factbook.json/east-n-southeast-asia/id.json',\n",
       " './Data/factbook.json/east-n-southeast-asia/pg.json']"
      ]
     },
     "execution_count": 120,
     "metadata": {},
     "output_type": "execute_result"
    }
   ],
   "source": [
    "import glob\n",
    "countryData_List=glob.glob(DATA_FOLDER+\"/factbook.json/*/*.json\")\n",
    "countryData_List"
   ]
  },
  {
   "cell_type": "code",
   "execution_count": 121,
   "metadata": {},
   "outputs": [
    {
     "name": "stdout",
     "output_type": "stream",
     "text": [
      "us\n",
      "ie\n",
      "au\n",
      "gb\n",
      "ca\n",
      "in\n",
      "nz\n",
      "za\n",
      "lk\n",
      "sg\n",
      "ph\n",
      "gh\n",
      "ng\n",
      "ke\n",
      "hk\n",
      "jm\n",
      "pk\n",
      "bd\n",
      "my\n",
      "tz\n"
     ]
    }
   ],
   "source": [
    "ourcountries=[]\n",
    "for i in country_List:\n",
    "    for j in countryData_List:\n",
    "        if i in j[len(j)-8:]:\n",
    "            ourcountries.append(j)\n",
    "            print(i)\n",
    "       "
   ]
  },
  {
   "cell_type": "code",
   "execution_count": 123,
   "metadata": {},
   "outputs": [
    {
     "data": {
      "text/plain": [
       "['./Data/factbook.json/north-america/us.json',\n",
       " './Data/factbook.json/meta/categories.json',\n",
       " './Data/factbook.json/europe/au.json',\n",
       " './Data/factbook.json/africa/gb.json',\n",
       " './Data/factbook.json/north-america/ca.json',\n",
       " './Data/factbook.json/south-asia/in.json',\n",
       " './Data/factbook.json/australia-oceania/nz.json',\n",
       " './Data/factbook.json/africa/za.json',\n",
       " './Data/factbook.json/south-asia/lk.json',\n",
       " './Data/factbook.json/africa/sg.json',\n",
       " './Data/factbook.json/east-n-southeast-asia/ph.json',\n",
       " './Data/factbook.json/africa/gh.json',\n",
       " './Data/factbook.json/africa/ng.json',\n",
       " './Data/factbook.json/africa/ke.json',\n",
       " './Data/factbook.json/east-n-southeast-asia/hk.json',\n",
       " './Data/factbook.json/central-america-n-caribbean/jm.json',\n",
       " './Data/factbook.json/south-asia/pk.json',\n",
       " './Data/factbook.json/north-america/bd.json',\n",
       " './Data/factbook.json/east-n-southeast-asia/my.json',\n",
       " './Data/factbook.json/africa/tz.json']"
      ]
     },
     "execution_count": 123,
     "metadata": {},
     "output_type": "execute_result"
    }
   ],
   "source": [
    "ourcountries"
   ]
  },
  {
   "cell_type": "code",
   "execution_count": 24,
   "metadata": {},
   "outputs": [
    {
     "name": "stderr",
     "output_type": "stream",
     "text": [
      "/home/arzuguneysu/anaconda3/lib/python3.6/site-packages/ipykernel_launcher.py:2: FutureWarning: Sorting because non-concatenation axis is not aligned. A future version\n",
      "of pandas will change to not sort by default.\n",
      "\n",
      "To accept the future behavior, pass 'sort=True'.\n",
      "\n",
      "To retain the current behavior and silence the warning, pass sort=False\n",
      "\n",
      "  \n"
     ]
    }
   ],
   "source": [
    "import glob\n",
    "df = pd.concat([pd.read_json(f) for f in glob.glob(DATA_FOLDER+\"/factbook.json/*/*.json\")])"
   ]
  },
  {
   "cell_type": "code",
   "execution_count": 26,
   "metadata": {},
   "outputs": [],
   "source": [
    "country=pd.read_json(glob.glob(DATA_FOLDER+\"/factbook.json/*/ag.json\")[0])"
   ]
  },
  {
   "cell_type": "code",
   "execution_count": 103,
   "metadata": {},
   "outputs": [
    {
     "data": {
      "text/plain": [
       "['./Data/factbook.json/africa/ug.json']"
      ]
     },
     "execution_count": 103,
     "metadata": {},
     "output_type": "execute_result"
    }
   ],
   "source": [
    "glob.glob(DATA_FOLDER+\"/factbook.json/*/ug.json\")\n",
    "  "
   ]
  },
  {
   "cell_type": "code",
   "execution_count": 27,
   "metadata": {},
   "outputs": [
    {
     "data": {
      "text/plain": [
       "Natural hazards                 {'text': 'mountainous areas subject to severe ...\n",
       "Geographic coordinates                                {'text': '28 00 N, 3 00 E'}\n",
       "Land boundaries                 {'total': {'text': '6,734 km'}, 'border countr...\n",
       "Climate                         {'text': 'arid to semiarid; mild, wet winters ...\n",
       "Environment - current issues    {'text': 'soil erosion from overgrazing and ot...\n",
       "Name: Geography, dtype: object"
      ]
     },
     "execution_count": 27,
     "metadata": {},
     "output_type": "execute_result"
    }
   ],
   "source": [
    "country.Geography[{'Geographic coordinates','Land boundaries','Climate','Natural hazards','Environment - current issues'}]"
   ]
  },
  {
   "cell_type": "code",
   "execution_count": 28,
   "metadata": {},
   "outputs": [
    {
     "name": "stderr",
     "output_type": "stream",
     "text": [
      "/home/arzuguneysu/anaconda3/lib/python3.6/site-packages/pandas/core/series.py:850: FutureWarning: \n",
      "Passing list-likes to .loc or [] with any missing label will raise\n",
      "KeyError in the future, you can use .reindex() as an alternative.\n",
      "\n",
      "See the documentation here:\n",
      "https://pandas.pydata.org/pandas-docs/stable/indexing.html#deprecate-loc-reindex-listlike\n",
      "  return self.loc[key]\n"
     ]
    },
    {
     "data": {
      "text/plain": [
       "                                                                                 NaN\n",
       "Age structure                      {'0-14 years': {'text': '29.06% (male 5,991,16...\n",
       "Median age                         {'total': {'text': '27.8 years'}, 'male': {'te...\n",
       "Nationality                        {'noun': {'text': 'Algerian(s)'}, 'adjective':...\n",
       "Population growth rate                                 {'text': '1.77% (2016 est.)'}\n",
       "Sex ratio                          {'at birth': {'text': '1.05 male(s)/female'}, ...\n",
       "Obesity - adult prevalence rate                             {'text': '23.6% (2014)'}\n",
       "Literacy                           {'definition': {'text': 'age 15 and over can r...\n",
       "Death rate                         {'text': '4.3 deaths/1,000 population (2016 es...\n",
       "Net migration rate                 {'text': '-0.9 migrant(s)/1,000 population (20...\n",
       "Urbanization                       {'urban population': {'text': '70.7% of total ...\n",
       "Ethnic groups                      {'text': 'Arab-Berber 99%, European less than ...\n",
       "Religions                          {'text': 'Muslim (official; predominantly Sunn...\n",
       "Dependency ratios                  {'total dependency ratio': {'text': '52.6%'}, ...\n",
       "Birth rate                         {'text': '23 births/1,000 population (2016 est...\n",
       "Languages                          {'text': 'Arabic (official), French (lingua fr...\n",
       "Population                                   {'text': '40,263,711 (July 2016 est.)'}\n",
       "Health expenditures                                   {'text': '7.2% of GDP (2014)'}\n",
       "Unemployment, youth ages 15-24     {'total': {'text': '25.3%'}, 'male': {'text': ...\n",
       "Life expectancy at birth           {'total population': {'text': '76.8 years'}, '...\n",
       "Name: People and Society, dtype: object"
      ]
     },
     "execution_count": 28,
     "metadata": {},
     "output_type": "execute_result"
    }
   ],
   "source": [
    "country['People and Society'][{'Population','Nationality','Ethnic groups','Languages','Religions','Age structure',\n",
    "                               'Dependency ratios','Median age','Population growth rate','Birth rate','',\n",
    "                              'Death rate','Net migration rate','Urbanization','Sex ratio','Life expectancy at birth',\n",
    "                              'Health expenditures','Obesity - adult prevalence rate','Literacy','Unemployment, youth ages 15-24'}]"
   ]
  },
  {
   "cell_type": "code",
   "execution_count": null,
   "metadata": {},
   "outputs": [],
   "source": [
    "country['People and Society'][{'Population','Nationality','Ethnic groups','Languages','Religions','Age structure',\n",
    "                               'Dependency ratios','Median age','Population growth rate','Birth rate','',\n",
    "                              'Death rate','Net migration rate','Urbanization','Sex ratio','Life expectancy at birth',\n",
    "                              'Health expenditures','Obesity - adult prevalence rate','Literacy','Unemployment, youth ages 15-24'}]"
   ]
  },
  {
   "cell_type": "code",
   "execution_count": 61,
   "metadata": {},
   "outputs": [
    {
     "data": {
      "text/plain": [
       "Executive branch      {'chief of state': {'text': 'President Abdelaz...\n",
       "Legislative branch    {'description': {'text': 'bicameral Parliament...\n",
       "Name: Government, dtype: object"
      ]
     },
     "execution_count": 61,
     "metadata": {},
     "output_type": "execute_result"
    }
   ],
   "source": [
    "country['Government'][{'Executive branch','Legislative branch'}]"
   ]
  },
  {
   "cell_type": "code",
   "execution_count": 62,
   "metadata": {},
   "outputs": [
    {
     "data": {
      "text/plain": [
       "Inflation rate (consumer prices)           {'text': '6.7% (2016 est.) ++ 4.8% (2015 est.)'}\n",
       "Population below poverty line                                   {'text': '23% (2006 est.)'}\n",
       "GDP - per capita (PPP)                    {'text': '$15,000 (2016 est.) ++ $14,700 (2015...\n",
       "GDP - composition, by sector of origin    {'agriculture': {'text': '13.1%'}, 'industry':...\n",
       "Unemployment rate                         {'text': '12.4% (2016 est.) ++ 11.2% (2015 est...\n",
       "Name: Economy, dtype: object"
      ]
     },
     "execution_count": 62,
     "metadata": {},
     "output_type": "execute_result"
    }
   ],
   "source": [
    "country['Economy'][{'GDP - per capita (PPP)','GDP - composition, by sector of origin','Unemployment rate','Population below poverty line','Inflation rate (consumer prices)'}]"
   ]
  },
  {
   "cell_type": "code",
   "execution_count": 63,
   "metadata": {},
   "outputs": [
    {
     "data": {
      "text/plain": [
       "Carbon dioxide emissions from consumption of energy               {'text': '128 million Mt (2013 est.)'}\n",
       "Electricity - from other renewable sources             {'text': '0.2% of total installed capacity (20...\n",
       "Name: Energy, dtype: object"
      ]
     },
     "execution_count": 63,
     "metadata": {},
     "output_type": "execute_result"
    }
   ],
   "source": [
    "country['Energy'][{'Electricity - from other renewable sources','Carbon dioxide emissions from consumption of energy'}]"
   ]
  },
  {
   "cell_type": "code",
   "execution_count": 66,
   "metadata": {},
   "outputs": [
    {
     "data": {
      "text/plain": [
       "Internet users    {'total': {'text': '15.105 million'}, 'percent...\n",
       "Name: Communications, dtype: object"
      ]
     },
     "execution_count": 66,
     "metadata": {},
     "output_type": "execute_result"
    }
   ],
   "source": [
    "country['Communications'][{'Internet users'}]"
   ]
  },
  {
   "cell_type": "code",
   "execution_count": 68,
   "metadata": {},
   "outputs": [
    {
     "data": {
      "text/plain": [
       "Refugees and internally displaced persons    {'refugees (country of origin)': {'text': '90,...\n",
       "Name: Transnational Issues, dtype: object"
      ]
     },
     "execution_count": 68,
     "metadata": {},
     "output_type": "execute_result"
    }
   ],
   "source": [
    "country['Transnational Issues'][{'Refugees and internally displaced persons'}]"
   ]
  },
  {
   "cell_type": "code",
   "execution_count": 72,
   "metadata": {},
   "outputs": [],
   "source": [
    "#country.Terrorism nan olabilir isterseniz 0 1 yapariz"
   ]
  },
  {
   "cell_type": "code",
   "execution_count": 74,
   "metadata": {},
   "outputs": [],
   "source": [
    "GeomData=country.Geography[{'Geographic coordinates','Land boundaries','Climate','Natural hazards','Environment - current issues'}]"
   ]
  },
  {
   "cell_type": "code",
   "execution_count": 84,
   "metadata": {},
   "outputs": [
    {
     "data": {
      "text/plain": [
       "Natural hazards                 {'text': 'mountainous areas subject to severe ...\n",
       "Geographic coordinates                                {'text': '28 00 N, 3 00 E'}\n",
       "Land boundaries                 {'total': {'text': '6,734 km'}, 'border countr...\n",
       "Climate                         {'text': 'arid to semiarid; mild, wet winters ...\n",
       "Environment - current issues    {'text': 'soil erosion from overgrazing and ot...\n",
       "Name: Geography, dtype: object"
      ]
     },
     "execution_count": 84,
     "metadata": {},
     "output_type": "execute_result"
    }
   ],
   "source": [
    "GeomData"
   ]
  },
  {
   "cell_type": "code",
   "execution_count": 77,
   "metadata": {},
   "outputs": [
    {
     "data": {
      "text/plain": [
       "{'text': '28 00 N, 3 00 E'}"
      ]
     },
     "execution_count": 77,
     "metadata": {},
     "output_type": "execute_result"
    }
   ],
   "source": [
    "GeomData['Geographic coordinates']"
   ]
  },
  {
   "cell_type": "code",
   "execution_count": 83,
   "metadata": {},
   "outputs": [
    {
     "data": {
      "text/html": [
       "<div>\n",
       "<style scoped>\n",
       "    .dataframe tbody tr th:only-of-type {\n",
       "        vertical-align: middle;\n",
       "    }\n",
       "\n",
       "    .dataframe tbody tr th {\n",
       "        vertical-align: top;\n",
       "    }\n",
       "\n",
       "    .dataframe thead th {\n",
       "        text-align: right;\n",
       "    }\n",
       "</style>\n",
       "<table border=\"1\" class=\"dataframe\">\n",
       "  <thead>\n",
       "    <tr style=\"text-align: right;\">\n",
       "      <th></th>\n",
       "      <th>total</th>\n",
       "      <th>border countries</th>\n",
       "    </tr>\n",
       "  </thead>\n",
       "  <tbody>\n",
       "    <tr>\n",
       "      <th>text</th>\n",
       "      <td>6,734 km</td>\n",
       "      <td>Libya 989 km, Mali 1,359 km, Mauritania 460 km...</td>\n",
       "    </tr>\n",
       "  </tbody>\n",
       "</table>\n",
       "</div>"
      ],
      "text/plain": [
       "         total                                   border countries\n",
       "text  6,734 km  Libya 989 km, Mali 1,359 km, Mauritania 460 km..."
      ]
     },
     "execution_count": 83,
     "metadata": {},
     "output_type": "execute_result"
    }
   ],
   "source": [
    "pd.DataFrame.from_dict(GeomData['Land boundaries'])"
   ]
  },
  {
   "cell_type": "code",
   "execution_count": 54,
   "metadata": {},
   "outputs": [],
   "source": [
    "a=df['Government']['Country name'].values[1]"
   ]
  },
  {
   "cell_type": "code",
   "execution_count": 60,
   "metadata": {},
   "outputs": [
    {
     "data": {
      "text/plain": [
       "{'conventional long form': {'text': 'Plurinational State of Bolivia'},\n",
       " 'conventional short form': {'text': 'Bolivia'},\n",
       " 'local long form': {'text': 'Estado Plurinacional de Bolivia'},\n",
       " 'local short form': {'text': 'Bolivia'},\n",
       " 'etymology': {'text': 'the country is named after Simon BOLIVAR, a 19th-century leader in the South American wars for independence'}}"
      ]
     },
     "execution_count": 60,
     "metadata": {},
     "output_type": "execute_result"
    }
   ],
   "source": [
    "a"
   ]
  },
  {
   "cell_type": "code",
   "execution_count": null,
   "metadata": {},
   "outputs": [],
   "source": []
  },
  {
   "cell_type": "code",
   "execution_count": null,
   "metadata": {},
   "outputs": [],
   "source": []
  },
  {
   "cell_type": "code",
   "execution_count": null,
   "metadata": {},
   "outputs": [],
   "source": []
  }
 ],
 "metadata": {
  "kernelspec": {
   "display_name": "Python 3",
   "language": "python",
   "name": "python3"
  },
  "language_info": {
   "codemirror_mode": {
    "name": "ipython",
    "version": 3
   },
   "file_extension": ".py",
   "mimetype": "text/x-python",
   "name": "python",
   "nbconvert_exporter": "python",
   "pygments_lexer": "ipython3",
   "version": "3.6.5"
  }
 },
 "nbformat": 4,
 "nbformat_minor": 2
}
