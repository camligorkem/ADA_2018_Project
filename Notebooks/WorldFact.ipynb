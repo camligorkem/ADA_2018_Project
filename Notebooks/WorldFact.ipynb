{
 "cells": [
  {
   "cell_type": "markdown",
   "metadata": {},
   "source": [
    "# FactBook Data Exploration and Initial Data Processing"
   ]
  },
  {
   "cell_type": "markdown",
   "metadata": {},
   "source": [
    "__In this notebook file we preprocessed and show initial statistic plots for some features of FactBook data.\n",
    "We first dowloaded json files for all countries then filtered it by selecting only 20 countries which are in the Now corpus data set including news articles (our second data set). This notebook includes only the data exploration of the factbook data, where we have different geographic, national, economical, social, political and environmental facts about each country. In the initial part we selected only 20 countries and created a proper data frame including 25 features that we decided to work on. In the second part we preprocessed some interesting facts and plot these features per each country. __"
   ]
  },
  {
   "cell_type": "code",
   "execution_count": 1,
   "metadata": {},
   "outputs": [],
   "source": [
    "%matplotlib inline\n",
    "import pandas as pd\n",
    "import numpy as np\n",
    "import matplotlib.pyplot as plt\n",
    "import matplotlib as mlb\n",
    "import seaborn as sns\n",
    "from datetime import datetime, date, time\n",
    "from pandas import DataFrame as df\n",
    "from dateutil.parser import parse\n",
    "import warnings\n",
    "warnings.filterwarnings('ignore')\n",
    "import os\n",
    "import glob"
   ]
  },
  {
   "cell_type": "markdown",
   "metadata": {},
   "source": [
    "### PART 1 : READ AND FILTER DATA SELECT PRE-DETERMINED FEATURES OF INTEREST"
   ]
  },
  {
   "cell_type": "code",
   "execution_count": 2,
   "metadata": {},
   "outputs": [],
   "source": [
    "#Read data folder of fact book\n",
    "DATA_FOLDER = '../Data'"
   ]
  },
  {
   "cell_type": "code",
   "execution_count": 3,
   "metadata": {},
   "outputs": [],
   "source": [
    "#Determine country list codes(as presented in factbook) that are included in Now Corpus\n",
    "country_List=['US', 'EI' ,'AS' ,'UK' ,'CA', 'IN' ,'NZ' ,'SF', 'LK', 'SN', 'PH' ,'GH', 'NI', 'KE',\n",
    " 'HK', 'JM', 'PK' ,'BG', 'MY' ,'TZ']\n",
    "#convert the country names to lower cases\n",
    "country_List=[x.lower() for x in country_List]"
   ]
  },
  {
   "cell_type": "code",
   "execution_count": 4,
   "metadata": {},
   "outputs": [
    {
     "data": {
      "text/plain": [
       "20"
      ]
     },
     "execution_count": 4,
     "metadata": {},
     "output_type": "execute_result"
    }
   ],
   "source": [
    "#check how many country we have\n",
    "len(country_List)"
   ]
  },
  {
   "cell_type": "code",
   "execution_count": 5,
   "metadata": {},
   "outputs": [],
   "source": [
    "#check what is inside the factbook data folder \n",
    "folders_list=os.listdir(DATA_FOLDER+\"/factbook\")"
   ]
  },
  {
   "cell_type": "code",
   "execution_count": 6,
   "metadata": {},
   "outputs": [
    {
     "data": {
      "text/plain": [
       "['README.md',\n",
       " 'south-america',\n",
       " 'package.json',\n",
       " 'oceans',\n",
       " 'world',\n",
       " 'ALMANAC.md',\n",
       " 'south-asia',\n",
       " '.git',\n",
       " 'NOTES.md',\n",
       " 'australia-oceania',\n",
       " 'MONGO.md',\n",
       " 'europe',\n",
       " 'central-asia',\n",
       " 'central-america-n-caribbean',\n",
       " 'north-america',\n",
       " 'LICENSE.md',\n",
       " 'middle-east',\n",
       " 'africa',\n",
       " 'meta',\n",
       " 'SUMMARY.md',\n",
       " 'antarctica',\n",
       " 'east-n-southeast-asia']"
      ]
     },
     "execution_count": 6,
     "metadata": {},
     "output_type": "execute_result"
    }
   ],
   "source": [
    "folders_list"
   ]
  },
  {
   "cell_type": "code",
   "execution_count": 7,
   "metadata": {},
   "outputs": [],
   "source": [
    "#Get Per country json files from factbook data\n",
    "countryData_List=glob.glob(DATA_FOLDER+\"/factbook/*/*.json\")"
   ]
  },
  {
   "cell_type": "code",
   "execution_count": 8,
   "metadata": {},
   "outputs": [],
   "source": [
    "#filter out only the selected countries data\n",
    "ourcountries=[]\n",
    "for i in country_List:\n",
    "    for j in countryData_List:\n",
    "        if i in j[len(j)-7:]:\n",
    "            ourcountries.append(j)     "
   ]
  },
  {
   "cell_type": "code",
   "execution_count": 9,
   "metadata": {},
   "outputs": [
    {
     "data": {
      "text/plain": [
       "['../Data/factbook/north-america/us.json',\n",
       " '../Data/factbook/europe/ei.json',\n",
       " '../Data/factbook/australia-oceania/as.json',\n",
       " '../Data/factbook/europe/uk.json',\n",
       " '../Data/factbook/north-america/ca.json',\n",
       " '../Data/factbook/south-asia/in.json',\n",
       " '../Data/factbook/australia-oceania/nz.json',\n",
       " '../Data/factbook/africa/sf.json',\n",
       " '../Data/factbook/south-asia/lk.json',\n",
       " '../Data/factbook/east-n-southeast-asia/sn.json',\n",
       " '../Data/factbook/east-n-southeast-asia/ph.json',\n",
       " '../Data/factbook/africa/gh.json',\n",
       " '../Data/factbook/africa/ni.json',\n",
       " '../Data/factbook/africa/ke.json',\n",
       " '../Data/factbook/east-n-southeast-asia/hk.json',\n",
       " '../Data/factbook/central-america-n-caribbean/jm.json',\n",
       " '../Data/factbook/south-asia/pk.json',\n",
       " '../Data/factbook/south-asia/bg.json',\n",
       " '../Data/factbook/east-n-southeast-asia/my.json',\n",
       " '../Data/factbook/africa/tz.json']"
      ]
     },
     "execution_count": 9,
     "metadata": {},
     "output_type": "execute_result"
    }
   ],
   "source": [
    "#check the json file list of selected countries\n",
    "ourcountries"
   ]
  },
  {
   "cell_type": "code",
   "execution_count": 10,
   "metadata": {},
   "outputs": [
    {
     "data": {
      "text/plain": [
       "20"
      ]
     },
     "execution_count": 10,
     "metadata": {},
     "output_type": "execute_result"
    }
   ],
   "source": [
    "len(ourcountries)"
   ]
  },
  {
   "cell_type": "code",
   "execution_count": 11,
   "metadata": {},
   "outputs": [],
   "source": [
    "#Append all countries data files\n",
    "worldFactRaw=[]\n",
    "worldFactRaw.append([pd.read_json(f) for f in ourcountries])\n",
    "countries=worldFactRaw[0]"
   ]
  },
  {
   "cell_type": "code",
   "execution_count": 12,
   "metadata": {},
   "outputs": [
    {
     "data": {
      "text/plain": [
       "20"
      ]
     },
     "execution_count": 12,
     "metadata": {},
     "output_type": "execute_result"
    }
   ],
   "source": [
    "#check how many country data we have\n",
    "len(countries)"
   ]
  },
  {
   "cell_type": "code",
   "execution_count": 13,
   "metadata": {},
   "outputs": [
    {
     "name": "stdout",
     "output_type": "stream",
     "text": [
      "United States\n",
      "Ireland\n",
      "Australia\n",
      "United Kingdom\n",
      "Canada\n",
      "India\n",
      "New Zealand\n",
      "South Africa\n",
      "Sri Lanka\n",
      "Singapore\n",
      "Philippines\n",
      "Ghana\n",
      "Nigeria\n",
      "Kenya\n",
      "Hong Kong\n",
      "Jamaica\n",
      "Pakistan\n",
      "Bangladesh\n",
      "Malaysia\n",
      "Tanzania\n"
     ]
    }
   ],
   "source": [
    "for p in countries:\n",
    "    print(p['Government']['Country name']['conventional short form']['text'])"
   ]
  },
  {
   "cell_type": "markdown",
   "metadata": {},
   "source": [
    "### Check how each features look like"
   ]
  },
  {
   "cell_type": "code",
   "execution_count": 14,
   "metadata": {},
   "outputs": [],
   "source": [
    "x=''\n",
    "factBookCheck = df([p['Government']['Country name']['conventional short form']['text'], \n",
    "        p['Geography'][{'Geographic coordinates'}][0]['text'],\n",
    "        p['Geography'][{'Natural hazards'}][0]['text'],\n",
    "        p['Geography'][{'Environment - current issues'}][0]['text'],\n",
    "        p['People and Society'][{'Population'}][0]['text'],\n",
    "        p['People and Society'][{'Age structure'}][0],\n",
    "        p['People and Society'][{'Religions'}][0]['text'],\n",
    "        p['People and Society'][{'Ethnic groups'}][0]['text'],\n",
    "        p['People and Society'][{'Median age'}][0],\n",
    "        p['People and Society'][{'Population growth rate'}][0]['text'],\n",
    "        p['People and Society'][{'Birth rate'}][0]['text'],\n",
    "        p['People and Society'][{'Death rate'}][0]['text'],\n",
    "        p['People and Society'][{'Net migration rate'}][0]['text'],\n",
    "        p['People and Society'][{'Sex ratio'}][0],\n",
    "        p['People and Society'][{'Life expectancy at birth'}][0],\n",
    "        p['Government'][{'Executive branch'}][0],\n",
    "        p['Government'][{'Legislative branch'}][0],\n",
    "        p['Economy'][{'GDP - per capita (PPP)'}][0]['text'],\n",
    "        p['Economy'][{'Unemployment rate'}][0]['text'],\n",
    "        p['Economy'][{'Population below poverty line'}][0],\n",
    "        p['Economy'][{'Inflation rate (consumer prices)'}][0]['text'],\n",
    "        p['Energy'][{'Electricity - from other renewable sources'}][0]['text'],\n",
    "        p['Energy'][{'Carbon dioxide emissions from consumption of energy'}][0]['text'],\n",
    "        p['Communications'][{'Internet users'}][0]['percent of population']['text']\n",
    "        ]\n",
    "       \n",
    "        for p in countries)\n"
   ]
  },
  {
   "cell_type": "code",
   "execution_count": 15,
   "metadata": {},
   "outputs": [
    {
     "data": {
      "text/plain": [
       "0      United States\n",
       "1            Ireland\n",
       "2          Australia\n",
       "3     United Kingdom\n",
       "4             Canada\n",
       "5              India\n",
       "6        New Zealand\n",
       "7       South Africa\n",
       "8          Sri Lanka\n",
       "9          Singapore\n",
       "10       Philippines\n",
       "11             Ghana\n",
       "12           Nigeria\n",
       "13             Kenya\n",
       "14         Hong Kong\n",
       "15           Jamaica\n",
       "16          Pakistan\n",
       "17        Bangladesh\n",
       "18          Malaysia\n",
       "19          Tanzania\n",
       "Name: 0, dtype: object"
      ]
     },
     "execution_count": 15,
     "metadata": {},
     "output_type": "execute_result"
    }
   ],
   "source": [
    "#Country List\n",
    "factBookCheck[0]"
   ]
  },
  {
   "cell_type": "code",
   "execution_count": 16,
   "metadata": {},
   "outputs": [
    {
     "data": {
      "text/plain": [
       "0      38 00 N, 97 00 W\n",
       "1       53 00 N, 8 00 W\n",
       "2     27 00 S, 133 00 E\n",
       "3       54 00 N, 2 00 W\n",
       "4      60 00 N, 95 00 W\n",
       "5      20 00 N, 77 00 E\n",
       "6     41 00 S, 174 00 E\n",
       "7      29 00 S, 24 00 E\n",
       "8       7 00 N, 81 00 E\n",
       "9      1 22 N, 103 48 E\n",
       "10    13 00 N, 122 00 E\n",
       "11       8 00 N, 2 00 W\n",
       "12      10 00 N, 8 00 E\n",
       "13      1 00 N, 38 00 E\n",
       "14    22 15 N, 114 10 E\n",
       "15     18 15 N, 77 30 W\n",
       "16     30 00 N, 70 00 E\n",
       "17     24 00 N, 90 00 E\n",
       "18     2 30 N, 112 30 E\n",
       "19      6 00 S, 35 00 E\n",
       "Name: 1, dtype: object"
      ]
     },
     "execution_count": 16,
     "metadata": {},
     "output_type": "execute_result"
    }
   ],
   "source": [
    "#Geographic coordination\n",
    "factBookCheck[1]"
   ]
  },
  {
   "cell_type": "code",
   "execution_count": 17,
   "metadata": {},
   "outputs": [
    {
     "data": {
      "text/plain": [
       "0     tsunamis; volcanoes; earthquake activity aroun...\n",
       "1                                                    NA\n",
       "2     cyclones along the coast; severe droughts; for...\n",
       "3                             winter windstorms; floods\n",
       "4     continuous permafrost in north is a serious ob...\n",
       "5     droughts; flash floods, as well as widespread ...\n",
       "6     earthquakes are common, though usually not sev...\n",
       "7                                    prolonged droughts\n",
       "8                     occasional cyclones and tornadoes\n",
       "9                                                    NA\n",
       "10    astride typhoon belt, usually affected by 15 a...\n",
       "11    dry, dusty, northeastern harmattan winds from ...\n",
       "12                          periodic droughts; flooding\n",
       "13     recurring drought; flooding during rainy seasons\n",
       "14                                  occasional typhoons\n",
       "15             hurricanes (especially July to November)\n",
       "16    frequent earthquakes, occasionally severe espe...\n",
       "17    droughts; cyclones; much of the country routin...\n",
       "18                   flooding; landslides; forest fires\n",
       "19    flooding on the central plateau during the rai...\n",
       "Name: 2, dtype: object"
      ]
     },
     "execution_count": 17,
     "metadata": {},
     "output_type": "execute_result"
    }
   ],
   "source": [
    "#Natural hazards\n",
    "factBookCheck[2]"
   ]
  },
  {
   "cell_type": "code",
   "execution_count": 18,
   "metadata": {},
   "outputs": [
    {
     "data": {
      "text/plain": [
       "'soil erosion from overgrazing, industrial development, urbanization, and poor farming practices; soil salinity rising due to the use of poor quality water; desertification; clearing for agricultural purposes threatens the natural habitat of many unique animal and plant species; the Great Barrier Reef off the northeast coast, the largest coral reef in the world, is threatened by increased shipping and its popularity as a tourist site; limited natural freshwater resources'"
      ]
     },
     "execution_count": 18,
     "metadata": {},
     "output_type": "execute_result"
    }
   ],
   "source": [
    "#Environmental Issues of one country\n",
    "factBookCheck[3][2]"
   ]
  },
  {
   "cell_type": "code",
   "execution_count": 19,
   "metadata": {},
   "outputs": [
    {
     "data": {
      "text/plain": [
       "0        323,995,528 (July 2016 est.)\n",
       "1          4,952,473 (July 2016 est.)\n",
       "2         22,992,654 (July 2016 est.)\n",
       "3         64,430,428 (July 2016 est.)\n",
       "4         35,362,905 (July 2016 est.)\n",
       "5      1,266,883,598 (July 2016 est.)\n",
       "6          4,474,549 (July 2016 est.)\n",
       "7                          54,300,704\n",
       "8     22.235 million (July 2016 est.)\n",
       "9          5,781,728 (July 2016 est.)\n",
       "10       102,624,209 (July 2016 est.)\n",
       "11                         26,908,262\n",
       "12                        186,053,386\n",
       "13                         46,790,758\n",
       "14         7,167,403 (July 2016 est.)\n",
       "15         2,970,340 (July 2016 est.)\n",
       "16       201,995,540 (July 2016 est.)\n",
       "17       156,186,882 (July 2016 est.)\n",
       "18        30,949,962 (July 2016 est.)\n",
       "19                         52,482,726\n",
       "Name: 4, dtype: object"
      ]
     },
     "execution_count": 19,
     "metadata": {},
     "output_type": "execute_result"
    }
   ],
   "source": [
    "#Population\n",
    "factBookCheck[4]"
   ]
  },
  {
   "cell_type": "code",
   "execution_count": 20,
   "metadata": {},
   "outputs": [
    {
     "data": {
      "text/plain": [
       "{'0-14 years': {'text': '17.44% (male 5,761,311/female 5,476,649)'},\n",
       " '15-24 years': {'text': '12.15% (male 3,997,150/female 3,830,268)'},\n",
       " '25-54 years': {'text': '40.74% (male 13,367,242/female 12,883,674)'},\n",
       " '55-64 years': {'text': '11.77% (male 3,760,020/female 3,820,525)'},\n",
       " '65 years and over': {'text': '17.9% (male 5,170,542/female 6,363,047) (2016 est.)'}}"
      ]
     },
     "execution_count": 20,
     "metadata": {},
     "output_type": "execute_result"
    }
   ],
   "source": [
    "#Age structure\n",
    "factBookCheck[5][3]"
   ]
  },
  {
   "cell_type": "code",
   "execution_count": 21,
   "metadata": {},
   "outputs": [
    {
     "data": {
      "text/plain": [
       "\"Protestant 46.5%, Roman Catholic 20.8%, Mormon 1.6%, Jehovah's Witness 0.8%, other Christian 0.9%, Jewish 1.9%, Muslim 0.9%, Buddhist 0.7%, Hindu 0.7%, other 1.8%, unaffiliated 22.8%, don't know/refused 0.6% (2014 est.)\""
      ]
     },
     "execution_count": 21,
     "metadata": {},
     "output_type": "execute_result"
    }
   ],
   "source": [
    "#Religions\n",
    "factBookCheck[6][0]"
   ]
  },
  {
   "cell_type": "code",
   "execution_count": 22,
   "metadata": {},
   "outputs": [
    {
     "data": {
      "text/plain": [
       "'Irish 84.5%, other white 9.8%, Asian 1.9%, black 1.4%, mixed and other 0.9%, unspecified 1.6% (2011 est.)'"
      ]
     },
     "execution_count": 22,
     "metadata": {},
     "output_type": "execute_result"
    }
   ],
   "source": [
    "#Ethnic groups\n",
    "factBookCheck[7][1]"
   ]
  },
  {
   "cell_type": "code",
   "execution_count": 23,
   "metadata": {},
   "outputs": [
    {
     "data": {
      "text/plain": [
       "{'total': {'text': '38.6 years'},\n",
       " 'male': {'text': '37.8 years'},\n",
       " 'female': {'text': '39.4 years (2016 est.)'}}"
      ]
     },
     "execution_count": 23,
     "metadata": {},
     "output_type": "execute_result"
    }
   ],
   "source": [
    "#Median Age\n",
    "factBookCheck[8][2]"
   ]
  },
  {
   "cell_type": "code",
   "execution_count": 24,
   "metadata": {},
   "outputs": [
    {
     "data": {
      "text/plain": [
       "0     0.81% (2016 est.)\n",
       "1      1.2% (2016 est.)\n",
       "2     1.05% (2016 est.)\n",
       "3     0.53% (2016 est.)\n",
       "4     0.74% (2016 est.)\n",
       "5     1.19% (2016 est.)\n",
       "6      0.8% (2016 est.)\n",
       "7     0.99% (2016 est.)\n",
       "8      0.8% (2016 est.)\n",
       "9     1.86% (2016 est.)\n",
       "10    1.59% (2016 est.)\n",
       "11    2.18% (2016 est.)\n",
       "12    2.44% (2016 est.)\n",
       "13    1.81% (2016 est.)\n",
       "14    0.35% (2016 est.)\n",
       "15    0.68% (2016 est.)\n",
       "16    1.45% (2016 est.)\n",
       "17    1.05% (2016 est.)\n",
       "18     1.4% (2016 est.)\n",
       "19    2.77% (2016 est.)\n",
       "Name: 9, dtype: object"
      ]
     },
     "execution_count": 24,
     "metadata": {},
     "output_type": "execute_result"
    }
   ],
   "source": [
    "#Population Growth Rate\n",
    "factBookCheck[9]"
   ]
  },
  {
   "cell_type": "code",
   "execution_count": 25,
   "metadata": {},
   "outputs": [
    {
     "data": {
      "text/plain": [
       "0     12.5 births/1,000 population (2016 est.)\n",
       "1     14.5 births/1,000 population (2016 est.)\n",
       "2     12.1 births/1,000 population (2016 est.)\n",
       "3     12.1 births/1,000 population (2016 est.)\n",
       "4     10.3 births/1,000 population (2016 est.)\n",
       "5     19.3 births/1,000 population (2016 est.)\n",
       "6     13.3 births/1,000 population (2016 est.)\n",
       "7     20.5 births/1,000 population (2016 est.)\n",
       "8     15.5 births/1,000 population (2016 est.)\n",
       "9      8.4 births/1,000 population (2016 est.)\n",
       "10      24 births/1,000 population (2016 est.)\n",
       "11    30.8 births/1,000 population (2016 est.)\n",
       "12    37.3 births/1,000 population (2016 est.)\n",
       "13    25.1 births/1,000 population (2016 est.)\n",
       "14     9.1 births/1,000 population (2016 est.)\n",
       "15      18 births/1,000 population (2016 est.)\n",
       "16    22.3 births/1,000 population (2016 est.)\n",
       "17      19 births/1,000 population (2016 est.)\n",
       "18    19.4 births/1,000 population (2016 est.)\n",
       "19      36 births/1,000 population (2016 est.)\n",
       "Name: 10, dtype: object"
      ]
     },
     "execution_count": 25,
     "metadata": {},
     "output_type": "execute_result"
    }
   ],
   "source": [
    "#Birth Rate\n",
    "factBookCheck[10]"
   ]
  },
  {
   "cell_type": "code",
   "execution_count": 26,
   "metadata": {},
   "outputs": [
    {
     "data": {
      "text/plain": [
       "0      8.2 deaths/1,000 population (2016 est.)\n",
       "1      6.5 deaths/1,000 population (2016 est.)\n",
       "2      7.2 deaths/1,000 population (2016 est.)\n",
       "3      9.4 deaths/1,000 population (2016 est.)\n",
       "4      8.5 deaths/1,000 population (2016 est.)\n",
       "5      7.3 deaths/1,000 population (2016 est.)\n",
       "6      7.4 deaths/1,000 population (2016 est.)\n",
       "7      9.6 deaths/1,000 population (2016 est.)\n",
       "8      6.2 deaths/1,000 population (2016 est.)\n",
       "9      3.5 deaths/1,000 population (2016 est.)\n",
       "10     6.1 deaths/1,000 population (2016 est.)\n",
       "11     7.1 deaths/1,000 population (2016 est.)\n",
       "12    12.7 deaths/1,000 population (2016 est.)\n",
       "13     6.8 deaths/1,000 population (2016 est.)\n",
       "14     7.2 deaths/1,000 population (2016 est.)\n",
       "15     6.7 deaths/1,000 population (2016 est.)\n",
       "16     6.4 deaths/1,000 population (2016 est.)\n",
       "17     5.3 deaths/1,000 population (2016 est.)\n",
       "18     5.1 deaths/1,000 population (2016 est.)\n",
       "19     7.8 deaths/1,000 population (2016 est.)\n",
       "Name: 11, dtype: object"
      ]
     },
     "execution_count": 26,
     "metadata": {},
     "output_type": "execute_result"
    }
   ],
   "source": [
    "#Death Rate\n",
    "factBookCheck[11]"
   ]
  },
  {
   "cell_type": "code",
   "execution_count": 27,
   "metadata": {},
   "outputs": [
    {
     "data": {
      "text/plain": [
       "0      3.9 migrant(s)/1,000 population (2016 est.)\n",
       "1        4 migrant(s)/1,000 population (2016 est.)\n",
       "2      5.6 migrant(s)/1,000 population (2016 est.)\n",
       "3      2.5 migrant(s)/1,000 population (2016 est.)\n",
       "4      5.7 migrant(s)/1,000 population (2016 est.)\n",
       "5        0 migrant(s)/1,000 population (2016 est.)\n",
       "6      2.2 migrant(s)/1,000 population (2016 est.)\n",
       "7     -0.9 migrant(s)/1,000 population (2016 est.)\n",
       "8     -1.3 migrant(s)/1,000 population (2016 est.)\n",
       "9     13.6 migrant(s)/1,000 population (2016 est.)\n",
       "10      -2 migrant(s)/1,000 population (2016 est.)\n",
       "11    -1.9 migrant(s)/1,000 population (2016 est.)\n",
       "12    -0.2 migrant(s)/1,000 population (2016 est.)\n",
       "13    -0.2 migrant(s)/1,000 population (2016 est.)\n",
       "14     1.7 migrant(s)/1,000 population (2016 est.)\n",
       "15    -4.5 migrant(s)/1,000 population (2016 est.)\n",
       "16    -1.4 migrant(s)/1,000 population (2016 est.)\n",
       "17    -3.1 migrant(s)/1,000 population (2016 est.)\n",
       "18    -0.3 migrant(s)/1,000 population (2016 est.)\n",
       "19    -0.5 migrant(s)/1,000 population (2016 est.)\n",
       "Name: 12, dtype: object"
      ]
     },
     "execution_count": 27,
     "metadata": {},
     "output_type": "execute_result"
    }
   ],
   "source": [
    "#Migration rate\n",
    "factBookCheck[12]"
   ]
  },
  {
   "cell_type": "code",
   "execution_count": 28,
   "metadata": {},
   "outputs": [
    {
     "data": {
      "text/plain": [
       "{'at birth': {'text': '1.06 male(s)/female'},\n",
       " '0-14 years': {'text': '1.05 male(s)/female'},\n",
       " '15-24 years': {'text': '1.05 male(s)/female'},\n",
       " '25-54 years': {'text': '1.04 male(s)/female'},\n",
       " '55-64 years': {'text': '0.98 male(s)/female'},\n",
       " '65 years and over': {'text': '0.86 male(s)/female'},\n",
       " 'total population': {'text': '1.01 male(s)/female (2016 est.)'}}"
      ]
     },
     "execution_count": 28,
     "metadata": {},
     "output_type": "execute_result"
    }
   ],
   "source": [
    "#Sex Ratio\n",
    "factBookCheck[13][2]"
   ]
  },
  {
   "cell_type": "code",
   "execution_count": 29,
   "metadata": {},
   "outputs": [
    {
     "data": {
      "text/plain": [
       "{'total population': {'text': '80.7 years'},\n",
       " 'male': {'text': '78.5 years'},\n",
       " 'female': {'text': '83 years (2016 est.)'}}"
      ]
     },
     "execution_count": 29,
     "metadata": {},
     "output_type": "execute_result"
    }
   ],
   "source": [
    "#Life expectancy at birth\n",
    "factBookCheck[14][3]"
   ]
  },
  {
   "cell_type": "code",
   "execution_count": 30,
   "metadata": {},
   "outputs": [
    {
     "data": {
      "text/plain": [
       "{'chief of state': {'text': 'President Michael D. HIGGINS (since 11 November 2011)'},\n",
       " 'head of government': {'text': 'Taoiseach (Prime Minister) Enda KENNY (since 9 March 2011); reelected prime minister on 6 May 2016'},\n",
       " 'cabinet': {'text': 'Cabinet nominated by the prime minister, appointed by the president, approved by the Dali Eireann (lower house of Parliament)'},\n",
       " 'elections/appointments': {'text': 'president directly elected by majority popular vote for a 7-year term (eligible for a second term); election last held on 29 October 2011 (next to be held in October 2018); taoiseach (prime minister) nominated by the House of Representatives (Dail Eireann), appointed by the president'},\n",
       " 'election results': {'text': 'Michael D. HIGGINS elected president; percent of vote - Michael D. HIGGINS (Labor Party) 39.6%, Sean GALLAGHER (independent) 28.5%, Martin MCGUINNESS (Sinn Fein) 13.7%, Gay MITCHELL (Fine Gael) 6.4%, David NORRIS (independent) 6.2%, other 5.6%'}}"
      ]
     },
     "execution_count": 30,
     "metadata": {},
     "output_type": "execute_result"
    }
   ],
   "source": [
    "#Executive branch\n",
    "factBookCheck[15][1]"
   ]
  },
  {
   "cell_type": "code",
   "execution_count": 31,
   "metadata": {},
   "outputs": [
    {
     "data": {
      "text/plain": [
       "{'description': {'text': 'bicameral Federal Parliament consists of the Senate (76 seats; 12 members from each of the 6 states and 2 each from the 2 mainland territories; members directly elected in multi-seat constituencies by proportional representation vote; members serve 6-year terms with one-half of state membership renewed every 3 years and territory membership renewed every 3 years) and the House of Representatives (150 seats; members directly elected in single-seat constituencies by majority preferential vote; members serve terms of up to 3 years)'},\n",
       " 'elections': {'text': 'Senate - last held on 2 July 2016; House of Representatives - last held on 2 July 2016; this election represents a rare double dissolution where all 226 seats in both the Senate and House of Representatives are up for reelection'},\n",
       " 'election results': {'text': \"Senate - percent of vote by party NA - awaiting final results; seats by party NA - awaiting final results; House of Representatives - percent of vote by party Liberal/National Coalition 42.14%, ALP 34.91%, The Greens 9.93%, Katter's Australian Party 0.55%, Nick Xenophon Team 1.86%, independents 2.85%; seats by party Liberal/National Coalition 77, ALP 68, The Greens 1, Katter's Australian Party 1, Nick Xenophon Team 1, independents 2\"}}"
      ]
     },
     "execution_count": 31,
     "metadata": {},
     "output_type": "execute_result"
    }
   ],
   "source": [
    "#Legislative branch\n",
    "factBookCheck[16][2]"
   ]
  },
  {
   "cell_type": "code",
   "execution_count": 32,
   "metadata": {},
   "outputs": [
    {
     "data": {
      "text/plain": [
       "0     $57,300 (2016 est.) ++ $56,800 (2015 est.) ++ ...\n",
       "1     $69,400 (2016 est.) ++ $66,700 (2015 est.) ++ ...\n",
       "2     $48,800 (2016 est.) ++ $48,300 (2015 est.) ++ ...\n",
       "3     $42,500 (2016 est.) ++ $42,000 (2015 est.) ++ ...\n",
       "4     $46,200 (2016 est.) ++ $46,200 (2015 est.) ++ ...\n",
       "5     $6,700 (2016 est.) ++ $6,300 (2015 est.) ++ $5...\n",
       "6     $37,100 (2016 est.) ++ $36,600 (2015 est.) ++ ...\n",
       "7     $13,200 (2016 est.) ++ $13,400 (2015 est.) ++ ...\n",
       "8     $11,200 (2016 est.) ++ $10,700 (2015 est.) ++ ...\n",
       "9     $87,100 (2016 est.) ++ $86,500 (2015 est.) ++ ...\n",
       "10    $7,700 (2016 est.) ++ $7,400 (2015 est.) ++ $7...\n",
       "11    $4,400 (2016 est.) ++ $4,300 (2015 est.) ++ $4...\n",
       "12    $5,900 (2016 est.) ++ $6,200 (2015 est.) ++ $6...\n",
       "13    $3,400 (2016 est.) ++ $3,300 (2015 est.) ++ $3...\n",
       "14    $58,100 (2016 est.) ++ $57,600 (2015 est.) ++ ...\n",
       "15    $9,000 (2016 est.) ++ $8,900 (2015 est.) ++ $8...\n",
       "16    $5,100 (2016 est.) ++ $5,000 (2015 est.) ++ $4...\n",
       "17    $3,900 (2016 est.) ++ $3,700 (2015 est.) ++ $3...\n",
       "18    $27,200 (2016 est.) ++ $26,600 (2015 est.) ++ ...\n",
       "19    $3,100 (2016 est.) ++ $2,900 (2015 est.) ++ $2...\n",
       "Name: 17, dtype: object"
      ]
     },
     "execution_count": 32,
     "metadata": {},
     "output_type": "execute_result"
    }
   ],
   "source": [
    "#GDP - per capita (PPP)\n",
    "factBookCheck[17]"
   ]
  },
  {
   "cell_type": "code",
   "execution_count": 33,
   "metadata": {},
   "outputs": [
    {
     "data": {
      "text/plain": [
       "0       4.7% (2016 est.) ++ 5.3% (2015 est.)\n",
       "1         8% (2016 est.) ++ 9.5% (2015 est.)\n",
       "2       5.8% (2016 est.) ++ 6.1% (2015 est.)\n",
       "3       5.1% (2016 est.) ++ 5.4% (2015 est.)\n",
       "4       7.1% (2016 est.) ++ 6.9% (2015 est.)\n",
       "5       8.4% (2016 est.) ++ 8.4% (2015 est.)\n",
       "6       5.1% (2016 est.) ++ 5.4% (2015 est.)\n",
       "7     26.8% (2016 est.) ++ 25.4% (2015 est.)\n",
       "8       4.5% (2016 est.) ++ 4.7% (2015 est.)\n",
       "9       2.1% (2016 est.) ++ 1.9% (2015 est.)\n",
       "10      6.6% (2016 est.) ++ 6.3% (2015 est.)\n",
       "11                          5.2% (2013 est.)\n",
       "12     23.9% (2011 est.) ++ 4.9% (2011 est.)\n",
       "13        40% (2013 est.) ++ 40% (2001 est.)\n",
       "14      3.6% (2016 est.) ++ 3.3% (2015 est.)\n",
       "15      13.8% (2016 est.) ++ 14% (2015 est.)\n",
       "16      6.7% (2016 est.) ++ 6.4% (2015 est.)\n",
       "17      4.9% (2016 est.) ++ 4.9% (2015 est.)\n",
       "18      3.3% (2016 est.) ++ 3.2% (2015 est.)\n",
       "19                                       NA%\n",
       "Name: 18, dtype: object"
      ]
     },
     "execution_count": 33,
     "metadata": {},
     "output_type": "execute_result"
    }
   ],
   "source": [
    "#Unemployment rate\n",
    "factBookCheck[18]"
   ]
  },
  {
   "cell_type": "code",
   "execution_count": 34,
   "metadata": {},
   "outputs": [
    {
     "data": {
      "text/plain": [
       "0                         {'text': '15.1% (2010 est.)'}\n",
       "1                          {'text': '8.2% (2013 est.)'}\n",
       "2                                       {'text': 'NA%'}\n",
       "3                           {'text': '15% (2013 est.)'}\n",
       "4     {'text': '9.4%', 'note': {'text': 'this figure...\n",
       "5                         {'text': '29.8% (2010 est.)'}\n",
       "6                                       {'text': 'NA%'}\n",
       "7                         {'text': '35.9% (2012 est.)'}\n",
       "8                          {'text': '8.9% (2010 est.)'}\n",
       "9                                       {'text': 'NA%'}\n",
       "10                        {'text': '25.2% (2012 est.)'}\n",
       "11                        {'text': '24.2% (2013 est.)'}\n",
       "12                          {'text': '70% (2010 est.)'}\n",
       "13                        {'text': '43.4% (2012 est.)'}\n",
       "14                        {'text': '19.6% (2012 est.)'}\n",
       "15                        {'text': '16.5% (2009 est.)'}\n",
       "16                      {'text': '22.3% (FY2005 est.)'}\n",
       "17                        {'text': '31.5% (2010 est.)'}\n",
       "18                         {'text': '3.8% (2009 est.)'}\n",
       "19                        {'text': '67.9% (2011 est.)'}\n",
       "Name: 19, dtype: object"
      ]
     },
     "execution_count": 34,
     "metadata": {},
     "output_type": "execute_result"
    }
   ],
   "source": [
    "#Population below poverty line\n",
    "factBookCheck[19]"
   ]
  },
  {
   "cell_type": "code",
   "execution_count": 35,
   "metadata": {},
   "outputs": [
    {
     "data": {
      "text/plain": [
       "0       1.3% (2016 est.) ++ 0.1% (2015 est.)\n",
       "1         0.2% (2016 est.) ++ 0% (2015 est.)\n",
       "2       1.4% (2016 est.) ++ 1.5% (2015 est.)\n",
       "3         0.5% (2016 est.) ++ 0% (2015 est.)\n",
       "4       1.6% (2016 est.) ++ 1.1% (2015 est.)\n",
       "5       5.6% (2016 est.) ++ 4.9% (2015 est.)\n",
       "6       0.6% (2016 est.) ++ 0.3% (2015 est.)\n",
       "7       6.5% (2016 est.) ++ 4.5% (2015 est.)\n",
       "8       4.3% (2016 est.) ++ 0.9% (2015 est.)\n",
       "9     -0.8% (2016 est.) ++ -0.5% (2015 est.)\n",
       "10      1.7% (2016 est.) ++ 1.3% (2015 est.)\n",
       "11    17.8% (2016 est.) ++ 17.2% (2015 est.)\n",
       "12       15.3% (2016 est.) ++ 9% (2015 est.)\n",
       "13      6.1% (2016 est.) ++ 6.6% (2015 est.)\n",
       "14        2.6% (2016 est.) ++ 3% (2015 est.)\n",
       "15      2.5% (2016 est.) ++ 3.7% (2015 est.)\n",
       "16      3.7% (2016 est.) ++ 2.5% (2015 est.)\n",
       "17      5.6% (2016 est.) ++ 6.2% (2015 est.)\n",
       "18        2% (2016 est.) ++ 2.1% (2015 est.)\n",
       "19      5.2% (2016 est.) ++ 5.6% (2015 est.)\n",
       "Name: 20, dtype: object"
      ]
     },
     "execution_count": 35,
     "metadata": {},
     "output_type": "execute_result"
    }
   ],
   "source": [
    "#Inflation rate (consumer prices)\n",
    "factBookCheck[20]"
   ]
  },
  {
   "cell_type": "code",
   "execution_count": 36,
   "metadata": {},
   "outputs": [
    {
     "data": {
      "text/plain": [
       "0          7.4% of total installed capacity (2012 est.)\n",
       "1           25% of total installed capacity (2013 est.)\n",
       "2          7.6% of total installed capacity (2012 est.)\n",
       "3         12.2% of total installed capacity (2014 est.)\n",
       "4          8.3% of total installed capacity (2012 est.)\n",
       "5     12.4% of total installed capacity (26 February...\n",
       "6         15.8% of total installed capacity (2012 est.)\n",
       "7          0.7% of total installed capacity (2013 est.)\n",
       "8          1.9% of total installed capacity (2012 est.)\n",
       "9          3.9% of total installed capacity (2014 est.)\n",
       "10        11.1% of total installed capacity (2012 est.)\n",
       "11           0% of total installed capacity (2012 est.)\n",
       "12         1.5% of total installed capacity (2012 est.)\n",
       "13        13.8% of total installed capacity (2012 est.)\n",
       "14           0% of total installed capacity (2013 est.)\n",
       "15         5.9% of total installed capacity (2012 est.)\n",
       "16       0.4% of total installed capacity (FY2014 est.)\n",
       "17           0% of total installed capacity (2013 est.)\n",
       "18         0.8% of total installed capacity (2012 est.)\n",
       "19           0% of total installed capacity (2012 est.)\n",
       "Name: 21, dtype: object"
      ]
     },
     "execution_count": 36,
     "metadata": {},
     "output_type": "execute_result"
    }
   ],
   "source": [
    "#Electricity - from other renewable sources\n",
    "factBookCheck[21]"
   ]
  },
  {
   "cell_type": "code",
   "execution_count": 37,
   "metadata": {},
   "outputs": [
    {
     "data": {
      "text/plain": [
       "0     5.402 billion Mt (2013 est.)\n",
       "1        34 million Mt (2013 est.)\n",
       "2       385 million Mt (2013 est.)\n",
       "3     568.3 million Mt (2013 est.)\n",
       "4       564 million Mt (2013 est.)\n",
       "5     1.887 billion Mt (2013 est.)\n",
       "6        37 million Mt (2013 est.)\n",
       "7       482 million Mt (2013 est.)\n",
       "8        16 million Mt (2013 est.)\n",
       "9       216 million Mt (2013 est.)\n",
       "10       88 million Mt (2013 est.)\n",
       "11       11 million Mt (2013 est.)\n",
       "12       97 million Mt (2013 est.)\n",
       "13       13 million Mt (2013 est.)\n",
       "14       90 million Mt (2013 est.)\n",
       "15       13 million Mt (2013 est.)\n",
       "16      145 million Mt (2013 est.)\n",
       "17       66 million Mt (2013 est.)\n",
       "18      208 million Mt (2013 est.)\n",
       "19       10 million Mt (2013 est.)\n",
       "Name: 22, dtype: object"
      ]
     },
     "execution_count": 37,
     "metadata": {},
     "output_type": "execute_result"
    }
   ],
   "source": [
    "#Carbon dioxide emissions from consumption of energy\n",
    "factBookCheck[22]"
   ]
  },
  {
   "cell_type": "code",
   "execution_count": 38,
   "metadata": {},
   "outputs": [
    {
     "data": {
      "text/plain": [
       "0     74.6% (July 2015 est.)\n",
       "1     80.1% (July 2015 est.)\n",
       "2     84.6% (July 2015 est.)\n",
       "3       92% (July 2015 est.)\n",
       "4     88.5% (July 2015 est.)\n",
       "5       26% (July 2015 est.)\n",
       "6     88.2% (July 2015 est.)\n",
       "7     51.9% (July 2015 est.)\n",
       "8       30% (July 2015 est.)\n",
       "9     82.1% (July 2015 est.)\n",
       "10    40.7% (July 2015 est.)\n",
       "11    23.5% (July 2015 est.)\n",
       "12    47.4% (July 2015 est.)\n",
       "13    45.6% (July 2015 est.)\n",
       "14      85% (July 2015 est.)\n",
       "15    43.2% (July 2015 est.)\n",
       "16      18% (July 2015 est.)\n",
       "17    14.4% (July 2015 est.)\n",
       "18    71.1% (July 2015 est.)\n",
       "19     5.4% (July 2015 est.)\n",
       "Name: 23, dtype: object"
      ]
     },
     "execution_count": 38,
     "metadata": {},
     "output_type": "execute_result"
    }
   ],
   "source": [
    "#Internet users\n",
    "factBookCheck[23]"
   ]
  },
  {
   "cell_type": "markdown",
   "metadata": {},
   "source": [
    "### Create a filtered and preprocessed DataFrame of the features"
   ]
  },
  {
   "cell_type": "code",
   "execution_count": 39,
   "metadata": {},
   "outputs": [],
   "source": [
    "x=''\n",
    "factBook = df([p['Government']['Country name']['conventional short form']['text'], \n",
    "        p['Geography'][{'Geographic coordinates'}][0]['text'],\n",
    "        p['Geography'][{'Natural hazards'}][0]['text'],\n",
    "        p['Geography'][{'Environment - current issues'}][0]['text'],\n",
    "        x.join(str(p['People and Society'][{'Population'}][0]['text']).split(\" \",1)[0].split(',',3)),\n",
    "        p['People and Society'][{'Age structure'}][0]['0-14 years']['text'].split('%')[0],\n",
    "        p['People and Society'][{'Age structure'}][0]['15-24 years']['text'].split('%')[0],\n",
    "        p['People and Society'][{'Age structure'}][0]['25-54 years']['text'].split('%')[0],\n",
    "        p['People and Society'][{'Age structure'}][0]['55-64 years']['text'].split('%')[0],\n",
    "        p['People and Society'][{'Age structure'}][0]['65 years and over']['text'].split('%')[0],\n",
    "        p['People and Society'][{'Religions'}][0]['text'],\n",
    "        p['People and Society'][{'Ethnic groups'}][0]['text'],\n",
    "        p['People and Society'][{'Median age'}][0]['total']['text'].split(' ')[0],\n",
    "        p['People and Society'][{'Population growth rate'}][0]['text'].split('%')[0],\n",
    "        p['People and Society'][{'Birth rate'}][0]['text'].split(' ')[0],\n",
    "        p['People and Society'][{'Death rate'}][0]['text'].split(' ')[0],\n",
    "        p['People and Society'][{'Net migration rate'}][0]['text'].split(' ')[0],\n",
    "        p['People and Society'][{'Sex ratio'}][0]['total population']['text'].split(' ')[0],\n",
    "        p['People and Society'][{'Life expectancy at birth'}][0]['total population']['text'].split(' ')[0],\n",
    "        p['Government'][{'Executive branch'}][0],\n",
    "        p['Government'][{'Legislative branch'}][0],\n",
    "        int(p['Economy'][{'GDP - per capita (PPP)'}][0]['text'].split(' ')[0].lstrip('$').replace(',', '')),\n",
    "        p['Economy'][{'Unemployment rate'}][0]['text'].split('%')[0],\n",
    "        p['Economy'][{'Population below poverty line'}][0],\n",
    "        p['Economy'][{'Inflation rate (consumer prices)'}][0]['text'].split('%')[0],\n",
    "        p['Energy'][{'Electricity - from other renewable sources'}][0]['text'].split('%')[0],\n",
    "        p['Energy'][{'Carbon dioxide emissions from consumption of energy'}][0]['text'].split(' ')[0],\n",
    "        p['Communications'][{'Internet users'}][0]['percent of population']['text'].split('%')[0]\n",
    "        ]\n",
    "       \n",
    "        for p in countries)\n"
   ]
  },
  {
   "cell_type": "code",
   "execution_count": 40,
   "metadata": {},
   "outputs": [],
   "source": [
    "factBook\n",
    "#re-assign proper column names\n",
    "factBook.columns=['Country','Coordinates','Natural_hazards','Environment_issues',\n",
    "        'Population',\n",
    "        'Age_structure0-14',\n",
    "        'Age_structure15-24',\n",
    "        'Age_structure25-54',\n",
    "        'Age_structure55-64',\n",
    "        'Age_structureover65',\n",
    "        'Religions',\n",
    "        'Ethnic_groups',\n",
    "        'Median_age',\n",
    "        'Population_growth_rate',\n",
    "        'Birth_rate',\n",
    "        'Death_rate',\n",
    "        'Net_migration_rate',\n",
    "        'Sex_ratio',\n",
    "        'Life_expectancy_at_birth',\n",
    "        'Executive_branch',\n",
    "        'Legislative_branch',\n",
    "        'GDP_per_capita',\n",
    "        'Unemployment_rate',\n",
    "        'Population_below_poverty_line',\n",
    "        'Inflation_rate',\n",
    "        'Electricity_renewable_sources',\n",
    "        'Carbon_dioxide_emissions',\n",
    "        'Internet_users']"
   ]
  },
  {
   "cell_type": "markdown",
   "metadata": {},
   "source": [
    "### PART 2 : PRE-PROCESS AND PLOT SOME INTERESTING FEATURES SUCH AS POPULATION, GDP, UNEMPLOYEMENT RATE PER COUNTRY"
   ]
  },
  {
   "cell_type": "code",
   "execution_count": 41,
   "metadata": {},
   "outputs": [
    {
     "data": {
      "text/plain": [
       "0      United States\n",
       "1            Ireland\n",
       "2          Australia\n",
       "3     United Kingdom\n",
       "4             Canada\n",
       "5              India\n",
       "6        New Zealand\n",
       "7       South Africa\n",
       "8          Sri Lanka\n",
       "9          Singapore\n",
       "10       Philippines\n",
       "11             Ghana\n",
       "12           Nigeria\n",
       "13             Kenya\n",
       "14         Hong Kong\n",
       "15           Jamaica\n",
       "16          Pakistan\n",
       "17        Bangladesh\n",
       "18          Malaysia\n",
       "19          Tanzania\n",
       "Name: Country, dtype: object"
      ]
     },
     "execution_count": 41,
     "metadata": {},
     "output_type": "execute_result"
    }
   ],
   "source": [
    "factBook['Country']"
   ]
  },
  {
   "cell_type": "markdown",
   "metadata": {},
   "source": [
    "### Population"
   ]
  },
  {
   "cell_type": "code",
   "execution_count": 42,
   "metadata": {},
   "outputs": [],
   "source": [
    "factBook['Population'][8]='22235000'"
   ]
  },
  {
   "cell_type": "code",
   "execution_count": 43,
   "metadata": {},
   "outputs": [
    {
     "data": {
      "text/plain": [
       "0      323995528\n",
       "1        4952473\n",
       "2       22992654\n",
       "3       64430428\n",
       "4       35362905\n",
       "5     1266883598\n",
       "6        4474549\n",
       "7       54300704\n",
       "8       22235000\n",
       "9        5781728\n",
       "10     102624209\n",
       "11      26908262\n",
       "12     186053386\n",
       "13      46790758\n",
       "14       7167403\n",
       "15       2970340\n",
       "16     201995540\n",
       "17     156186882\n",
       "18      30949962\n",
       "19      52482726\n",
       "Name: Population, dtype: int64"
      ]
     },
     "execution_count": 43,
     "metadata": {},
     "output_type": "execute_result"
    }
   ],
   "source": [
    "factBook['Population']=factBook['Population'].astype('int')\n",
    "factBook['Population']"
   ]
  },
  {
   "cell_type": "code",
   "execution_count": 44,
   "metadata": {},
   "outputs": [
    {
     "data": {
      "text/plain": [
       "count    2.000000e+01\n",
       "mean     1.309770e+08\n",
       "std      2.803522e+08\n",
       "min      2.970340e+06\n",
       "25%      1.846810e+07\n",
       "50%      4.107683e+07\n",
       "75%      1.160149e+08\n",
       "max      1.266884e+09\n",
       "Name: Population, dtype: float64"
      ]
     },
     "execution_count": 44,
     "metadata": {},
     "output_type": "execute_result"
    }
   ],
   "source": [
    "factBook['Population'].describe()"
   ]
  },
  {
   "cell_type": "code",
   "execution_count": 45,
   "metadata": {
    "scrolled": false
   },
   "outputs": [
    {
     "data": {
      "text/plain": [
       "([0, 1, 2, 3, 4, 5, 6, 7, 8, 9, 10, 11, 12, 13, 14, 15, 16, 17, 18, 19],\n",
       " <a list of 20 Text xticklabel objects>)"
      ]
     },
     "execution_count": 45,
     "metadata": {},
     "output_type": "execute_result"
    },
    {
     "data": {
      "image/png": "[encoded data removed]",
      "text/plain": [
       "<Figure size 432x288 with 1 Axes>"
      ]
     },
     "metadata": {},
     "output_type": "display_data"
    }
   ],
   "source": [
    "#Plot Population data for selected countries\n",
    "plt.bar(factBook['Country'],factBook['Population'])\n",
    "plt.xticks(rotation=90)"
   ]
  },
  {
   "cell_type": "markdown",
   "metadata": {},
   "source": [
    "__As we see from the statistics and the plot India's population compared to the other countries is very large. In our future analysis while we are grouping the countries per population and check the relationship between the news topics that they are talking about, we can group the countries according to the order of magnitude of the population.__ "
   ]
  },
  {
   "cell_type": "code",
   "execution_count": 46,
   "metadata": {},
   "outputs": [],
   "source": [
    "Population=factBook[['Country','Population']]\n",
    "Population.to_csv('../Data/Population.csv',index=False)"
   ]
  },
  {
   "cell_type": "markdown",
   "metadata": {},
   "source": [
    "### Age_structure"
   ]
  },
  {
   "cell_type": "code",
   "execution_count": 47,
   "metadata": {},
   "outputs": [],
   "source": [
    "factBook['Age_structure0-14']=factBook['Age_structure0-14'].astype('float')\n",
    "factBook['Age_structure15-24']=factBook['Age_structure15-24'].astype('float')\n",
    "factBook['Age_structure25-54']=factBook['Age_structure25-54'].astype('float')\n",
    "factBook['Age_structure55-64']=factBook['Age_structure55-64'].astype('float')\n",
    "factBook['Age_structureover65']=factBook['Age_structureover65'].astype('float')"
   ]
  },
  {
   "cell_type": "code",
   "execution_count": 48,
   "metadata": {},
   "outputs": [
    {
     "data": {
      "text/plain": [
       "Text(0,0.5,'Age_structure0-14')"
      ]
     },
     "execution_count": 48,
     "metadata": {},
     "output_type": "execute_result"
    },
    {
     "data": {
      "image/png": "[encoded data removed]",
      "text/plain": [
       "<Figure size 432x288 with 1 Axes>"
      ]
     },
     "metadata": {},
     "output_type": "display_data"
    }
   ],
   "source": [
    "#Plot Age_structure0-14 for selected countries populations\n",
    "plt.bar(factBook['Country'],factBook['Age_structure0-14'])\n",
    "plt.xticks(rotation=90)\n",
    "plt.ylabel('Age_structure0-14')"
   ]
  },
  {
   "cell_type": "code",
   "execution_count": 49,
   "metadata": {},
   "outputs": [
    {
     "data": {
      "text/plain": [
       "Text(0,0.5,'Age_structure15-24')"
      ]
     },
     "execution_count": 49,
     "metadata": {},
     "output_type": "execute_result"
    },
    {
     "data": {
      "image/png": "[encoded data removed]",
      "text/plain": [
       "<Figure size 432x288 with 1 Axes>"
      ]
     },
     "metadata": {},
     "output_type": "display_data"
    }
   ],
   "source": [
    "#Plot Age_structure15-24 for selected countries populations\n",
    "plt.bar(factBook['Country'],factBook['Age_structure15-24'])\n",
    "plt.xticks(rotation=90)\n",
    "plt.ylabel('Age_structure15-24')"
   ]
  },
  {
   "cell_type": "code",
   "execution_count": 50,
   "metadata": {},
   "outputs": [],
   "source": [
    "Age_structure15_24=factBook[['Country','Age_structure15-24']]\n",
    "Age_structure15_24.to_csv('../Data/Age_structure15-24.csv',index=False)"
   ]
  },
  {
   "cell_type": "markdown",
   "metadata": {},
   "source": [
    "### Religions"
   ]
  },
  {
   "cell_type": "markdown",
   "metadata": {},
   "source": [
    "### Ethnic_groups"
   ]
  },
  {
   "cell_type": "markdown",
   "metadata": {},
   "source": [
    "### Median age"
   ]
  },
  {
   "cell_type": "code",
   "execution_count": 51,
   "metadata": {},
   "outputs": [],
   "source": [
    "factBook['Median_age']=factBook['Median_age'].astype('float')"
   ]
  },
  {
   "cell_type": "code",
   "execution_count": 52,
   "metadata": {
    "scrolled": true
   },
   "outputs": [
    {
     "data": {
      "text/plain": [
       "count    20.000000\n",
       "mean     30.085000\n",
       "std       8.380194\n",
       "min      17.600000\n",
       "25%      23.400000\n",
       "50%      27.900000\n",
       "75%      37.825000\n",
       "max      44.000000\n",
       "Name: Median_age, dtype: float64"
      ]
     },
     "execution_count": 52,
     "metadata": {},
     "output_type": "execute_result"
    }
   ],
   "source": [
    "factBook['Median_age'].describe()"
   ]
  },
  {
   "cell_type": "code",
   "execution_count": 53,
   "metadata": {},
   "outputs": [
    {
     "data": {
      "text/plain": [
       "Text(0,0.5,'Median_age (years)')"
      ]
     },
     "execution_count": 53,
     "metadata": {},
     "output_type": "execute_result"
    },
    {
     "data": {
      "image/png": "[encoded data removed]",
      "text/plain": [
       "<Figure size 432x288 with 1 Axes>"
      ]
     },
     "metadata": {},
     "output_type": "display_data"
    }
   ],
   "source": [
    "#Plot Median_age for selected countries populations\n",
    "plt.bar(factBook['Country'],factBook['Median_age'])\n",
    "plt.xticks(rotation=90)\n",
    "plt.ylabel('Median_age (years)')"
   ]
  },
  {
   "cell_type": "code",
   "execution_count": 54,
   "metadata": {},
   "outputs": [],
   "source": [
    "Median_age=factBook[['Country','Median_age']]\n",
    "Median_age.to_csv('../Data/Median_age.csv',index=False)"
   ]
  },
  {
   "cell_type": "markdown",
   "metadata": {},
   "source": [
    "### Population_growth_rate"
   ]
  },
  {
   "cell_type": "code",
   "execution_count": 55,
   "metadata": {},
   "outputs": [],
   "source": [
    "factBook['Population_growth_rate']=factBook['Population_growth_rate'].astype('float')"
   ]
  },
  {
   "cell_type": "code",
   "execution_count": 56,
   "metadata": {},
   "outputs": [
    {
     "data": {
      "text/plain": [
       "count    20.000000\n",
       "mean      1.284500\n",
       "std       0.652812\n",
       "min       0.350000\n",
       "25%       0.800000\n",
       "50%       1.120000\n",
       "75%       1.645000\n",
       "max       2.770000\n",
       "Name: Population_growth_rate, dtype: float64"
      ]
     },
     "execution_count": 56,
     "metadata": {},
     "output_type": "execute_result"
    }
   ],
   "source": [
    "factBook['Population_growth_rate'].describe()"
   ]
  },
  {
   "cell_type": "code",
   "execution_count": 57,
   "metadata": {},
   "outputs": [
    {
     "data": {
      "text/plain": [
       "Text(0,0.5,'Population_growth_rate (%)')"
      ]
     },
     "execution_count": 57,
     "metadata": {},
     "output_type": "execute_result"
    },
    {
     "data": {
      "image/png": "[encoded data removed]",
      "text/plain": [
       "<Figure size 432x288 with 1 Axes>"
      ]
     },
     "metadata": {},
     "output_type": "display_data"
    }
   ],
   "source": [
    "#Plot Population_growth_rate for selected countries number/1000\n",
    "plt.bar(factBook['Country'],factBook['Population_growth_rate'])\n",
    "plt.xticks(rotation=90)\n",
    "plt.ylabel('Population_growth_rate (%)')"
   ]
  },
  {
   "cell_type": "code",
   "execution_count": 58,
   "metadata": {},
   "outputs": [],
   "source": [
    "Population_growth_rate=factBook[['Country','Population_growth_rate']]\n",
    "Population_growth_rate.to_csv('../Data/Population_growth_rate.csv',index=False)"
   ]
  },
  {
   "cell_type": "markdown",
   "metadata": {},
   "source": [
    "### Birth_rate"
   ]
  },
  {
   "cell_type": "markdown",
   "metadata": {},
   "source": [
    "(the average annual number of births during a year per 1,000 persons in the population at midyear)"
   ]
  },
  {
   "cell_type": "code",
   "execution_count": 59,
   "metadata": {},
   "outputs": [],
   "source": [
    "factBook['Birth_rate']=factBook['Birth_rate'].astype('float')"
   ]
  },
  {
   "cell_type": "code",
   "execution_count": 60,
   "metadata": {},
   "outputs": [
    {
     "data": {
      "text/plain": [
       "count    20.000000\n",
       "mean     18.975000\n",
       "std       8.361055\n",
       "min       8.400000\n",
       "25%      12.400000\n",
       "50%      18.500000\n",
       "75%      22.725000\n",
       "max      37.300000\n",
       "Name: Birth_rate, dtype: float64"
      ]
     },
     "execution_count": 60,
     "metadata": {},
     "output_type": "execute_result"
    }
   ],
   "source": [
    "factBook['Birth_rate'].describe()"
   ]
  },
  {
   "cell_type": "code",
   "execution_count": 61,
   "metadata": {},
   "outputs": [
    {
     "data": {
      "text/plain": [
       "Text(0,0.5,'Birth Rate per 1000')"
      ]
     },
     "execution_count": 61,
     "metadata": {},
     "output_type": "execute_result"
    },
    {
     "data": {
      "image/png": "[encoded data removed]",
      "text/plain": [
       "<Figure size 432x288 with 1 Axes>"
      ]
     },
     "metadata": {},
     "output_type": "display_data"
    }
   ],
   "source": [
    "#Plot Birth_rate for selected countries number/1000\n",
    "plt.bar(factBook['Country'],factBook['Birth_rate'])\n",
    "plt.xticks(rotation=90)\n",
    "plt.ylabel('Birth Rate per 1000')"
   ]
  },
  {
   "cell_type": "code",
   "execution_count": 62,
   "metadata": {},
   "outputs": [],
   "source": [
    "Birth_rate=factBook[['Country','Birth_rate']]\n",
    "Birth_rate.to_csv('../Data/Birth_rate.csv',index=False)"
   ]
  },
  {
   "cell_type": "markdown",
   "metadata": {},
   "source": [
    "### Death_rate"
   ]
  },
  {
   "cell_type": "code",
   "execution_count": 63,
   "metadata": {},
   "outputs": [],
   "source": [
    "factBook['Death_rate']=factBook['Death_rate'].astype('float')"
   ]
  },
  {
   "cell_type": "code",
   "execution_count": 64,
   "metadata": {},
   "outputs": [
    {
     "data": {
      "text/plain": [
       "count    20.000000\n",
       "mean      7.250000\n",
       "std       1.910773\n",
       "min       3.500000\n",
       "25%       6.350000\n",
       "50%       7.150000\n",
       "75%       7.900000\n",
       "max      12.700000\n",
       "Name: Death_rate, dtype: float64"
      ]
     },
     "execution_count": 64,
     "metadata": {},
     "output_type": "execute_result"
    }
   ],
   "source": [
    "factBook['Death_rate'].describe()"
   ]
  },
  {
   "cell_type": "code",
   "execution_count": 65,
   "metadata": {},
   "outputs": [
    {
     "data": {
      "text/plain": [
       "Text(0,0.5,'Death_rate per 1000')"
      ]
     },
     "execution_count": 65,
     "metadata": {},
     "output_type": "execute_result"
    },
    {
     "data": {
      "image/png": "[encoded data removed]",
      "text/plain": [
       "<Figure size 432x288 with 1 Axes>"
      ]
     },
     "metadata": {},
     "output_type": "display_data"
    }
   ],
   "source": [
    "#Plot Death_rate for selected countries number/1000\n",
    "plt.bar(factBook['Country'],factBook['Death_rate'])\n",
    "plt.xticks(rotation=90)\n",
    "plt.ylabel('Death_rate per 1000')"
   ]
  },
  {
   "cell_type": "code",
   "execution_count": 66,
   "metadata": {},
   "outputs": [],
   "source": [
    "Death_rate=factBook[['Country','Death_rate']]\n",
    "Death_rate.to_csv('../Data/Death_rate.csv',index=False)"
   ]
  },
  {
   "cell_type": "markdown",
   "metadata": {},
   "source": [
    "### Net_migration_rate"
   ]
  },
  {
   "cell_type": "code",
   "execution_count": 67,
   "metadata": {},
   "outputs": [
    {
     "data": {
      "text/plain": [
       "0      3.9 migrant(s)/1,000 population (2016 est.)\n",
       "1        4 migrant(s)/1,000 population (2016 est.)\n",
       "2      5.6 migrant(s)/1,000 population (2016 est.)\n",
       "3      2.5 migrant(s)/1,000 population (2016 est.)\n",
       "4      5.7 migrant(s)/1,000 population (2016 est.)\n",
       "5        0 migrant(s)/1,000 population (2016 est.)\n",
       "6      2.2 migrant(s)/1,000 population (2016 est.)\n",
       "7     -0.9 migrant(s)/1,000 population (2016 est.)\n",
       "8     -1.3 migrant(s)/1,000 population (2016 est.)\n",
       "9     13.6 migrant(s)/1,000 population (2016 est.)\n",
       "10      -2 migrant(s)/1,000 population (2016 est.)\n",
       "11    -1.9 migrant(s)/1,000 population (2016 est.)\n",
       "12    -0.2 migrant(s)/1,000 population (2016 est.)\n",
       "13    -0.2 migrant(s)/1,000 population (2016 est.)\n",
       "14     1.7 migrant(s)/1,000 population (2016 est.)\n",
       "15    -4.5 migrant(s)/1,000 population (2016 est.)\n",
       "16    -1.4 migrant(s)/1,000 population (2016 est.)\n",
       "17    -3.1 migrant(s)/1,000 population (2016 est.)\n",
       "18    -0.3 migrant(s)/1,000 population (2016 est.)\n",
       "19    -0.5 migrant(s)/1,000 population (2016 est.)\n",
       "Name: 12, dtype: object"
      ]
     },
     "execution_count": 67,
     "metadata": {},
     "output_type": "execute_result"
    }
   ],
   "source": [
    "#raw Net_migration_rate data\n",
    "factBookCheck[12]"
   ]
  },
  {
   "cell_type": "code",
   "execution_count": 68,
   "metadata": {},
   "outputs": [],
   "source": [
    "factBook['Net_migration_rate']=factBook['Net_migration_rate'].astype('float')"
   ]
  },
  {
   "cell_type": "code",
   "execution_count": 69,
   "metadata": {},
   "outputs": [
    {
     "data": {
      "text/plain": [
       "count    20.000000\n",
       "mean      1.145000\n",
       "std       4.040124\n",
       "min      -4.500000\n",
       "25%      -1.325000\n",
       "50%      -0.200000\n",
       "75%       2.850000\n",
       "max      13.600000\n",
       "Name: Net_migration_rate, dtype: float64"
      ]
     },
     "execution_count": 69,
     "metadata": {},
     "output_type": "execute_result"
    }
   ],
   "source": [
    "factBook['Net_migration_rate'].describe()"
   ]
  },
  {
   "cell_type": "code",
   "execution_count": 70,
   "metadata": {},
   "outputs": [
    {
     "data": {
      "text/plain": [
       "Text(0,0.5,'Net_migration_rate per 1000')"
      ]
     },
     "execution_count": 70,
     "metadata": {},
     "output_type": "execute_result"
    },
    {
     "data": {
      "image/png": "[encoded data removed]",
      "text/plain": [
       "<Figure size 432x288 with 1 Axes>"
      ]
     },
     "metadata": {},
     "output_type": "display_data"
    }
   ],
   "source": [
    "#Plot Net_migration_rate for selected countries number/1000\n",
    "plt.bar(factBook['Country'],factBook['Net_migration_rate'])\n",
    "plt.xticks(rotation=90)\n",
    "plt.ylabel('Net_migration_rate per 1000')"
   ]
  },
  {
   "cell_type": "code",
   "execution_count": 71,
   "metadata": {},
   "outputs": [],
   "source": [
    "Net_migration_rate=factBook[['Country','Net_migration_rate']]\n",
    "Net_migration_rate.to_csv('../Data/Net_migration_rate.csv',index=False)"
   ]
  },
  {
   "cell_type": "markdown",
   "metadata": {},
   "source": [
    "### Sex_ratio male/female"
   ]
  },
  {
   "cell_type": "code",
   "execution_count": 72,
   "metadata": {},
   "outputs": [],
   "source": [
    "factBook['Sex_ratio']=factBook['Sex_ratio'].astype('float')"
   ]
  },
  {
   "cell_type": "code",
   "execution_count": 73,
   "metadata": {},
   "outputs": [
    {
     "data": {
      "text/plain": [
       "count    20.000000\n",
       "mean      0.992000\n",
       "std       0.043359\n",
       "min       0.870000\n",
       "25%       0.970000\n",
       "50%       0.990000\n",
       "75%       1.010000\n",
       "max       1.080000\n",
       "Name: Sex_ratio, dtype: float64"
      ]
     },
     "execution_count": 73,
     "metadata": {},
     "output_type": "execute_result"
    }
   ],
   "source": [
    "factBook['Sex_ratio'].describe()"
   ]
  },
  {
   "cell_type": "code",
   "execution_count": 74,
   "metadata": {},
   "outputs": [
    {
     "data": {
      "text/plain": [
       "Text(0,0.5,'Sex_ratio (male/female)')"
      ]
     },
     "execution_count": 74,
     "metadata": {},
     "output_type": "execute_result"
    },
    {
     "data": {
      "image/png": "[encoded data removed]",
      "text/plain": [
       "<Figure size 432x288 with 1 Axes>"
      ]
     },
     "metadata": {},
     "output_type": "display_data"
    }
   ],
   "source": [
    "#Plot Sex_ratio (male/female) for selected countries populations\n",
    "plt.bar(factBook['Country'],factBook['Sex_ratio'])\n",
    "plt.xticks(rotation=90)\n",
    "plt.ylabel('Sex_ratio (male/female)')"
   ]
  },
  {
   "cell_type": "code",
   "execution_count": 75,
   "metadata": {},
   "outputs": [],
   "source": [
    "Sex_ratio=factBook[['Country','Sex_ratio']]\n",
    "Sex_ratio.to_csv('../Data/Sex_ratio.csv',index=False)"
   ]
  },
  {
   "cell_type": "markdown",
   "metadata": {},
   "source": [
    "### Life_expectancy_at_birth"
   ]
  },
  {
   "cell_type": "code",
   "execution_count": 76,
   "metadata": {},
   "outputs": [
    {
     "data": {
      "text/plain": [
       "{'total population': {'text': '82.2 years'},\n",
       " 'male': {'text': '79.8 years'},\n",
       " 'female': {'text': '84.8 years (2016 est.)'}}"
      ]
     },
     "execution_count": 76,
     "metadata": {},
     "output_type": "execute_result"
    }
   ],
   "source": [
    "#raw Life_expectancy_at_birth data\n",
    "factBookCheck[14][2]"
   ]
  },
  {
   "cell_type": "code",
   "execution_count": 77,
   "metadata": {},
   "outputs": [],
   "source": [
    "factBook['Life_expectancy_at_birth']=factBook['Life_expectancy_at_birth'].astype('float')"
   ]
  },
  {
   "cell_type": "code",
   "execution_count": 78,
   "metadata": {
    "scrolled": true
   },
   "outputs": [
    {
     "data": {
      "text/plain": [
       "count    20.000000\n",
       "mean     73.390000\n",
       "std       8.702141\n",
       "min      53.400000\n",
       "25%      67.425000\n",
       "50%      74.300000\n",
       "75%      80.900000\n",
       "max      85.000000\n",
       "Name: Life_expectancy_at_birth, dtype: float64"
      ]
     },
     "execution_count": 78,
     "metadata": {},
     "output_type": "execute_result"
    }
   ],
   "source": [
    "factBook['Life_expectancy_at_birth'].describe()"
   ]
  },
  {
   "cell_type": "code",
   "execution_count": 79,
   "metadata": {},
   "outputs": [
    {
     "data": {
      "text/plain": [
       "Text(0,0.5,'Life_expectancy_at_birth (years)')"
      ]
     },
     "execution_count": 79,
     "metadata": {},
     "output_type": "execute_result"
    },
    {
     "data": {
      "image/png": "[encoded data removed]",
      "text/plain": [
       "<Figure size 432x288 with 1 Axes>"
      ]
     },
     "metadata": {},
     "output_type": "display_data"
    }
   ],
   "source": [
    "#Plot Sex_ratio (male/female) for selected countries populations\n",
    "plt.bar(factBook['Country'],factBook['Life_expectancy_at_birth'])\n",
    "plt.xticks(rotation=90)\n",
    "plt.ylabel('Life_expectancy_at_birth (years)')"
   ]
  },
  {
   "cell_type": "code",
   "execution_count": 80,
   "metadata": {},
   "outputs": [],
   "source": [
    "Life_expectancy_at_birth=factBook[['Country','Life_expectancy_at_birth']]\n",
    "Life_expectancy_at_birth.to_csv('../Data/Life_expectancy_at_birth.csv',index=False)"
   ]
  },
  {
   "cell_type": "markdown",
   "metadata": {},
   "source": [
    "### Executive_branch"
   ]
  },
  {
   "cell_type": "markdown",
   "metadata": {},
   "source": [
    "### Legislative_branch"
   ]
  },
  {
   "cell_type": "markdown",
   "metadata": {},
   "source": [
    "### Unemployment_rate"
   ]
  },
  {
   "cell_type": "code",
   "execution_count": 81,
   "metadata": {
    "scrolled": false
   },
   "outputs": [
    {
     "data": {
      "text/plain": [
       "0      4.7\n",
       "1        8\n",
       "2      5.8\n",
       "3      5.1\n",
       "4      7.1\n",
       "5      8.4\n",
       "6      5.1\n",
       "7     26.8\n",
       "8      4.5\n",
       "9      2.1\n",
       "10     6.6\n",
       "11     5.2\n",
       "12    23.9\n",
       "13      40\n",
       "14     3.6\n",
       "15    13.8\n",
       "16     6.7\n",
       "17     4.9\n",
       "18     3.3\n",
       "19      NA\n",
       "Name: Unemployment_rate, dtype: object"
      ]
     },
     "execution_count": 81,
     "metadata": {},
     "output_type": "execute_result"
    }
   ],
   "source": [
    "factBook['Unemployment_rate']"
   ]
  },
  {
   "cell_type": "code",
   "execution_count": 82,
   "metadata": {},
   "outputs": [],
   "source": [
    "# we have one missing value in Tanzania, we can find it from another source or remove this country from the analysis\n",
    "# for now, we provided the statistics and plots by excluding this specific country\n",
    "factBook['Unemployment_rate']=factBook['Unemployment_rate'].replace('NA','-1')\n",
    "factBook['Unemployment_rate']=factBook['Unemployment_rate'].astype('float')"
   ]
  },
  {
   "cell_type": "code",
   "execution_count": 83,
   "metadata": {
    "scrolled": false
   },
   "outputs": [
    {
     "data": {
      "text/plain": [
       "count    19.000000\n",
       "mean      9.768421\n",
       "std       9.853372\n",
       "min       2.100000\n",
       "25%       4.800000\n",
       "50%       5.800000\n",
       "75%       8.200000\n",
       "max      40.000000\n",
       "Name: Unemployment_rate, dtype: float64"
      ]
     },
     "execution_count": 83,
     "metadata": {},
     "output_type": "execute_result"
    }
   ],
   "source": [
    "factBook[factBook['Unemployment_rate']!=-1]['Unemployment_rate'].describe()"
   ]
  },
  {
   "cell_type": "code",
   "execution_count": 84,
   "metadata": {
    "scrolled": true
   },
   "outputs": [
    {
     "data": {
      "text/plain": [
       "Text(0,0.5,'Unemployement Rate %')"
      ]
     },
     "execution_count": 84,
     "metadata": {},
     "output_type": "execute_result"
    },
    {
     "data": {
      "image/png": "[encoded data removed]",
      "text/plain": [
       "<Figure size 432x288 with 1 Axes>"
      ]
     },
     "metadata": {},
     "output_type": "display_data"
    }
   ],
   "source": [
    "#Plot Unemployement Rate for selected countries except nan values\n",
    "plt.bar(factBook[factBook['Unemployment_rate']!=-1]['Country'],factBook[factBook['Unemployment_rate']!=-1]['Unemployment_rate'])\n",
    "plt.xticks(rotation=90)\n",
    "plt.ylabel('Unemployement Rate %')"
   ]
  },
  {
   "cell_type": "markdown",
   "metadata": {},
   "source": [
    "__Unemployement percentages of the countries changes from 2.1% to 40% of the population. In this data we have values from years ranging from 2006 to 2017. \n",
    "We will check if the values belong to earlier than 2015 is consistant or not from the Internet then update the results before correlating with the news data.__ "
   ]
  },
  {
   "cell_type": "code",
   "execution_count": 85,
   "metadata": {},
   "outputs": [],
   "source": [
    "Unemployment_rate=factBook[['Country','Unemployment_rate']]\n",
    "Unemployment_rate.to_csv('../Data/Unemployment_rate.csv',index=False)"
   ]
  },
  {
   "cell_type": "markdown",
   "metadata": {},
   "source": [
    "### Population_below_poverty_line"
   ]
  },
  {
   "cell_type": "code",
   "execution_count": 86,
   "metadata": {},
   "outputs": [
    {
     "data": {
      "text/plain": [
       "0                         {'text': '15.1% (2010 est.)'}\n",
       "1                          {'text': '8.2% (2013 est.)'}\n",
       "2                                       {'text': 'NA%'}\n",
       "3                           {'text': '15% (2013 est.)'}\n",
       "4     {'text': '9.4%', 'note': {'text': 'this figure...\n",
       "5                         {'text': '29.8% (2010 est.)'}\n",
       "6                                       {'text': 'NA%'}\n",
       "7                         {'text': '35.9% (2012 est.)'}\n",
       "8                          {'text': '8.9% (2010 est.)'}\n",
       "9                                       {'text': 'NA%'}\n",
       "10                        {'text': '25.2% (2012 est.)'}\n",
       "11                        {'text': '24.2% (2013 est.)'}\n",
       "12                          {'text': '70% (2010 est.)'}\n",
       "13                        {'text': '43.4% (2012 est.)'}\n",
       "14                        {'text': '19.6% (2012 est.)'}\n",
       "15                        {'text': '16.5% (2009 est.)'}\n",
       "16                      {'text': '22.3% (FY2005 est.)'}\n",
       "17                        {'text': '31.5% (2010 est.)'}\n",
       "18                         {'text': '3.8% (2009 est.)'}\n",
       "19                        {'text': '67.9% (2011 est.)'}\n",
       "Name: Population_below_poverty_line, dtype: object"
      ]
     },
     "execution_count": 86,
     "metadata": {},
     "output_type": "execute_result"
    }
   ],
   "source": [
    "factBook['Population_below_poverty_line']"
   ]
  },
  {
   "cell_type": "markdown",
   "metadata": {},
   "source": [
    "Since the data time changes from 2005 to 2013 we decided not to use this feature of the data set to correlate with news data."
   ]
  },
  {
   "cell_type": "markdown",
   "metadata": {},
   "source": [
    "### Inflation_rate (%)"
   ]
  },
  {
   "cell_type": "code",
   "execution_count": 87,
   "metadata": {},
   "outputs": [],
   "source": [
    "factBook['Inflation_rate']=factBook['Inflation_rate'].astype('float')"
   ]
  },
  {
   "cell_type": "code",
   "execution_count": 88,
   "metadata": {
    "scrolled": true
   },
   "outputs": [
    {
     "data": {
      "text/plain": [
       "count    20.000000\n",
       "mean      4.185000\n",
       "std       4.754198\n",
       "min      -0.800000\n",
       "25%       1.375000\n",
       "50%       2.550000\n",
       "75%       5.600000\n",
       "max      17.800000\n",
       "Name: Inflation_rate, dtype: float64"
      ]
     },
     "execution_count": 88,
     "metadata": {},
     "output_type": "execute_result"
    }
   ],
   "source": [
    "factBook['Inflation_rate'].describe()"
   ]
  },
  {
   "cell_type": "code",
   "execution_count": 89,
   "metadata": {},
   "outputs": [
    {
     "data": {
      "text/plain": [
       "Text(0,0.5,'Inflation_rate (%)')"
      ]
     },
     "execution_count": 89,
     "metadata": {},
     "output_type": "execute_result"
    },
    {
     "data": {
      "image/png": "[encoded data removed]",
      "text/plain": [
       "<Figure size 432x288 with 1 Axes>"
      ]
     },
     "metadata": {},
     "output_type": "display_data"
    }
   ],
   "source": [
    "#Plot Inflation_rate (%) for selected countries \n",
    "plt.bar(factBook['Country'],factBook['Inflation_rate'])\n",
    "plt.xticks(rotation=90)\n",
    "plt.ylabel('Inflation_rate (%)')"
   ]
  },
  {
   "cell_type": "code",
   "execution_count": 90,
   "metadata": {},
   "outputs": [],
   "source": [
    "Inflation_rate=factBook[['Country','Inflation_rate']]\n",
    "Inflation_rate.to_csv('../Data/Inflation_rate.csv',index=False)"
   ]
  },
  {
   "cell_type": "markdown",
   "metadata": {},
   "source": [
    "### GDP_per_capita"
   ]
  },
  {
   "cell_type": "code",
   "execution_count": 91,
   "metadata": {
    "scrolled": false
   },
   "outputs": [
    {
     "data": {
      "text/plain": [
       "count       20.000000\n",
       "mean     27365.000000\n",
       "std      26282.479155\n",
       "min       3100.000000\n",
       "25%       5700.000000\n",
       "50%      12200.000000\n",
       "75%      46850.000000\n",
       "max      87100.000000\n",
       "Name: GDP_per_capita, dtype: float64"
      ]
     },
     "execution_count": 91,
     "metadata": {},
     "output_type": "execute_result"
    }
   ],
   "source": [
    "factBook['GDP_per_capita'].describe()"
   ]
  },
  {
   "cell_type": "code",
   "execution_count": 92,
   "metadata": {
    "scrolled": true
   },
   "outputs": [
    {
     "data": {
      "text/plain": [
       "Text(0,0.5,'GDP_per_capita')"
      ]
     },
     "execution_count": 92,
     "metadata": {},
     "output_type": "execute_result"
    },
    {
     "data": {
      "image/png": "[encoded data removed]",
      "text/plain": [
       "<Figure size 432x288 with 1 Axes>"
      ]
     },
     "metadata": {},
     "output_type": "display_data"
    }
   ],
   "source": [
    "#Plot GDP per capita for selected countries\n",
    "plt.bar(factBook['Country'],factBook['GDP_per_capita'])\n",
    "plt.xticks(rotation=90)\n",
    "plt.ylabel('GDP_per_capita')"
   ]
  },
  {
   "cell_type": "markdown",
   "metadata": {},
   "source": [
    "__As we see from the statistics and the plot GDP per capita difference changes from 3100 to 87100. In this feature we can check the percentage of topics on the news vs GDP after normalizizng the GDP data. We can also group the countries by 25%, 50% and 75% percentiles values.__ "
   ]
  },
  {
   "cell_type": "code",
   "execution_count": 93,
   "metadata": {},
   "outputs": [],
   "source": [
    "GDP_per_capita=factBook[['Country','GDP_per_capita']]\n",
    "GDP_per_capita.to_csv('../Data/GDP_per_capita.csv',index=False)"
   ]
  },
  {
   "cell_type": "markdown",
   "metadata": {},
   "source": [
    "### Electricity_renewable_sources"
   ]
  },
  {
   "cell_type": "code",
   "execution_count": 94,
   "metadata": {},
   "outputs": [],
   "source": [
    "factBook['Electricity_renewable_sources']=factBook['Electricity_renewable_sources'].astype('float')"
   ]
  },
  {
   "cell_type": "code",
   "execution_count": 95,
   "metadata": {},
   "outputs": [
    {
     "data": {
      "text/plain": [
       "count    20.000000\n",
       "mean      6.435000\n",
       "std       6.887385\n",
       "min       0.000000\n",
       "25%       0.625000\n",
       "50%       4.900000\n",
       "75%      11.375000\n",
       "max      25.000000\n",
       "Name: Electricity_renewable_sources, dtype: float64"
      ]
     },
     "execution_count": 95,
     "metadata": {},
     "output_type": "execute_result"
    }
   ],
   "source": [
    "factBook['Electricity_renewable_sources'].describe()"
   ]
  },
  {
   "cell_type": "code",
   "execution_count": 96,
   "metadata": {},
   "outputs": [
    {
     "data": {
      "text/plain": [
       "Text(0,0.5,'Electricity from renewable sources (%)')"
      ]
     },
     "execution_count": 96,
     "metadata": {},
     "output_type": "execute_result"
    },
    {
     "data": {
      "image/png": "[encoded data removed]",
      "text/plain": [
       "<Figure size 432x288 with 1 Axes>"
      ]
     },
     "metadata": {},
     "output_type": "display_data"
    }
   ],
   "source": [
    "#Plot Percentage of Electricity from renewable sources¶ (%) for selected countries \n",
    "plt.bar(factBook['Country'],factBook['Electricity_renewable_sources'])\n",
    "plt.xticks(rotation=90)\n",
    "plt.ylabel('Electricity from renewable sources (%)')"
   ]
  },
  {
   "cell_type": "code",
   "execution_count": 97,
   "metadata": {},
   "outputs": [],
   "source": [
    "Electricity_renewable_sources=factBook[['Country','Electricity_renewable_sources']]\n",
    "Electricity_renewable_sources.to_csv('../Data/Electricity_renewable_sources.csv',index=False)"
   ]
  },
  {
   "cell_type": "markdown",
   "metadata": {},
   "source": [
    "### Carbon dioxide emissions from consumption of energy\n",
    "\n",
    "(This entry is the total amount of carbon dioxide, measured in metric tons, released by burning fossil fuels in the process of producing and consuming energy.)"
   ]
  },
  {
   "cell_type": "code",
   "execution_count": 98,
   "metadata": {},
   "outputs": [],
   "source": [
    "factBook['Carbon_dioxide_emissions']=factBook['Carbon_dioxide_emissions'].astype('float')"
   ]
  },
  {
   "cell_type": "code",
   "execution_count": 99,
   "metadata": {},
   "outputs": [],
   "source": [
    "factBook.loc[factBook['Carbon_dioxide_emissions']<6,'Carbon_dioxide_emissions']= factBook[factBook['Carbon_dioxide_emissions']<6]['Carbon_dioxide_emissions']*1000"
   ]
  },
  {
   "cell_type": "code",
   "execution_count": 100,
   "metadata": {},
   "outputs": [
    {
     "data": {
      "text/plain": [
       "count      20.000000\n",
       "mean      516.615000\n",
       "std      1226.249218\n",
       "min        10.000000\n",
       "25%        29.500000\n",
       "50%        93.500000\n",
       "75%       409.250000\n",
       "max      5402.000000\n",
       "Name: Carbon_dioxide_emissions, dtype: float64"
      ]
     },
     "execution_count": 100,
     "metadata": {},
     "output_type": "execute_result"
    }
   ],
   "source": [
    "factBook['Carbon_dioxide_emissions'].describe()"
   ]
  },
  {
   "cell_type": "code",
   "execution_count": 101,
   "metadata": {},
   "outputs": [
    {
     "data": {
      "text/plain": [
       "Text(0,0.5,'Carbon dioxide emissions from consumption of energy in metric tons')"
      ]
     },
     "execution_count": 101,
     "metadata": {},
     "output_type": "execute_result"
    },
    {
     "data": {
      "image/png": "[encoded data removed]",
      "text/plain": [
       "<Figure size 432x288 with 1 Axes>"
      ]
     },
     "metadata": {},
     "output_type": "display_data"
    }
   ],
   "source": [
    "#Plot Carbon dioxide emissions from consumption of energy in metric tons for selected countries \n",
    "plt.bar(factBook['Country'],factBook['Carbon_dioxide_emissions'])\n",
    "plt.xticks(rotation=90)\n",
    "plt.ylabel('Carbon dioxide emissions from consumption of energy in metric tons')"
   ]
  },
  {
   "cell_type": "markdown",
   "metadata": {},
   "source": [
    "As we see there are two countries having very large amount of co2 emission compared to the others. We can see the correlations between percentage of news on environmental issues vs co2 emmision."
   ]
  },
  {
   "cell_type": "code",
   "execution_count": 102,
   "metadata": {},
   "outputs": [],
   "source": [
    "carbondioxit=factBook[['Country','Carbon_dioxide_emissions']]\n",
    "carbondioxit.to_csv('../Data/Carbon_dioxide_emissions.csv',index=False)"
   ]
  },
  {
   "cell_type": "markdown",
   "metadata": {},
   "source": [
    "### Internet_users"
   ]
  },
  {
   "cell_type": "markdown",
   "metadata": {},
   "source": [
    "The percent of population with Internet access (i.e., the penetration rate) helps gauge how widespread Internet use is within a country. Statistics vary from country to country and may include users who access the Internet at least several times a week to those who access it only once within a period of several months"
   ]
  },
  {
   "cell_type": "code",
   "execution_count": 103,
   "metadata": {},
   "outputs": [],
   "source": [
    "factBook['Internet_users']=factBook['Internet_users'].astype('float')"
   ]
  },
  {
   "cell_type": "code",
   "execution_count": 104,
   "metadata": {},
   "outputs": [
    {
     "data": {
      "text/plain": [
       "count    20.000000\n",
       "mean     54.615000\n",
       "std      28.845966\n",
       "min       5.400000\n",
       "25%      29.000000\n",
       "50%      49.650000\n",
       "75%      82.725000\n",
       "max      92.000000\n",
       "Name: Internet_users, dtype: float64"
      ]
     },
     "execution_count": 104,
     "metadata": {},
     "output_type": "execute_result"
    }
   ],
   "source": [
    "factBook['Internet_users'].describe()"
   ]
  },
  {
   "cell_type": "code",
   "execution_count": 105,
   "metadata": {},
   "outputs": [
    {
     "data": {
      "text/plain": [
       "Text(0,0.5,'Internet User Percentage')"
      ]
     },
     "execution_count": 105,
     "metadata": {},
     "output_type": "execute_result"
    },
    {
     "data": {
      "image/png": "[encoded data removed]",
      "text/plain": [
       "<Figure size 432x288 with 1 Axes>"
      ]
     },
     "metadata": {},
     "output_type": "display_data"
    }
   ],
   "source": [
    "#Plot Internet User percentage for selected countries \n",
    "plt.bar(factBook['Country'],factBook['Internet_users'])\n",
    "plt.xticks(rotation=90)\n",
    "plt.ylabel('Internet User Percentage')"
   ]
  },
  {
   "cell_type": "markdown",
   "metadata": {},
   "source": [
    "As we se from the above plot we can divide the internet user groups to above %80, between %50-80, and below %50. Then we can correlate this data with news topic of corresponding country group. It can also be compared to number of news resourse data."
   ]
  },
  {
   "cell_type": "code",
   "execution_count": 106,
   "metadata": {},
   "outputs": [
    {
     "data": {
      "text/plain": [
       "0     74.6\n",
       "1     80.1\n",
       "2     84.6\n",
       "3     92.0\n",
       "4     88.5\n",
       "5     26.0\n",
       "6     88.2\n",
       "7     51.9\n",
       "8     30.0\n",
       "9     82.1\n",
       "10    40.7\n",
       "11    23.5\n",
       "12    47.4\n",
       "13    45.6\n",
       "14    85.0\n",
       "15    43.2\n",
       "16    18.0\n",
       "17    14.4\n",
       "18    71.1\n",
       "19     5.4\n",
       "Name: Internet_users, dtype: float64"
      ]
     },
     "execution_count": 106,
     "metadata": {},
     "output_type": "execute_result"
    }
   ],
   "source": [
    "factBook['Internet_users']"
   ]
  },
  {
   "cell_type": "code",
   "execution_count": 107,
   "metadata": {},
   "outputs": [],
   "source": [
    "Internetuser=factBook[['Country','Internet_users']]\n",
    "Internetuser.to_csv('../Data/Internet_users.csv',index=False)"
   ]
  },
  {
   "cell_type": "markdown",
   "metadata": {},
   "source": [
    "All data"
   ]
  },
  {
   "cell_type": "code",
   "execution_count": 109,
   "metadata": {},
   "outputs": [],
   "source": [
    "AllFacts=factBook[['Country','Population',\n",
    "        'Age_structure0-14',\n",
    "        'Age_structure15-24',\n",
    "        'Age_structure25-54',\n",
    "        'Age_structure55-64',\n",
    "        'Age_structureover65',\n",
    "        'Median_age',\n",
    "        'Population_growth_rate',\n",
    "        'Birth_rate',\n",
    "        'Death_rate',\n",
    "        'Net_migration_rate',\n",
    "        'Sex_ratio',\n",
    "        'Life_expectancy_at_birth',\n",
    "        #'Executive_branch',\n",
    "        #'Legislative_branch',\n",
    "        'GDP_per_capita',\n",
    "        'Unemployment_rate',\n",
    "        #'Population_below_poverty_line',\n",
    "        'Inflation_rate',\n",
    "        'Electricity_renewable_sources',\n",
    "        'Carbon_dioxide_emissions',\n",
    "        'Internet_users',\n",
    "        'Religions',\n",
    "        'Ethnic_groups']]\n",
    "AllFacts.to_csv('../Data/AllFacts.csv',index=False)"
   ]
  },
  {
   "cell_type": "code",
   "execution_count": 118,
   "metadata": {},
   "outputs": [
    {
     "data": {
      "text/plain": [
       "'Roman Catholic 84.7%, Church of Ireland 2.7%, other Christian 2.7%, Muslim 1.1%, other 1.7%, unspecified 1.5%, none 5.7% (2011 est.)'"
      ]
     },
     "execution_count": 118,
     "metadata": {},
     "output_type": "execute_result"
    }
   ],
   "source": [
    "factBook['Religions'][0]\n",
    "factBook['Religions'][1]"
   ]
  }
 ],
 "metadata": {
  "kernelspec": {
   "display_name": "Python 3",
   "language": "python",
   "name": "python3"
  },
  "language_info": {
   "codemirror_mode": {
    "name": "ipython",
    "version": 3
   },
   "file_extension": ".py",
   "mimetype": "text/x-python",
   "name": "python",
   "nbconvert_exporter": "python",
   "pygments_lexer": "ipython3",
   "version": "3.6.5"
  }
 },
 "nbformat": 4,
 "nbformat_minor": 2
}
