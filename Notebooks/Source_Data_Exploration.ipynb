{
 "cells": [
  {
   "cell_type": "markdown",
   "metadata": {},
   "source": [
    "# Source data exploration"
   ]
  },
  {
   "cell_type": "markdown",
   "metadata": {},
   "source": [
    "In this notebook we do the data analysis and exploratory for the Source data of the Now Corpus. Notebook consists of 3 main parts: Merging of the source data, general data exploration of the source data and topic assignment from url."
   ]
  },
  {
   "cell_type": "code",
   "execution_count": 1,
   "metadata": {},
   "outputs": [
    {
     "name": "stderr",
     "output_type": "stream",
     "text": [
      "[nltk_data] Downloading package stopwords to /home/gorkem/nltk_data...\n",
      "[nltk_data]   Package stopwords is already up-to-date!\n"
     ]
    }
   ],
   "source": [
    "#imports\n",
    "import pandas as pd\n",
    "import numpy as np\n",
    "from collections import Counter\n",
    "import re\n",
    "import csv\n",
    "import seaborn as sns\n",
    "import matplotlib.pylab as plt\n",
    "\n",
    "import gensim\n",
    "from gensim.parsing.preprocessing import STOPWORDS\n",
    "\n",
    "import warnings\n",
    "warnings.filterwarnings('ignore')\n",
    "# Import stopwords with nltk.\n",
    "import nltk\n",
    "nltk.download(\"stopwords\")\n",
    "from nltk.corpus import stopwords\n",
    "stop = stopwords.words('english')\n"
   ]
  },
  {
   "cell_type": "markdown",
   "metadata": {},
   "source": [
    "### Part 1: Read and Merge the Source data"
   ]
  },
  {
   "cell_type": "code",
   "execution_count": 2,
   "metadata": {
    "scrolled": true
   },
   "outputs": [
    {
     "data": {
      "text/html": [
       "<div>\n",
       "<style scoped>\n",
       "    .dataframe tbody tr th:only-of-type {\n",
       "        vertical-align: middle;\n",
       "    }\n",
       "\n",
       "    .dataframe tbody tr th {\n",
       "        vertical-align: top;\n",
       "    }\n",
       "\n",
       "    .dataframe thead th {\n",
       "        text-align: right;\n",
       "    }\n",
       "</style>\n",
       "<table border=\"1\" class=\"dataframe\">\n",
       "  <thead>\n",
       "    <tr style=\"text-align: right;\">\n",
       "      <th></th>\n",
       "      <th>textID</th>\n",
       "      <th>#words</th>\n",
       "      <th>date</th>\n",
       "      <th>country</th>\n",
       "      <th>website</th>\n",
       "      <th>url</th>\n",
       "      <th>title</th>\n",
       "    </tr>\n",
       "  </thead>\n",
       "  <tbody>\n",
       "    <tr>\n",
       "      <th>0</th>\n",
       "      <td>2930853</td>\n",
       "      <td>194</td>\n",
       "      <td>15-01-01</td>\n",
       "      <td>US</td>\n",
       "      <td>Consequence of Sound</td>\n",
       "      <td>http://consequenceofsound.net/2015/01/100000-c...</td>\n",
       "      <td>100000 copies of The Interview will be dropped...</td>\n",
       "    </tr>\n",
       "    <tr>\n",
       "      <th>1</th>\n",
       "      <td>2930854</td>\n",
       "      <td>266</td>\n",
       "      <td>15-01-01</td>\n",
       "      <td>US</td>\n",
       "      <td>Los Angeles Times</td>\n",
       "      <td>http://www.latimes.com/entertainment/movies/la...</td>\n",
       "      <td>'The Taking of Tiger Mountain' gets blockbuste...</td>\n",
       "    </tr>\n",
       "    <tr>\n",
       "      <th>2</th>\n",
       "      <td>2930855</td>\n",
       "      <td>701</td>\n",
       "      <td>15-01-01</td>\n",
       "      <td>US</td>\n",
       "      <td>TIME</td>\n",
       "      <td>http://time.com/3651697/afghanistan-war-cost/</td>\n",
       "      <td>The True Cost of the Afghanistan War May Surpr...</td>\n",
       "    </tr>\n",
       "    <tr>\n",
       "      <th>3</th>\n",
       "      <td>2930856</td>\n",
       "      <td>1963</td>\n",
       "      <td>15-01-01</td>\n",
       "      <td>US</td>\n",
       "      <td>The Week Magazine</td>\n",
       "      <td>http://theweek.com/articles/441310/confessions...</td>\n",
       "      <td>Confessions of a former TSA officer</td>\n",
       "    </tr>\n",
       "    <tr>\n",
       "      <th>4</th>\n",
       "      <td>2930859</td>\n",
       "      <td>263</td>\n",
       "      <td>15-01-01</td>\n",
       "      <td>US</td>\n",
       "      <td>Russia Beyond the Headlines</td>\n",
       "      <td>http://rbth.com/arts/2015/01/01/year_of_litera...</td>\n",
       "      <td>Pushkin, Gogol and Akhmatova to be symbols of ...</td>\n",
       "    </tr>\n",
       "  </tbody>\n",
       "</table>\n",
       "</div>"
      ],
      "text/plain": [
       "    textID  #words      date country                      website  \\\n",
       "0  2930853     194  15-01-01      US         Consequence of Sound   \n",
       "1  2930854     266  15-01-01      US            Los Angeles Times   \n",
       "2  2930855     701  15-01-01      US                         TIME   \n",
       "3  2930856    1963  15-01-01      US            The Week Magazine   \n",
       "4  2930859     263  15-01-01      US  Russia Beyond the Headlines   \n",
       "\n",
       "                                                 url  \\\n",
       "0  http://consequenceofsound.net/2015/01/100000-c...   \n",
       "1  http://www.latimes.com/entertainment/movies/la...   \n",
       "2      http://time.com/3651697/afghanistan-war-cost/   \n",
       "3  http://theweek.com/articles/441310/confessions...   \n",
       "4  http://rbth.com/arts/2015/01/01/year_of_litera...   \n",
       "\n",
       "                                               title  \n",
       "0  100000 copies of The Interview will be dropped...  \n",
       "1  'The Taking of Tiger Mountain' gets blockbuste...  \n",
       "2  The True Cost of the Afghanistan War May Surpr...  \n",
       "3                Confessions of a former TSA officer  \n",
       "4  Pushkin, Gogol and Akhmatova to be symbols of ...  "
      ]
     },
     "execution_count": 2,
     "metadata": {},
     "output_type": "execute_result"
    }
   ],
   "source": [
    "#Read the data\n",
    "data_folder = '../sample_data/'\n",
    "source1 = pd.read_table(data_folder+'now_sources_pt1.txt',encoding = \"ISO-8859-1\", header=None)\n",
    "source2 = pd.read_table(data_folder+'now_sources_pt2.txt',encoding = \"ISO-8859-1\", header=None)\n",
    "#sources.dropna(axis=1, inplace=True)\n",
    "source1.rename(columns={0:'textID', 1:'#words',2:'date',3:'country',4:'website',5:'url',6:'title'}, inplace=True)\n",
    "source1.head()\n",
    "source2.rename(columns={0:'textID', 1:'#words',2:'date',3:'country',4:'website',5:'url',6:'title'}, inplace=True)\n",
    "source2.head()"
   ]
  },
  {
   "cell_type": "code",
   "execution_count": 3,
   "metadata": {},
   "outputs": [],
   "source": [
    "# Concat the 2 sources file content\n",
    "frames = [source1, source2]\n",
    "sources = pd.concat(frames)"
   ]
  },
  {
   "cell_type": "code",
   "execution_count": 4,
   "metadata": {},
   "outputs": [
    {
     "data": {
      "text/plain": [
       "(6132175, 7)"
      ]
     },
     "execution_count": 4,
     "metadata": {},
     "output_type": "execute_result"
    }
   ],
   "source": [
    "# Total shape of the final data\n",
    "sources.shape"
   ]
  },
  {
   "cell_type": "markdown",
   "metadata": {},
   "source": [
    "From above we can say that we have 6 million articles for over 10 years of data."
   ]
  },
  {
   "cell_type": "code",
   "execution_count": 5,
   "metadata": {},
   "outputs": [
    {
     "data": {
      "text/plain": [
       "textID      int64\n",
       "#words      int64\n",
       "date       object\n",
       "country    object\n",
       "website    object\n",
       "url        object\n",
       "title      object\n",
       "dtype: object"
      ]
     },
     "execution_count": 5,
     "metadata": {},
     "output_type": "execute_result"
    }
   ],
   "source": [
    "sources.dtypes"
   ]
  },
  {
   "cell_type": "code",
   "execution_count": 6,
   "metadata": {},
   "outputs": [],
   "source": [
    "#Turn the date to date form - first we need to add the 20 in from of years since years were given 2 digitis\n",
    "sources.date =  '20'+sources.date\n",
    "sources.date =  pd.to_datetime(sources.date, format='%Y-%m-%d')"
   ]
  },
  {
   "cell_type": "code",
   "execution_count": 7,
   "metadata": {},
   "outputs": [
    {
     "data": {
      "text/html": [
       "<div>\n",
       "<style scoped>\n",
       "    .dataframe tbody tr th:only-of-type {\n",
       "        vertical-align: middle;\n",
       "    }\n",
       "\n",
       "    .dataframe tbody tr th {\n",
       "        vertical-align: top;\n",
       "    }\n",
       "\n",
       "    .dataframe thead th {\n",
       "        text-align: right;\n",
       "    }\n",
       "</style>\n",
       "<table border=\"1\" class=\"dataframe\">\n",
       "  <thead>\n",
       "    <tr style=\"text-align: right;\">\n",
       "      <th></th>\n",
       "      <th>textID</th>\n",
       "      <th>#words</th>\n",
       "      <th>date</th>\n",
       "      <th>country</th>\n",
       "      <th>website</th>\n",
       "      <th>url</th>\n",
       "      <th>title</th>\n",
       "    </tr>\n",
       "  </thead>\n",
       "  <tbody>\n",
       "    <tr>\n",
       "      <th>0</th>\n",
       "      <td>1334669</td>\n",
       "      <td>334</td>\n",
       "      <td>2010-01-01</td>\n",
       "      <td>US</td>\n",
       "      <td>The Next Web</td>\n",
       "      <td>http://thenextweb.com/2010/01/01/avatar-takes-...</td>\n",
       "      <td>Believe it or not: Avatar takes 1 petabyte of ...</td>\n",
       "    </tr>\n",
       "    <tr>\n",
       "      <th>1</th>\n",
       "      <td>1334671</td>\n",
       "      <td>493</td>\n",
       "      <td>2010-01-01</td>\n",
       "      <td>US</td>\n",
       "      <td>People Magazine</td>\n",
       "      <td>http://www.people.com/people/article/0,,203339...</td>\n",
       "      <td>INSIDE STORY: The Making of Beyonc's 'Single ...</td>\n",
       "    </tr>\n",
       "    <tr>\n",
       "      <th>2</th>\n",
       "      <td>1334672</td>\n",
       "      <td>1255</td>\n",
       "      <td>2010-01-01</td>\n",
       "      <td>US</td>\n",
       "      <td>San Francisco Chronicle</td>\n",
       "      <td>http://www.sfgate.com/bayarea/article/Biblical...</td>\n",
       "      <td>Biblical scholar's date for rapture: May 21, 2011</td>\n",
       "    </tr>\n",
       "    <tr>\n",
       "      <th>3</th>\n",
       "      <td>1334673</td>\n",
       "      <td>695</td>\n",
       "      <td>2010-01-01</td>\n",
       "      <td>US</td>\n",
       "      <td>CNN</td>\n",
       "      <td>http://www.cnn.com/2010/HEALTH/01/01/multi.vit...</td>\n",
       "      <td>What you need to know about multivitamins</td>\n",
       "    </tr>\n",
       "    <tr>\n",
       "      <th>4</th>\n",
       "      <td>1334674</td>\n",
       "      <td>724</td>\n",
       "      <td>2010-01-01</td>\n",
       "      <td>US</td>\n",
       "      <td>MedPage Today</td>\n",
       "      <td>http://www.medpagetoday.com/Psychiatry/sleepdi...</td>\n",
       "      <td>Lack of Sleep Linked to Depression in Adolescents</td>\n",
       "    </tr>\n",
       "  </tbody>\n",
       "</table>\n",
       "</div>"
      ],
      "text/plain": [
       "    textID  #words       date country                  website  \\\n",
       "0  1334669     334 2010-01-01      US             The Next Web   \n",
       "1  1334671     493 2010-01-01      US          People Magazine   \n",
       "2  1334672    1255 2010-01-01      US  San Francisco Chronicle   \n",
       "3  1334673     695 2010-01-01      US                      CNN   \n",
       "4  1334674     724 2010-01-01      US            MedPage Today   \n",
       "\n",
       "                                                 url  \\\n",
       "0  http://thenextweb.com/2010/01/01/avatar-takes-...   \n",
       "1  http://www.people.com/people/article/0,,203339...   \n",
       "2  http://www.sfgate.com/bayarea/article/Biblical...   \n",
       "3  http://www.cnn.com/2010/HEALTH/01/01/multi.vit...   \n",
       "4  http://www.medpagetoday.com/Psychiatry/sleepdi...   \n",
       "\n",
       "                                               title  \n",
       "0  Believe it or not: Avatar takes 1 petabyte of ...  \n",
       "1  INSIDE STORY: The Making of Beyonc's 'Single ...  \n",
       "2  Biblical scholar's date for rapture: May 21, 2011  \n",
       "3          What you need to know about multivitamins  \n",
       "4  Lack of Sleep Linked to Depression in Adolescents  "
      ]
     },
     "metadata": {},
     "output_type": "display_data"
    },
    {
     "data": {
      "text/plain": [
       "textID              int64\n",
       "#words              int64\n",
       "date       datetime64[ns]\n",
       "country            object\n",
       "website            object\n",
       "url                object\n",
       "title              object\n",
       "dtype: object"
      ]
     },
     "metadata": {},
     "output_type": "display_data"
    }
   ],
   "source": [
    "# check the dates are correctly changed and the date type\n",
    "display(sources.head())\n",
    "display(sources.dtypes)"
   ]
  },
  {
   "cell_type": "markdown",
   "metadata": {},
   "source": [
    "### Part 2: General Data Exploration for Source Data"
   ]
  },
  {
   "cell_type": "markdown",
   "metadata": {},
   "source": [
    "We tried to answer basic questions about the now orpus data first. \n",
    "- How many unique countries we have and which ones?\n",
    "- How many unique websites?\n",
    "- How many articles per country and website?\n",
    "- How many websites per country?   \n",
    "Answering these type of question gives us a better understand of the data and preliminary stats about the countries and website resources."
   ]
  },
  {
   "cell_type": "code",
   "execution_count": 8,
   "metadata": {},
   "outputs": [
    {
     "name": "stdout",
     "output_type": "stream",
     "text": [
      "['US' 'CA' 'GB' 'IE' 'AU' 'NZ' 'IN' 'LK' 'PK' 'BD' 'MY' 'SG' 'PH' 'HK'\n",
      " 'ZA' 'NG' 'GH' 'KE' 'TZ' 'JM']\n",
      "20\n"
     ]
    }
   ],
   "source": [
    "# how many unique country?\n",
    "print(sources.country.unique())\n",
    "print(len(sources.country.unique()))"
   ]
  },
  {
   "cell_type": "code",
   "execution_count": 9,
   "metadata": {},
   "outputs": [
    {
     "name": "stdout",
     "output_type": "stream",
     "text": [
      "['The Next Web' 'People Magazine' 'San Francisco Chronicle' ...\n",
      " 'Reggaeville.com' 'Loop Jamaica (press release) (registration) (blog)'\n",
      " 'Television Jamaica']\n",
      "20733\n"
     ]
    }
   ],
   "source": [
    "# how many unique website?\n",
    "print(sources.website.unique())\n",
    "print(len(sources.website.unique()))"
   ]
  },
  {
   "cell_type": "code",
   "execution_count": 10,
   "metadata": {},
   "outputs": [
    {
     "data": {
      "text/plain": [
       "True"
      ]
     },
     "execution_count": 10,
     "metadata": {},
     "output_type": "execute_result"
    }
   ],
   "source": [
    "# There is any NAN value?  - the nulls are in the website name\n",
    "sources.isnull().any().any()"
   ]
  },
  {
   "cell_type": "code",
   "execution_count": 11,
   "metadata": {},
   "outputs": [
    {
     "data": {
      "text/plain": [
       "textID     False\n",
       "#words     False\n",
       "date       False\n",
       "country    False\n",
       "website     True\n",
       "url        False\n",
       "title      False\n",
       "dtype: bool"
      ]
     },
     "execution_count": 11,
     "metadata": {},
     "output_type": "execute_result"
    }
   ],
   "source": [
    "sources.isnull().any()"
   ]
  },
  {
   "cell_type": "code",
   "execution_count": 12,
   "metadata": {},
   "outputs": [
    {
     "data": {
      "text/plain": [
       "False"
      ]
     },
     "execution_count": 12,
     "metadata": {},
     "output_type": "execute_result"
    }
   ],
   "source": [
    "# Are there duplicate lines?\n",
    "sources.duplicated().any()"
   ]
  },
  {
   "cell_type": "markdown",
   "metadata": {},
   "source": [
    "We see that we have 20 english speaking countries, a total of 20733 unique website resources that articles collected and there is no duplicate data. Only for some data there is null website name."
   ]
  },
  {
   "cell_type": "markdown",
   "metadata": {},
   "source": [
    "#### Answering Data Related Questions"
   ]
  },
  {
   "cell_type": "code",
   "execution_count": 13,
   "metadata": {},
   "outputs": [
    {
     "data": {
      "text/html": [
       "<div>\n",
       "<style scoped>\n",
       "    .dataframe tbody tr th:only-of-type {\n",
       "        vertical-align: middle;\n",
       "    }\n",
       "\n",
       "    .dataframe tbody tr th {\n",
       "        vertical-align: top;\n",
       "    }\n",
       "\n",
       "    .dataframe thead th {\n",
       "        text-align: right;\n",
       "    }\n",
       "</style>\n",
       "<table border=\"1\" class=\"dataframe\">\n",
       "  <thead>\n",
       "    <tr style=\"text-align: right;\">\n",
       "      <th></th>\n",
       "      <th>0</th>\n",
       "      <th>1</th>\n",
       "      <th>2</th>\n",
       "      <th>3</th>\n",
       "      <th>4</th>\n",
       "      <th>5</th>\n",
       "      <th>6</th>\n",
       "      <th>7</th>\n",
       "      <th>8</th>\n",
       "      <th>9</th>\n",
       "      <th>10</th>\n",
       "      <th>11</th>\n",
       "      <th>12</th>\n",
       "      <th>13</th>\n",
       "      <th>14</th>\n",
       "      <th>15</th>\n",
       "      <th>16</th>\n",
       "      <th>17</th>\n",
       "      <th>18</th>\n",
       "      <th>19</th>\n",
       "    </tr>\n",
       "  </thead>\n",
       "  <tbody>\n",
       "    <tr>\n",
       "      <th>country</th>\n",
       "      <td>AU</td>\n",
       "      <td>BD</td>\n",
       "      <td>CA</td>\n",
       "      <td>GB</td>\n",
       "      <td>GH</td>\n",
       "      <td>HK</td>\n",
       "      <td>IE</td>\n",
       "      <td>IN</td>\n",
       "      <td>JM</td>\n",
       "      <td>KE</td>\n",
       "      <td>LK</td>\n",
       "      <td>MY</td>\n",
       "      <td>NG</td>\n",
       "      <td>NZ</td>\n",
       "      <td>PH</td>\n",
       "      <td>PK</td>\n",
       "      <td>SG</td>\n",
       "      <td>TZ</td>\n",
       "      <td>US</td>\n",
       "      <td>ZA</td>\n",
       "    </tr>\n",
       "    <tr>\n",
       "      <th>textID</th>\n",
       "      <td>441036</td>\n",
       "      <td>36680</td>\n",
       "      <td>788162</td>\n",
       "      <td>823458</td>\n",
       "      <td>103062</td>\n",
       "      <td>25780</td>\n",
       "      <td>469298</td>\n",
       "      <td>729178</td>\n",
       "      <td>41995</td>\n",
       "      <td>104030</td>\n",
       "      <td>37020</td>\n",
       "      <td>150313</td>\n",
       "      <td>225097</td>\n",
       "      <td>250814</td>\n",
       "      <td>233322</td>\n",
       "      <td>205199</td>\n",
       "      <td>208031</td>\n",
       "      <td>15848</td>\n",
       "      <td>857301</td>\n",
       "      <td>386551</td>\n",
       "    </tr>\n",
       "  </tbody>\n",
       "</table>\n",
       "</div>"
      ],
      "text/plain": [
       "             0      1       2       3       4      5       6       7      8   \\\n",
       "country      AU     BD      CA      GB      GH     HK      IE      IN     JM   \n",
       "textID   441036  36680  788162  823458  103062  25780  469298  729178  41995   \n",
       "\n",
       "             9      10      11      12      13      14      15      16     17  \\\n",
       "country      KE     LK      MY      NG      NZ      PH      PK      SG     TZ   \n",
       "textID   104030  37020  150313  225097  250814  233322  205199  208031  15848   \n",
       "\n",
       "             18      19  \n",
       "country      US      ZA  \n",
       "textID   857301  386551  "
      ]
     },
     "metadata": {},
     "output_type": "display_data"
    },
    {
     "data": {
      "image/png": "[encoded data removed]",
      "text/plain": [
       "<Figure size 432x288 with 1 Axes>"
      ]
     },
     "metadata": {
      "needs_background": "light"
     },
     "output_type": "display_data"
    }
   ],
   "source": [
    "# How many articles per country?\n",
    "articles_per_country = sources.groupby(by=['country'])['textID'].count()\n",
    "articles_per_country = pd.DataFrame(articles_per_country)\n",
    "articles_per_country = articles_per_country.reset_index()\n",
    "display(articles_per_country.T)\n",
    "ax = sns.barplot(x=\"country\", y=\"textID\", data=articles_per_country).set_title('Articles per Country')"
   ]
  },
  {
   "cell_type": "code",
   "execution_count": 14,
   "metadata": {},
   "outputs": [
    {
     "data": {
      "text/html": [
       "<div>\n",
       "<style scoped>\n",
       "    .dataframe tbody tr th:only-of-type {\n",
       "        vertical-align: middle;\n",
       "    }\n",
       "\n",
       "    .dataframe tbody tr th {\n",
       "        vertical-align: top;\n",
       "    }\n",
       "\n",
       "    .dataframe thead th {\n",
       "        text-align: right;\n",
       "    }\n",
       "</style>\n",
       "<table border=\"1\" class=\"dataframe\">\n",
       "  <thead>\n",
       "    <tr style=\"text-align: right;\">\n",
       "      <th></th>\n",
       "      <th>count</th>\n",
       "      <th>mean</th>\n",
       "      <th>std</th>\n",
       "      <th>min</th>\n",
       "      <th>25%</th>\n",
       "      <th>50%</th>\n",
       "      <th>75%</th>\n",
       "      <th>max</th>\n",
       "    </tr>\n",
       "  </thead>\n",
       "  <tbody>\n",
       "    <tr>\n",
       "      <th>textID</th>\n",
       "      <td>20.0</td>\n",
       "      <td>306608.75</td>\n",
       "      <td>285876.010642</td>\n",
       "      <td>15848.0</td>\n",
       "      <td>87795.25</td>\n",
       "      <td>216564.0</td>\n",
       "      <td>448101.5</td>\n",
       "      <td>857301.0</td>\n",
       "    </tr>\n",
       "  </tbody>\n",
       "</table>\n",
       "</div>"
      ],
      "text/plain": [
       "        count       mean            std      min       25%       50%  \\\n",
       "textID   20.0  306608.75  285876.010642  15848.0  87795.25  216564.0   \n",
       "\n",
       "             75%       max  \n",
       "textID  448101.5  857301.0  "
      ]
     },
     "execution_count": 14,
     "metadata": {},
     "output_type": "execute_result"
    }
   ],
   "source": [
    "articles_per_country.describe().T"
   ]
  },
  {
   "cell_type": "markdown",
   "metadata": {},
   "source": [
    "We see that US has the more articles compared to other countries.The least articles belong to Tanzania with 15848 articles. In average countries has around 306608 articles."
   ]
  },
  {
   "cell_type": "code",
   "execution_count": 15,
   "metadata": {},
   "outputs": [
    {
     "data": {
      "text/html": [
       "<div>\n",
       "<style scoped>\n",
       "    .dataframe tbody tr th:only-of-type {\n",
       "        vertical-align: middle;\n",
       "    }\n",
       "\n",
       "    .dataframe tbody tr th {\n",
       "        vertical-align: top;\n",
       "    }\n",
       "\n",
       "    .dataframe thead th {\n",
       "        text-align: right;\n",
       "    }\n",
       "</style>\n",
       "<table border=\"1\" class=\"dataframe\">\n",
       "  <thead>\n",
       "    <tr style=\"text-align: right;\">\n",
       "      <th></th>\n",
       "      <th>0</th>\n",
       "      <th>1</th>\n",
       "      <th>2</th>\n",
       "      <th>3</th>\n",
       "      <th>4</th>\n",
       "      <th>5</th>\n",
       "      <th>6</th>\n",
       "      <th>7</th>\n",
       "      <th>8</th>\n",
       "      <th>9</th>\n",
       "      <th>10</th>\n",
       "      <th>11</th>\n",
       "      <th>12</th>\n",
       "      <th>13</th>\n",
       "      <th>14</th>\n",
       "      <th>15</th>\n",
       "      <th>16</th>\n",
       "      <th>17</th>\n",
       "      <th>18</th>\n",
       "      <th>19</th>\n",
       "    </tr>\n",
       "  </thead>\n",
       "  <tbody>\n",
       "    <tr>\n",
       "      <th>country</th>\n",
       "      <td>AU</td>\n",
       "      <td>BD</td>\n",
       "      <td>CA</td>\n",
       "      <td>GB</td>\n",
       "      <td>GH</td>\n",
       "      <td>HK</td>\n",
       "      <td>IE</td>\n",
       "      <td>IN</td>\n",
       "      <td>JM</td>\n",
       "      <td>KE</td>\n",
       "      <td>LK</td>\n",
       "      <td>MY</td>\n",
       "      <td>NG</td>\n",
       "      <td>NZ</td>\n",
       "      <td>PH</td>\n",
       "      <td>PK</td>\n",
       "      <td>SG</td>\n",
       "      <td>TZ</td>\n",
       "      <td>US</td>\n",
       "      <td>ZA</td>\n",
       "    </tr>\n",
       "    <tr>\n",
       "      <th>website</th>\n",
       "      <td>1161</td>\n",
       "      <td>49</td>\n",
       "      <td>1587</td>\n",
       "      <td>3797</td>\n",
       "      <td>91</td>\n",
       "      <td>148</td>\n",
       "      <td>312</td>\n",
       "      <td>1057</td>\n",
       "      <td>22</td>\n",
       "      <td>115</td>\n",
       "      <td>125</td>\n",
       "      <td>174</td>\n",
       "      <td>175</td>\n",
       "      <td>362</td>\n",
       "      <td>368</td>\n",
       "      <td>269</td>\n",
       "      <td>272</td>\n",
       "      <td>26</td>\n",
       "      <td>11221</td>\n",
       "      <td>428</td>\n",
       "    </tr>\n",
       "  </tbody>\n",
       "</table>\n",
       "</div>"
      ],
      "text/plain": [
       "           0   1     2     3   4    5    6     7   8    9    10   11   12  \\\n",
       "country    AU  BD    CA    GB  GH   HK   IE    IN  JM   KE   LK   MY   NG   \n",
       "website  1161  49  1587  3797  91  148  312  1057  22  115  125  174  175   \n",
       "\n",
       "          13   14   15   16  17     18   19  \n",
       "country   NZ   PH   PK   SG  TZ     US   ZA  \n",
       "website  362  368  269  272  26  11221  428  "
      ]
     },
     "metadata": {},
     "output_type": "display_data"
    },
    {
     "data": {
      "image/png": "[encoded data removed]",
      "text/plain": [
       "<Figure size 432x288 with 1 Axes>"
      ]
     },
     "metadata": {
      "needs_background": "light"
     },
     "output_type": "display_data"
    }
   ],
   "source": [
    "# How many website per country?   (count distinct websites)\n",
    "websites_per_country = sources.groupby(by=['country'])['website'].nunique()\n",
    "websites_per_country = pd.DataFrame(websites_per_country)\n",
    "websites_per_country = websites_per_country.reset_index()\n",
    "display(websites_per_country.T)\n",
    "ax = sns.barplot(x=\"country\", y=\"website\", data=websites_per_country).set_title('Websites per Country')"
   ]
  },
  {
   "cell_type": "code",
   "execution_count": 16,
   "metadata": {},
   "outputs": [
    {
     "data": {
      "text/html": [
       "<div>\n",
       "<style scoped>\n",
       "    .dataframe tbody tr th:only-of-type {\n",
       "        vertical-align: middle;\n",
       "    }\n",
       "\n",
       "    .dataframe tbody tr th {\n",
       "        vertical-align: top;\n",
       "    }\n",
       "\n",
       "    .dataframe thead th {\n",
       "        text-align: right;\n",
       "    }\n",
       "</style>\n",
       "<table border=\"1\" class=\"dataframe\">\n",
       "  <thead>\n",
       "    <tr style=\"text-align: right;\">\n",
       "      <th></th>\n",
       "      <th>count</th>\n",
       "      <th>mean</th>\n",
       "      <th>std</th>\n",
       "      <th>min</th>\n",
       "      <th>25%</th>\n",
       "      <th>50%</th>\n",
       "      <th>75%</th>\n",
       "      <th>max</th>\n",
       "    </tr>\n",
       "  </thead>\n",
       "  <tbody>\n",
       "    <tr>\n",
       "      <th>website</th>\n",
       "      <td>20.0</td>\n",
       "      <td>1087.95</td>\n",
       "      <td>2538.710022</td>\n",
       "      <td>22.0</td>\n",
       "      <td>122.5</td>\n",
       "      <td>270.5</td>\n",
       "      <td>585.25</td>\n",
       "      <td>11221.0</td>\n",
       "    </tr>\n",
       "  </tbody>\n",
       "</table>\n",
       "</div>"
      ],
      "text/plain": [
       "         count     mean          std   min    25%    50%     75%      max\n",
       "website   20.0  1087.95  2538.710022  22.0  122.5  270.5  585.25  11221.0"
      ]
     },
     "execution_count": 16,
     "metadata": {},
     "output_type": "execute_result"
    }
   ],
   "source": [
    "websites_per_country.describe().T"
   ]
  },
  {
   "cell_type": "markdown",
   "metadata": {},
   "source": [
    "The most resources again belongs to US with 11221 resource website. The resource number is less for the other countries 75% of the countries has less than around 585 resources. The minimum resource website belongs to Jamaica with 22 distinct websites."
   ]
  },
  {
   "cell_type": "code",
   "execution_count": 17,
   "metadata": {},
   "outputs": [
    {
     "data": {
      "text/html": [
       "<div>\n",
       "<style scoped>\n",
       "    .dataframe tbody tr th:only-of-type {\n",
       "        vertical-align: middle;\n",
       "    }\n",
       "\n",
       "    .dataframe tbody tr th {\n",
       "        vertical-align: top;\n",
       "    }\n",
       "\n",
       "    .dataframe thead th {\n",
       "        text-align: right;\n",
       "    }\n",
       "</style>\n",
       "<table border=\"1\" class=\"dataframe\">\n",
       "  <thead>\n",
       "    <tr style=\"text-align: right;\">\n",
       "      <th></th>\n",
       "      <th>0</th>\n",
       "      <th>1</th>\n",
       "      <th>2</th>\n",
       "      <th>3</th>\n",
       "      <th>4</th>\n",
       "      <th>5</th>\n",
       "      <th>6</th>\n",
       "      <th>7</th>\n",
       "      <th>8</th>\n",
       "      <th>9</th>\n",
       "      <th>10</th>\n",
       "      <th>11</th>\n",
       "      <th>12</th>\n",
       "      <th>13</th>\n",
       "      <th>14</th>\n",
       "      <th>15</th>\n",
       "      <th>16</th>\n",
       "      <th>17</th>\n",
       "      <th>18</th>\n",
       "      <th>19</th>\n",
       "    </tr>\n",
       "  </thead>\n",
       "  <tbody>\n",
       "    <tr>\n",
       "      <th>country</th>\n",
       "      <td>AU</td>\n",
       "      <td>BD</td>\n",
       "      <td>CA</td>\n",
       "      <td>GB</td>\n",
       "      <td>GH</td>\n",
       "      <td>HK</td>\n",
       "      <td>IE</td>\n",
       "      <td>IN</td>\n",
       "      <td>JM</td>\n",
       "      <td>KE</td>\n",
       "      <td>LK</td>\n",
       "      <td>MY</td>\n",
       "      <td>NG</td>\n",
       "      <td>NZ</td>\n",
       "      <td>PH</td>\n",
       "      <td>PK</td>\n",
       "      <td>SG</td>\n",
       "      <td>TZ</td>\n",
       "      <td>US</td>\n",
       "      <td>ZA</td>\n",
       "    </tr>\n",
       "    <tr>\n",
       "      <th>#words</th>\n",
       "      <td>280223620</td>\n",
       "      <td>17899964</td>\n",
       "      <td>519548548</td>\n",
       "      <td>537543670</td>\n",
       "      <td>43738013</td>\n",
       "      <td>14120315</td>\n",
       "      <td>241347866</td>\n",
       "      <td>383914249</td>\n",
       "      <td>24693984</td>\n",
       "      <td>43621653</td>\n",
       "      <td>20122787</td>\n",
       "      <td>69214059</td>\n",
       "      <td>120554068</td>\n",
       "      <td>123016733</td>\n",
       "      <td>117067124</td>\n",
       "      <td>94028598</td>\n",
       "      <td>92041860</td>\n",
       "      <td>7941870</td>\n",
       "      <td>678812809</td>\n",
       "      <td>208964697</td>\n",
       "    </tr>\n",
       "  </tbody>\n",
       "</table>\n",
       "</div>"
      ],
      "text/plain": [
       "                0         1          2          3         4         5   \\\n",
       "country         AU        BD         CA         GB        GH        HK   \n",
       "#words   280223620  17899964  519548548  537543670  43738013  14120315   \n",
       "\n",
       "                6          7         8         9         10        11  \\\n",
       "country         IE         IN        JM        KE        LK        MY   \n",
       "#words   241347866  383914249  24693984  43621653  20122787  69214059   \n",
       "\n",
       "                12         13         14        15        16       17  \\\n",
       "country         NG         NZ         PH        PK        SG       TZ   \n",
       "#words   120554068  123016733  117067124  94028598  92041860  7941870   \n",
       "\n",
       "                18         19  \n",
       "country         US         ZA  \n",
       "#words   678812809  208964697  "
      ]
     },
     "metadata": {},
     "output_type": "display_data"
    },
    {
     "data": {
      "image/png": "[encoded data removed]",
      "text/plain": [
       "<Figure size 432x288 with 1 Axes>"
      ]
     },
     "metadata": {
      "needs_background": "light"
     },
     "output_type": "display_data"
    }
   ],
   "source": [
    "# How many total words per country?\n",
    "words_per_country = sources.groupby(by=['country'])['#words'].sum()\n",
    "words_per_country = pd.DataFrame(words_per_country)\n",
    "words_per_country = words_per_country.reset_index()\n",
    "display(words_per_country.T)\n",
    "ax = sns.barplot(x=\"country\", y=\"#words\", data=words_per_country).set_title('Total words per Country')"
   ]
  },
  {
   "cell_type": "code",
   "execution_count": 18,
   "metadata": {},
   "outputs": [
    {
     "data": {
      "text/html": [
       "<div>\n",
       "<style scoped>\n",
       "    .dataframe tbody tr th:only-of-type {\n",
       "        vertical-align: middle;\n",
       "    }\n",
       "\n",
       "    .dataframe tbody tr th {\n",
       "        vertical-align: top;\n",
       "    }\n",
       "\n",
       "    .dataframe thead th {\n",
       "        text-align: right;\n",
       "    }\n",
       "</style>\n",
       "<table border=\"1\" class=\"dataframe\">\n",
       "  <thead>\n",
       "    <tr style=\"text-align: right;\">\n",
       "      <th></th>\n",
       "      <th>count</th>\n",
       "      <th>mean</th>\n",
       "      <th>std</th>\n",
       "      <th>min</th>\n",
       "      <th>25%</th>\n",
       "      <th>50%</th>\n",
       "      <th>75%</th>\n",
       "      <th>max</th>\n",
       "    </tr>\n",
       "  </thead>\n",
       "  <tbody>\n",
       "    <tr>\n",
       "      <th>#words</th>\n",
       "      <td>20.0</td>\n",
       "      <td>1.819208e+08</td>\n",
       "      <td>1.995371e+08</td>\n",
       "      <td>7941870.0</td>\n",
       "      <td>38889735.75</td>\n",
       "      <td>105547861.0</td>\n",
       "      <td>251066804.5</td>\n",
       "      <td>678812809.0</td>\n",
       "    </tr>\n",
       "  </tbody>\n",
       "</table>\n",
       "</div>"
      ],
      "text/plain": [
       "        count          mean           std        min          25%  \\\n",
       "#words   20.0  1.819208e+08  1.995371e+08  7941870.0  38889735.75   \n",
       "\n",
       "                50%          75%          max  \n",
       "#words  105547861.0  251066804.5  678812809.0  "
      ]
     },
     "execution_count": 18,
     "metadata": {},
     "output_type": "execute_result"
    }
   ],
   "source": [
    "words_per_country.describe().T"
   ]
  },
  {
   "cell_type": "markdown",
   "metadata": {},
   "source": [
    "We also explore total number of words in articles per country. According to th above results, US again has the most word count which makes sense since they have more articles collected. Overall, for each country we have at least 8 million of words collected."
   ]
  },
  {
   "cell_type": "code",
   "execution_count": 19,
   "metadata": {},
   "outputs": [
    {
     "data": {
      "text/html": [
       "<div>\n",
       "<style scoped>\n",
       "    .dataframe tbody tr th:only-of-type {\n",
       "        vertical-align: middle;\n",
       "    }\n",
       "\n",
       "    .dataframe tbody tr th {\n",
       "        vertical-align: top;\n",
       "    }\n",
       "\n",
       "    .dataframe thead th {\n",
       "        text-align: right;\n",
       "    }\n",
       "</style>\n",
       "<table border=\"1\" class=\"dataframe\">\n",
       "  <thead>\n",
       "    <tr style=\"text-align: right;\">\n",
       "      <th></th>\n",
       "      <th>0</th>\n",
       "      <th>1</th>\n",
       "      <th>2</th>\n",
       "      <th>3</th>\n",
       "      <th>4</th>\n",
       "      <th>5</th>\n",
       "      <th>6</th>\n",
       "      <th>7</th>\n",
       "      <th>8</th>\n",
       "      <th>9</th>\n",
       "      <th>...</th>\n",
       "      <th>20722</th>\n",
       "      <th>20723</th>\n",
       "      <th>20724</th>\n",
       "      <th>20725</th>\n",
       "      <th>20726</th>\n",
       "      <th>20727</th>\n",
       "      <th>20728</th>\n",
       "      <th>20729</th>\n",
       "      <th>20730</th>\n",
       "      <th>20731</th>\n",
       "    </tr>\n",
       "  </thead>\n",
       "  <tbody>\n",
       "    <tr>\n",
       "      <th>website</th>\n",
       "      <td>Times of India</td>\n",
       "      <td>Telegraph.co.uk</td>\n",
       "      <td>Daily Mail</td>\n",
       "      <td>Independent Online</td>\n",
       "      <td>Irish Independent</td>\n",
       "      <td>Stuff.co.nz</td>\n",
       "      <td>ABC Online</td>\n",
       "      <td>Inquirer.net</td>\n",
       "      <td>Irish Times</td>\n",
       "      <td>The Guardian</td>\n",
       "      <td>...</td>\n",
       "      <td>Newsroom America</td>\n",
       "      <td>Newsport (press release) (registration)</td>\n",
       "      <td>Director of Finance online</td>\n",
       "      <td>WHOTV.com</td>\n",
       "      <td>DisZine</td>\n",
       "      <td>Disaster News Network</td>\n",
       "      <td>Newspaper Tree</td>\n",
       "      <td>Discover Moose Jaw</td>\n",
       "      <td>Discover San Diego</td>\n",
       "      <td>WPSuperfanboy</td>\n",
       "    </tr>\n",
       "    <tr>\n",
       "      <th>textID</th>\n",
       "      <td>163277</td>\n",
       "      <td>112186</td>\n",
       "      <td>110912</td>\n",
       "      <td>79541</td>\n",
       "      <td>68906</td>\n",
       "      <td>65847</td>\n",
       "      <td>61355</td>\n",
       "      <td>61175</td>\n",
       "      <td>59725</td>\n",
       "      <td>57486</td>\n",
       "      <td>...</td>\n",
       "      <td>1</td>\n",
       "      <td>1</td>\n",
       "      <td>1</td>\n",
       "      <td>1</td>\n",
       "      <td>1</td>\n",
       "      <td>1</td>\n",
       "      <td>1</td>\n",
       "      <td>1</td>\n",
       "      <td>1</td>\n",
       "      <td>1</td>\n",
       "    </tr>\n",
       "  </tbody>\n",
       "</table>\n",
       "<p>2 rows × 20732 columns</p>\n",
       "</div>"
      ],
      "text/plain": [
       "                  0                1           2                   3      \\\n",
       "website  Times of India  Telegraph.co.uk  Daily Mail  Independent Online   \n",
       "textID           163277           112186      110912               79541   \n",
       "\n",
       "                     4            5           6             7      \\\n",
       "website  Irish Independent  Stuff.co.nz  ABC Online  Inquirer.net   \n",
       "textID               68906        65847       61355         61175   \n",
       "\n",
       "               8             9          ...                   20722  \\\n",
       "website  Irish Times  The Guardian      ...        Newsroom America   \n",
       "textID         59725         57486      ...                       1   \n",
       "\n",
       "                                           20723                       20724  \\\n",
       "website  Newsport (press release) (registration)  Director of Finance online   \n",
       "textID                                         1                           1   \n",
       "\n",
       "             20725    20726                  20727           20728  \\\n",
       "website  WHOTV.com  DisZine  Disaster News Network  Newspaper Tree   \n",
       "textID           1        1                      1               1   \n",
       "\n",
       "                      20729               20730          20731  \n",
       "website  Discover Moose Jaw  Discover San Diego  WPSuperfanboy  \n",
       "textID                    1                   1              1  \n",
       "\n",
       "[2 rows x 20732 columns]"
      ]
     },
     "metadata": {},
     "output_type": "display_data"
    },
    {
     "data": {
      "image/png": "[encoded data removed]",
      "text/plain": [
       "<Figure size 432x288 with 1 Axes>"
      ]
     },
     "metadata": {
      "needs_background": "light"
     },
     "output_type": "display_data"
    }
   ],
   "source": [
    "# How many articles per website?\n",
    "articles_per_website = sources.groupby(by=['website'])['textID'].count()\n",
    "articles_per_website.sort_values(ascending=False, inplace=True)\n",
    "#print(articles_per_website.head(25))\n",
    "articles_per_website = pd.DataFrame(articles_per_website)\n",
    "articles_per_website = articles_per_website.reset_index()\n",
    "display(articles_per_website.T)\n",
    "ax1 = sns.barplot(x=\"website\", y=\"textID\", data=articles_per_website[:40]).set_title('Articles per Website')\n",
    "plt.xticks(rotation=90)\n",
    "plt.show()"
   ]
  },
  {
   "cell_type": "code",
   "execution_count": 20,
   "metadata": {},
   "outputs": [
    {
     "data": {
      "text/html": [
       "<div>\n",
       "<style scoped>\n",
       "    .dataframe tbody tr th:only-of-type {\n",
       "        vertical-align: middle;\n",
       "    }\n",
       "\n",
       "    .dataframe tbody tr th {\n",
       "        vertical-align: top;\n",
       "    }\n",
       "\n",
       "    .dataframe thead th {\n",
       "        text-align: right;\n",
       "    }\n",
       "</style>\n",
       "<table border=\"1\" class=\"dataframe\">\n",
       "  <thead>\n",
       "    <tr style=\"text-align: right;\">\n",
       "      <th></th>\n",
       "      <th>count</th>\n",
       "      <th>mean</th>\n",
       "      <th>std</th>\n",
       "      <th>min</th>\n",
       "      <th>25%</th>\n",
       "      <th>50%</th>\n",
       "      <th>75%</th>\n",
       "      <th>max</th>\n",
       "    </tr>\n",
       "  </thead>\n",
       "  <tbody>\n",
       "    <tr>\n",
       "      <th>textID</th>\n",
       "      <td>20732.0</td>\n",
       "      <td>295.78251</td>\n",
       "      <td>2553.029042</td>\n",
       "      <td>1.0</td>\n",
       "      <td>2.0</td>\n",
       "      <td>10.0</td>\n",
       "      <td>59.0</td>\n",
       "      <td>163277.0</td>\n",
       "    </tr>\n",
       "  </tbody>\n",
       "</table>\n",
       "</div>"
      ],
      "text/plain": [
       "          count       mean          std  min  25%   50%   75%       max\n",
       "textID  20732.0  295.78251  2553.029042  1.0  2.0  10.0  59.0  163277.0"
      ]
     },
     "execution_count": 20,
     "metadata": {},
     "output_type": "execute_result"
    }
   ],
   "source": [
    "articles_per_website.describe().T"
   ]
  },
  {
   "cell_type": "markdown",
   "metadata": {},
   "source": [
    "We also explore the article counts per website to understand if he articles collected evenly. As we can see form the graph some websites such as Times of India, Telegraph.co.uk has more articles collected. Therefore, we need to consider this fact for our next step as well."
   ]
  },
  {
   "cell_type": "code",
   "execution_count": 21,
   "metadata": {},
   "outputs": [
    {
     "data": {
      "text/plain": [
       "False"
      ]
     },
     "execution_count": 21,
     "metadata": {},
     "output_type": "execute_result"
    }
   ],
   "source": [
    "# Is URLs unique?\n",
    "sources.url.is_unique"
   ]
  },
  {
   "cell_type": "markdown",
   "metadata": {},
   "source": [
    "### Part 3: Try to find MAIN TOPICS\n",
    "\n",
    "Our first approach to find topic were to us URLs since most news website categorize their topics in categories already. We first explore to see how much of the articles we can find their topics by using this strategy first."
   ]
  },
  {
   "cell_type": "code",
   "execution_count": 22,
   "metadata": {},
   "outputs": [
    {
     "data": {
      "text/plain": [
       "0    http://thenextweb.com/2010/01/01/avatar-takes-...\n",
       "1    http://www.people.com/people/article/0,,203339...\n",
       "2    http://www.sfgate.com/bayarea/article/Biblical...\n",
       "3    http://www.cnn.com/2010/HEALTH/01/01/multi.vit...\n",
       "Name: url, dtype: object"
      ]
     },
     "execution_count": 22,
     "metadata": {},
     "output_type": "execute_result"
    }
   ],
   "source": [
    "# Try to find topic from sources\n",
    "sources.url.head(4)"
   ]
  },
  {
   "cell_type": "code",
   "execution_count": 23,
   "metadata": {},
   "outputs": [],
   "source": [
    "def getWordsFromURL(url):\n",
    "    return re.compile(r'[\\:/?=\\-&]+',re.UNICODE).split(url)"
   ]
  },
  {
   "cell_type": "code",
   "execution_count": 24,
   "metadata": {},
   "outputs": [
    {
     "data": {
      "text/html": [
       "<div>\n",
       "<style scoped>\n",
       "    .dataframe tbody tr th:only-of-type {\n",
       "        vertical-align: middle;\n",
       "    }\n",
       "\n",
       "    .dataframe tbody tr th {\n",
       "        vertical-align: top;\n",
       "    }\n",
       "\n",
       "    .dataframe thead th {\n",
       "        text-align: right;\n",
       "    }\n",
       "</style>\n",
       "<table border=\"1\" class=\"dataframe\">\n",
       "  <thead>\n",
       "    <tr style=\"text-align: right;\">\n",
       "      <th></th>\n",
       "      <th>textID</th>\n",
       "      <th>#words</th>\n",
       "      <th>date</th>\n",
       "      <th>country</th>\n",
       "      <th>website</th>\n",
       "      <th>url</th>\n",
       "      <th>title</th>\n",
       "      <th>words</th>\n",
       "    </tr>\n",
       "  </thead>\n",
       "  <tbody>\n",
       "    <tr>\n",
       "      <th>0</th>\n",
       "      <td>1334669</td>\n",
       "      <td>334</td>\n",
       "      <td>2010-01-01</td>\n",
       "      <td>US</td>\n",
       "      <td>The Next Web</td>\n",
       "      <td>http://thenextweb.com/2010/01/01/avatar-takes-...</td>\n",
       "      <td>Believe it or not: Avatar takes 1 petabyte of ...</td>\n",
       "      <td>[http, thenextweb.com, 2010, 01, 01, avatar, t...</td>\n",
       "    </tr>\n",
       "    <tr>\n",
       "      <th>1</th>\n",
       "      <td>1334671</td>\n",
       "      <td>493</td>\n",
       "      <td>2010-01-01</td>\n",
       "      <td>US</td>\n",
       "      <td>People Magazine</td>\n",
       "      <td>http://www.people.com/people/article/0,,203339...</td>\n",
       "      <td>INSIDE STORY: The Making of Beyonc's 'Single ...</td>\n",
       "      <td>[http, www.people.com, people, article, 0,,203...</td>\n",
       "    </tr>\n",
       "    <tr>\n",
       "      <th>2</th>\n",
       "      <td>1334672</td>\n",
       "      <td>1255</td>\n",
       "      <td>2010-01-01</td>\n",
       "      <td>US</td>\n",
       "      <td>San Francisco Chronicle</td>\n",
       "      <td>http://www.sfgate.com/bayarea/article/Biblical...</td>\n",
       "      <td>Biblical scholar's date for rapture: May 21, 2011</td>\n",
       "      <td>[http, www.sfgate.com, bayarea, article, Bibli...</td>\n",
       "    </tr>\n",
       "    <tr>\n",
       "      <th>3</th>\n",
       "      <td>1334673</td>\n",
       "      <td>695</td>\n",
       "      <td>2010-01-01</td>\n",
       "      <td>US</td>\n",
       "      <td>CNN</td>\n",
       "      <td>http://www.cnn.com/2010/HEALTH/01/01/multi.vit...</td>\n",
       "      <td>What you need to know about multivitamins</td>\n",
       "      <td>[http, www.cnn.com, 2010, HEALTH, 01, 01, mult...</td>\n",
       "    </tr>\n",
       "    <tr>\n",
       "      <th>4</th>\n",
       "      <td>1334674</td>\n",
       "      <td>724</td>\n",
       "      <td>2010-01-01</td>\n",
       "      <td>US</td>\n",
       "      <td>MedPage Today</td>\n",
       "      <td>http://www.medpagetoday.com/Psychiatry/sleepdi...</td>\n",
       "      <td>Lack of Sleep Linked to Depression in Adolescents</td>\n",
       "      <td>[http, www.medpagetoday.com, Psychiatry, sleep...</td>\n",
       "    </tr>\n",
       "  </tbody>\n",
       "</table>\n",
       "</div>"
      ],
      "text/plain": [
       "    textID  #words       date country                  website  \\\n",
       "0  1334669     334 2010-01-01      US             The Next Web   \n",
       "1  1334671     493 2010-01-01      US          People Magazine   \n",
       "2  1334672    1255 2010-01-01      US  San Francisco Chronicle   \n",
       "3  1334673     695 2010-01-01      US                      CNN   \n",
       "4  1334674     724 2010-01-01      US            MedPage Today   \n",
       "\n",
       "                                                 url  \\\n",
       "0  http://thenextweb.com/2010/01/01/avatar-takes-...   \n",
       "1  http://www.people.com/people/article/0,,203339...   \n",
       "2  http://www.sfgate.com/bayarea/article/Biblical...   \n",
       "3  http://www.cnn.com/2010/HEALTH/01/01/multi.vit...   \n",
       "4  http://www.medpagetoday.com/Psychiatry/sleepdi...   \n",
       "\n",
       "                                               title  \\\n",
       "0  Believe it or not: Avatar takes 1 petabyte of ...   \n",
       "1  INSIDE STORY: The Making of Beyonc's 'Single ...   \n",
       "2  Biblical scholar's date for rapture: May 21, 2011   \n",
       "3          What you need to know about multivitamins   \n",
       "4  Lack of Sleep Linked to Depression in Adolescents   \n",
       "\n",
       "                                               words  \n",
       "0  [http, thenextweb.com, 2010, 01, 01, avatar, t...  \n",
       "1  [http, www.people.com, people, article, 0,,203...  \n",
       "2  [http, www.sfgate.com, bayarea, article, Bibli...  \n",
       "3  [http, www.cnn.com, 2010, HEALTH, 01, 01, mult...  \n",
       "4  [http, www.medpagetoday.com, Psychiatry, sleep...  "
      ]
     },
     "execution_count": 24,
     "metadata": {},
     "output_type": "execute_result"
    }
   ],
   "source": [
    "# Split the urls and get words\n",
    "sources['words'] = sources.url.apply(lambda x: getWordsFromURL(x))\n",
    "sources.head(5)"
   ]
  },
  {
   "cell_type": "code",
   "execution_count": 25,
   "metadata": {},
   "outputs": [],
   "source": [
    "# function to remove stop and unnecessary words\n",
    "unnecessary_words=['http','https','article','articleshow','new','news']\n",
    "def removeStopAndUnnecessaryWord(strlist):\n",
    "    res=[]\n",
    "    for word in strlist:\n",
    "        if (word not in (stop)) and (word.isdigit()==False) and (word not in unnecessary_words) and ('www' not in word):\n",
    "            res.append(word)\n",
    "    return res"
   ]
  },
  {
   "cell_type": "markdown",
   "metadata": {},
   "source": [
    "After splitting the URL into words, now we want to get rid off the stop words and some most commonlt used unnecessary words that we are not interested in. We exclude them since we will try to find the categories based on most common used words. For removing stop words we use NLTK stopword and gemsim stopword dictionaries."
   ]
  },
  {
   "cell_type": "code",
   "execution_count": 26,
   "metadata": {},
   "outputs": [
    {
     "data": {
      "text/html": [
       "<div>\n",
       "<style scoped>\n",
       "    .dataframe tbody tr th:only-of-type {\n",
       "        vertical-align: middle;\n",
       "    }\n",
       "\n",
       "    .dataframe tbody tr th {\n",
       "        vertical-align: top;\n",
       "    }\n",
       "\n",
       "    .dataframe thead th {\n",
       "        text-align: right;\n",
       "    }\n",
       "</style>\n",
       "<table border=\"1\" class=\"dataframe\">\n",
       "  <thead>\n",
       "    <tr style=\"text-align: right;\">\n",
       "      <th></th>\n",
       "      <th>textID</th>\n",
       "      <th>#words</th>\n",
       "      <th>date</th>\n",
       "      <th>country</th>\n",
       "      <th>website</th>\n",
       "      <th>url</th>\n",
       "      <th>title</th>\n",
       "      <th>words</th>\n",
       "      <th>words_without_stopwords</th>\n",
       "    </tr>\n",
       "  </thead>\n",
       "  <tbody>\n",
       "    <tr>\n",
       "      <th>0</th>\n",
       "      <td>1334669</td>\n",
       "      <td>334</td>\n",
       "      <td>2010-01-01</td>\n",
       "      <td>US</td>\n",
       "      <td>The Next Web</td>\n",
       "      <td>http://thenextweb.com/2010/01/01/avatar-takes-...</td>\n",
       "      <td>Believe it or not: Avatar takes 1 petabyte of ...</td>\n",
       "      <td>[http, thenextweb.com, 2010, 01, 01, avatar, t...</td>\n",
       "      <td>[thenextweb.com, avatar, takes, petabyte, stor...</td>\n",
       "    </tr>\n",
       "    <tr>\n",
       "      <th>1</th>\n",
       "      <td>1334671</td>\n",
       "      <td>493</td>\n",
       "      <td>2010-01-01</td>\n",
       "      <td>US</td>\n",
       "      <td>People Magazine</td>\n",
       "      <td>http://www.people.com/people/article/0,,203339...</td>\n",
       "      <td>INSIDE STORY: The Making of Beyonc's 'Single ...</td>\n",
       "      <td>[http, www.people.com, people, article, 0,,203...</td>\n",
       "      <td>[people, 0,,20333961,00.html]</td>\n",
       "    </tr>\n",
       "    <tr>\n",
       "      <th>2</th>\n",
       "      <td>1334672</td>\n",
       "      <td>1255</td>\n",
       "      <td>2010-01-01</td>\n",
       "      <td>US</td>\n",
       "      <td>San Francisco Chronicle</td>\n",
       "      <td>http://www.sfgate.com/bayarea/article/Biblical...</td>\n",
       "      <td>Biblical scholar's date for rapture: May 21, 2011</td>\n",
       "      <td>[http, www.sfgate.com, bayarea, article, Bibli...</td>\n",
       "      <td>[bayarea, Biblical, scholar, date, rapture, Ma...</td>\n",
       "    </tr>\n",
       "    <tr>\n",
       "      <th>3</th>\n",
       "      <td>1334673</td>\n",
       "      <td>695</td>\n",
       "      <td>2010-01-01</td>\n",
       "      <td>US</td>\n",
       "      <td>CNN</td>\n",
       "      <td>http://www.cnn.com/2010/HEALTH/01/01/multi.vit...</td>\n",
       "      <td>What you need to know about multivitamins</td>\n",
       "      <td>[http, www.cnn.com, 2010, HEALTH, 01, 01, mult...</td>\n",
       "      <td>[HEALTH, multi.vitamins.info, ]</td>\n",
       "    </tr>\n",
       "    <tr>\n",
       "      <th>4</th>\n",
       "      <td>1334674</td>\n",
       "      <td>724</td>\n",
       "      <td>2010-01-01</td>\n",
       "      <td>US</td>\n",
       "      <td>MedPage Today</td>\n",
       "      <td>http://www.medpagetoday.com/Psychiatry/sleepdi...</td>\n",
       "      <td>Lack of Sleep Linked to Depression in Adolescents</td>\n",
       "      <td>[http, www.medpagetoday.com, Psychiatry, sleep...</td>\n",
       "      <td>[Psychiatry, sleepdisorders]</td>\n",
       "    </tr>\n",
       "    <tr>\n",
       "      <th>5</th>\n",
       "      <td>1334676</td>\n",
       "      <td>1418</td>\n",
       "      <td>2010-01-01</td>\n",
       "      <td>US</td>\n",
       "      <td>Cracked.com (satire)</td>\n",
       "      <td>http://www.cracked.com/article/18358_5-real-bu...</td>\n",
       "      <td>5 Real Buried Treasures That Can Make You Rich...</td>\n",
       "      <td>[http, www.cracked.com, article, 18358_5, real...</td>\n",
       "      <td>[18358_5, real, buried, treasures, make, rich,...</td>\n",
       "    </tr>\n",
       "    <tr>\n",
       "      <th>6</th>\n",
       "      <td>1334678</td>\n",
       "      <td>1247</td>\n",
       "      <td>2010-01-01</td>\n",
       "      <td>US</td>\n",
       "      <td>Common Dreams</td>\n",
       "      <td>http://www.commondreams.org/views/2010/01/01/r...</td>\n",
       "      <td>The Real Top Ten Stories of the Past Decade</td>\n",
       "      <td>[http, www.commondreams.org, views, 2010, 01, ...</td>\n",
       "      <td>[views, real, top, ten, stories, past, decade]</td>\n",
       "    </tr>\n",
       "  </tbody>\n",
       "</table>\n",
       "</div>"
      ],
      "text/plain": [
       "    textID  #words       date country                  website  \\\n",
       "0  1334669     334 2010-01-01      US             The Next Web   \n",
       "1  1334671     493 2010-01-01      US          People Magazine   \n",
       "2  1334672    1255 2010-01-01      US  San Francisco Chronicle   \n",
       "3  1334673     695 2010-01-01      US                      CNN   \n",
       "4  1334674     724 2010-01-01      US            MedPage Today   \n",
       "5  1334676    1418 2010-01-01      US    Cracked.com (satire)    \n",
       "6  1334678    1247 2010-01-01      US           Common Dreams    \n",
       "\n",
       "                                                 url  \\\n",
       "0  http://thenextweb.com/2010/01/01/avatar-takes-...   \n",
       "1  http://www.people.com/people/article/0,,203339...   \n",
       "2  http://www.sfgate.com/bayarea/article/Biblical...   \n",
       "3  http://www.cnn.com/2010/HEALTH/01/01/multi.vit...   \n",
       "4  http://www.medpagetoday.com/Psychiatry/sleepdi...   \n",
       "5  http://www.cracked.com/article/18358_5-real-bu...   \n",
       "6  http://www.commondreams.org/views/2010/01/01/r...   \n",
       "\n",
       "                                               title  \\\n",
       "0  Believe it or not: Avatar takes 1 petabyte of ...   \n",
       "1  INSIDE STORY: The Making of Beyonc's 'Single ...   \n",
       "2  Biblical scholar's date for rapture: May 21, 2011   \n",
       "3          What you need to know about multivitamins   \n",
       "4  Lack of Sleep Linked to Depression in Adolescents   \n",
       "5  5 Real Buried Treasures That Can Make You Rich...   \n",
       "6        The Real Top Ten Stories of the Past Decade   \n",
       "\n",
       "                                               words  \\\n",
       "0  [http, thenextweb.com, 2010, 01, 01, avatar, t...   \n",
       "1  [http, www.people.com, people, article, 0,,203...   \n",
       "2  [http, www.sfgate.com, bayarea, article, Bibli...   \n",
       "3  [http, www.cnn.com, 2010, HEALTH, 01, 01, mult...   \n",
       "4  [http, www.medpagetoday.com, Psychiatry, sleep...   \n",
       "5  [http, www.cracked.com, article, 18358_5, real...   \n",
       "6  [http, www.commondreams.org, views, 2010, 01, ...   \n",
       "\n",
       "                             words_without_stopwords  \n",
       "0  [thenextweb.com, avatar, takes, petabyte, stor...  \n",
       "1                      [people, 0,,20333961,00.html]  \n",
       "2  [bayarea, Biblical, scholar, date, rapture, Ma...  \n",
       "3                    [HEALTH, multi.vitamins.info, ]  \n",
       "4                       [Psychiatry, sleepdisorders]  \n",
       "5  [18358_5, real, buried, treasures, make, rich,...  \n",
       "6     [views, real, top, ten, stories, past, decade]  "
      ]
     },
     "metadata": {},
     "output_type": "display_data"
    }
   ],
   "source": [
    "# Exclude stopwords with Python's list comprehension and pandas.DataFrame.apply.\n",
    "sources['words_without_stopwords'] = sources['words'].apply(lambda x: removeStopAndUnnecessaryWord(x))\n",
    "display(sources.head(7))"
   ]
  },
  {
   "cell_type": "code",
   "execution_count": 27,
   "metadata": {},
   "outputs": [
    {
     "data": {
      "text/plain": [
       "[('', 1635704),\n",
       " ('business', 239774),\n",
       " ('world', 238055),\n",
       " ('story', 221638),\n",
       " ('sport', 204440),\n",
       " ('timesofindia.indiatimes.com', 163107),\n",
       " ('entertainment', 156793),\n",
       " ('city', 148035),\n",
       " ('life', 127476),\n",
       " ('sports', 126695),\n",
       " ('india', 116785),\n",
       " ('local', 114367),\n",
       " ('national', 104825),\n",
       " ('articles', 102389),\n",
       " ('says', 100124),\n",
       " ('football', 94447),\n",
       " ('politics', 93722),\n",
       " ('report', 86744),\n",
       " ('us', 82856),\n",
       " ('health', 77509),\n",
       " ('opinion', 76673),\n",
       " ('man', 75950),\n",
       " ('year', 75664),\n",
       " ('canada', 74957),\n",
       " ('first', 69590),\n",
       " ('review', 69530),\n",
       " ('News', 68028),\n",
       " ('home', 66721),\n",
       " ('top', 65991),\n",
       " ('day', 65350),\n",
       " ('uk', 63752),\n",
       " ('police', 63341),\n",
       " ('en', 62358),\n",
       " ('one', 61467),\n",
       " ('music', 58338),\n",
       " ('stories', 57015),\n",
       " ('id', 56787),\n",
       " ('features', 55515),\n",
       " ('south', 53402),\n",
       " ('content', 52071),\n",
       " ('tv', 51756),\n",
       " ('lifestyle', 51550),\n",
       " ('crime', 51353),\n",
       " ('years', 47813),\n",
       " ('best', 47371),\n",
       " ('death', 46732),\n",
       " ('market', 46017),\n",
       " ('time', 45991),\n",
       " ('two', 45942),\n",
       " ('court', 45650)]"
      ]
     },
     "execution_count": 27,
     "metadata": {},
     "output_type": "execute_result"
    }
   ],
   "source": [
    "# Count how many times each word appears and get most common 50 using Counter\n",
    "Counter(x for xs in sources.words_without_stopwords for x in set(xs)).most_common(50)"
   ]
  },
  {
   "cell_type": "markdown",
   "metadata": {},
   "source": [
    "We can see some popular topics in here such as:\n",
    "- business\n",
    "- world\n",
    "- sport / sports\n",
    "- entertainment\n",
    "- politics\n",
    "- national / local\n",
    "\n",
    "It might be a way to use these once and try to categorize the articles by topic accordingly if a given selected word is in URL."
   ]
  },
  {
   "cell_type": "markdown",
   "metadata": {},
   "source": [
    "Next, we try how many URLs will be found with the chosen topics from the above most common ones. Note that we add a few more that we expect to find as well."
   ]
  },
  {
   "cell_type": "code",
   "execution_count": 28,
   "metadata": {},
   "outputs": [],
   "source": [
    "topics = ['business','world', 'sport','sports','entertainment',\n",
    "          'politics','national', 'local','tech','international',\n",
    "          'weather','health','economy','economics']\n",
    "def urlContainsTopic(url):\n",
    "    for t in topics:\n",
    "        if(t in url):\n",
    "            return t\n",
    "    return 'NoTopic'"
   ]
  },
  {
   "cell_type": "code",
   "execution_count": 29,
   "metadata": {},
   "outputs": [
    {
     "data": {
      "text/html": [
       "<div>\n",
       "<style scoped>\n",
       "    .dataframe tbody tr th:only-of-type {\n",
       "        vertical-align: middle;\n",
       "    }\n",
       "\n",
       "    .dataframe tbody tr th {\n",
       "        vertical-align: top;\n",
       "    }\n",
       "\n",
       "    .dataframe thead th {\n",
       "        text-align: right;\n",
       "    }\n",
       "</style>\n",
       "<table border=\"1\" class=\"dataframe\">\n",
       "  <thead>\n",
       "    <tr style=\"text-align: right;\">\n",
       "      <th></th>\n",
       "      <th>textID</th>\n",
       "      <th>#words</th>\n",
       "      <th>date</th>\n",
       "      <th>country</th>\n",
       "      <th>website</th>\n",
       "      <th>url</th>\n",
       "      <th>title</th>\n",
       "      <th>words</th>\n",
       "      <th>words_without_stopwords</th>\n",
       "      <th>topic</th>\n",
       "    </tr>\n",
       "  </thead>\n",
       "  <tbody>\n",
       "    <tr>\n",
       "      <th>0</th>\n",
       "      <td>1334669</td>\n",
       "      <td>334</td>\n",
       "      <td>2010-01-01</td>\n",
       "      <td>US</td>\n",
       "      <td>The Next Web</td>\n",
       "      <td>http://thenextweb.com/2010/01/01/avatar-takes-...</td>\n",
       "      <td>Believe it or not: Avatar takes 1 petabyte of ...</td>\n",
       "      <td>[http, thenextweb.com, 2010, 01, 01, avatar, t...</td>\n",
       "      <td>[thenextweb.com, avatar, takes, petabyte, stor...</td>\n",
       "      <td>NoTopic</td>\n",
       "    </tr>\n",
       "    <tr>\n",
       "      <th>1</th>\n",
       "      <td>1334671</td>\n",
       "      <td>493</td>\n",
       "      <td>2010-01-01</td>\n",
       "      <td>US</td>\n",
       "      <td>People Magazine</td>\n",
       "      <td>http://www.people.com/people/article/0,,203339...</td>\n",
       "      <td>INSIDE STORY: The Making of Beyonc's 'Single ...</td>\n",
       "      <td>[http, www.people.com, people, article, 0,,203...</td>\n",
       "      <td>[people, 0,,20333961,00.html]</td>\n",
       "      <td>NoTopic</td>\n",
       "    </tr>\n",
       "    <tr>\n",
       "      <th>2</th>\n",
       "      <td>1334672</td>\n",
       "      <td>1255</td>\n",
       "      <td>2010-01-01</td>\n",
       "      <td>US</td>\n",
       "      <td>San Francisco Chronicle</td>\n",
       "      <td>http://www.sfgate.com/bayarea/article/Biblical...</td>\n",
       "      <td>Biblical scholar's date for rapture: May 21, 2011</td>\n",
       "      <td>[http, www.sfgate.com, bayarea, article, Bibli...</td>\n",
       "      <td>[bayarea, Biblical, scholar, date, rapture, Ma...</td>\n",
       "      <td>NoTopic</td>\n",
       "    </tr>\n",
       "    <tr>\n",
       "      <th>3</th>\n",
       "      <td>1334673</td>\n",
       "      <td>695</td>\n",
       "      <td>2010-01-01</td>\n",
       "      <td>US</td>\n",
       "      <td>CNN</td>\n",
       "      <td>http://www.cnn.com/2010/HEALTH/01/01/multi.vit...</td>\n",
       "      <td>What you need to know about multivitamins</td>\n",
       "      <td>[http, www.cnn.com, 2010, HEALTH, 01, 01, mult...</td>\n",
       "      <td>[HEALTH, multi.vitamins.info, ]</td>\n",
       "      <td>NoTopic</td>\n",
       "    </tr>\n",
       "    <tr>\n",
       "      <th>4</th>\n",
       "      <td>1334674</td>\n",
       "      <td>724</td>\n",
       "      <td>2010-01-01</td>\n",
       "      <td>US</td>\n",
       "      <td>MedPage Today</td>\n",
       "      <td>http://www.medpagetoday.com/Psychiatry/sleepdi...</td>\n",
       "      <td>Lack of Sleep Linked to Depression in Adolescents</td>\n",
       "      <td>[http, www.medpagetoday.com, Psychiatry, sleep...</td>\n",
       "      <td>[Psychiatry, sleepdisorders]</td>\n",
       "      <td>NoTopic</td>\n",
       "    </tr>\n",
       "    <tr>\n",
       "      <th>5</th>\n",
       "      <td>1334676</td>\n",
       "      <td>1418</td>\n",
       "      <td>2010-01-01</td>\n",
       "      <td>US</td>\n",
       "      <td>Cracked.com (satire)</td>\n",
       "      <td>http://www.cracked.com/article/18358_5-real-bu...</td>\n",
       "      <td>5 Real Buried Treasures That Can Make You Rich...</td>\n",
       "      <td>[http, www.cracked.com, article, 18358_5, real...</td>\n",
       "      <td>[18358_5, real, buried, treasures, make, rich,...</td>\n",
       "      <td>NoTopic</td>\n",
       "    </tr>\n",
       "    <tr>\n",
       "      <th>6</th>\n",
       "      <td>1334678</td>\n",
       "      <td>1247</td>\n",
       "      <td>2010-01-01</td>\n",
       "      <td>US</td>\n",
       "      <td>Common Dreams</td>\n",
       "      <td>http://www.commondreams.org/views/2010/01/01/r...</td>\n",
       "      <td>The Real Top Ten Stories of the Past Decade</td>\n",
       "      <td>[http, www.commondreams.org, views, 2010, 01, ...</td>\n",
       "      <td>[views, real, top, ten, stories, past, decade]</td>\n",
       "      <td>NoTopic</td>\n",
       "    </tr>\n",
       "  </tbody>\n",
       "</table>\n",
       "</div>"
      ],
      "text/plain": [
       "    textID  #words       date country                  website  \\\n",
       "0  1334669     334 2010-01-01      US             The Next Web   \n",
       "1  1334671     493 2010-01-01      US          People Magazine   \n",
       "2  1334672    1255 2010-01-01      US  San Francisco Chronicle   \n",
       "3  1334673     695 2010-01-01      US                      CNN   \n",
       "4  1334674     724 2010-01-01      US            MedPage Today   \n",
       "5  1334676    1418 2010-01-01      US    Cracked.com (satire)    \n",
       "6  1334678    1247 2010-01-01      US           Common Dreams    \n",
       "\n",
       "                                                 url  \\\n",
       "0  http://thenextweb.com/2010/01/01/avatar-takes-...   \n",
       "1  http://www.people.com/people/article/0,,203339...   \n",
       "2  http://www.sfgate.com/bayarea/article/Biblical...   \n",
       "3  http://www.cnn.com/2010/HEALTH/01/01/multi.vit...   \n",
       "4  http://www.medpagetoday.com/Psychiatry/sleepdi...   \n",
       "5  http://www.cracked.com/article/18358_5-real-bu...   \n",
       "6  http://www.commondreams.org/views/2010/01/01/r...   \n",
       "\n",
       "                                               title  \\\n",
       "0  Believe it or not: Avatar takes 1 petabyte of ...   \n",
       "1  INSIDE STORY: The Making of Beyonc's 'Single ...   \n",
       "2  Biblical scholar's date for rapture: May 21, 2011   \n",
       "3          What you need to know about multivitamins   \n",
       "4  Lack of Sleep Linked to Depression in Adolescents   \n",
       "5  5 Real Buried Treasures That Can Make You Rich...   \n",
       "6        The Real Top Ten Stories of the Past Decade   \n",
       "\n",
       "                                               words  \\\n",
       "0  [http, thenextweb.com, 2010, 01, 01, avatar, t...   \n",
       "1  [http, www.people.com, people, article, 0,,203...   \n",
       "2  [http, www.sfgate.com, bayarea, article, Bibli...   \n",
       "3  [http, www.cnn.com, 2010, HEALTH, 01, 01, mult...   \n",
       "4  [http, www.medpagetoday.com, Psychiatry, sleep...   \n",
       "5  [http, www.cracked.com, article, 18358_5, real...   \n",
       "6  [http, www.commondreams.org, views, 2010, 01, ...   \n",
       "\n",
       "                             words_without_stopwords    topic  \n",
       "0  [thenextweb.com, avatar, takes, petabyte, stor...  NoTopic  \n",
       "1                      [people, 0,,20333961,00.html]  NoTopic  \n",
       "2  [bayarea, Biblical, scholar, date, rapture, Ma...  NoTopic  \n",
       "3                    [HEALTH, multi.vitamins.info, ]  NoTopic  \n",
       "4                       [Psychiatry, sleepdisorders]  NoTopic  \n",
       "5  [18358_5, real, buried, treasures, make, rich,...  NoTopic  \n",
       "6     [views, real, top, ten, stories, past, decade]  NoTopic  "
      ]
     },
     "metadata": {},
     "output_type": "display_data"
    }
   ],
   "source": [
    "sources['topic'] = sources.url.apply(lambda x: urlContainsTopic(x))\n",
    "display(sources.head(7))"
   ]
  },
  {
   "cell_type": "markdown",
   "metadata": {},
   "source": [
    "Lets check the value counts per topic to see how many we found per topic Note that we give NoTopic for the ones which we couldn't assign."
   ]
  },
  {
   "cell_type": "code",
   "execution_count": 30,
   "metadata": {},
   "outputs": [
    {
     "data": {
      "text/plain": [
       "NoTopic          4258961\n",
       "sport             409074\n",
       "business          364333\n",
       "world             304820\n",
       "entertainment     172893\n",
       "national          164896\n",
       "tech              121844\n",
       "local             117286\n",
       "politics          100005\n",
       "health             88119\n",
       "economy            14895\n",
       "weather            12477\n",
       "economics           2572\n",
       "Name: topic, dtype: int64"
      ]
     },
     "execution_count": 30,
     "metadata": {},
     "output_type": "execute_result"
    }
   ],
   "source": [
    "# Assigned Topics\n",
    "sources.topic.value_counts()"
   ]
  },
  {
   "cell_type": "code",
   "execution_count": 31,
   "metadata": {},
   "outputs": [
    {
     "data": {
      "text/plain": [
       "(6132175, 10)"
      ]
     },
     "execution_count": 31,
     "metadata": {},
     "output_type": "execute_result"
    }
   ],
   "source": [
    "sources.shape"
   ]
  },
  {
   "cell_type": "code",
   "execution_count": 32,
   "metadata": {},
   "outputs": [
    {
     "data": {
      "text/plain": [
       "69.4526982677435"
      ]
     },
     "execution_count": 32,
     "metadata": {},
     "output_type": "execute_result"
    }
   ],
   "source": [
    "# Ratio of none found topics\n",
    "4258961*100 /sources.shape[0]"
   ]
  },
  {
   "cell_type": "markdown",
   "metadata": {},
   "source": [
    "By using this approach we can only assign around 30% of the articles. This is not good enough. Our next approach then would be to try to do LDA for topic modelling to find topics. What we will to is to use the WordLemPos data for this. We will use the lemma version of the each word used in articles and apply LDA to find the results. Since we will use a different data file the words in the article for LDA approach, we created another notebook for this approach WordLemPos_Topic_Modelling notebook."
   ]
  }
 ],
 "metadata": {
  "kernelspec": {
   "display_name": "Python 3",
   "language": "python",
   "name": "python3"
  },
  "language_info": {
   "codemirror_mode": {
    "name": "ipython",
    "version": 3
   },
   "file_extension": ".py",
   "mimetype": "text/x-python",
   "name": "python",
   "nbconvert_exporter": "python",
   "pygments_lexer": "ipython3",
   "version": "3.6.5"
  }
 },
 "nbformat": 4,
 "nbformat_minor": 2
}
