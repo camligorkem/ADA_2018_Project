{
 "cells": [
  {
   "cell_type": "code",
   "execution_count": 48,
   "metadata": {},
   "outputs": [],
   "source": [
    "# Add your imports here\n",
    "import pandas as pd\n",
    "import numpy as np\n",
    "import scipy as sp\n",
    "%matplotlib inline\n",
    "import matplotlib.pyplot as plt\n",
    "\n",
    "import findspark\n",
    "findspark.init()\n",
    "\n",
    "from pyspark.sql import *\n",
    "import pyspark.sql.functions as sf\n",
    "import re\n",
    "\n",
    "import warnings\n",
    "warnings.filterwarnings('ignore')\n",
    "\n",
    "import seaborn as sns \n",
    "from scipy.stats import pearsonr"
   ]
  },
  {
   "cell_type": "code",
   "execution_count": 49,
   "metadata": {},
   "outputs": [],
   "source": [
    "# create the session\n",
    "spark = SparkSession.builder.getOrCreate()\n",
    "# create the context\n",
    "sc = spark.sparkContext"
   ]
  },
  {
   "cell_type": "code",
   "execution_count": 50,
   "metadata": {},
   "outputs": [],
   "source": [
    "country_filter = spark.read.parquet(\"filter_country.parquet\")"
   ]
  },
  {
   "cell_type": "code",
   "execution_count": 51,
   "metadata": {},
   "outputs": [
    {
     "name": "stdout",
     "output_type": "stream",
     "text": [
      "+-------+------+\n",
      "|country| count|\n",
      "+-------+------+\n",
      "|     IN|318680|\n",
      "|     JM| 24705|\n",
      "|     AU|169433|\n",
      "|     PK| 45024|\n",
      "|     SG| 32116|\n",
      "|     NG| 37824|\n",
      "|     TZ|  7044|\n",
      "|     CA|433496|\n",
      "|     US|483595|\n",
      "|     GB|471916|\n",
      "|     MY| 29945|\n",
      "|     ZA|155345|\n",
      "|     LK|  8295|\n",
      "|     BD| 12225|\n",
      "|     HK|  5498|\n",
      "|     NZ| 77504|\n",
      "|     GH| 18439|\n",
      "|     IE|145216|\n",
      "|     KE| 23016|\n",
      "|     PH| 65937|\n",
      "+-------+------+\n",
      "\n"
     ]
    }
   ],
   "source": [
    "country_filter.show()"
   ]
  },
  {
   "cell_type": "code",
   "execution_count": 52,
   "metadata": {},
   "outputs": [],
   "source": [
    "data = spark.read.parquet(\"data.parquet\")"
   ]
  },
  {
   "cell_type": "code",
   "execution_count": 53,
   "metadata": {},
   "outputs": [
    {
     "data": {
      "text/plain": [
       "StructType(List(StructField(textID,IntegerType,true),StructField(#words,IntegerType,true),StructField(date,DateType,true),StructField(country,StringType,true),StructField(website,StringType,true),StructField(url,StringType,true),StructField(title,StringType,true)))"
      ]
     },
     "execution_count": 53,
     "metadata": {},
     "output_type": "execute_result"
    }
   ],
   "source": [
    "data.schema"
   ]
  },
  {
   "cell_type": "code",
   "execution_count": 54,
   "metadata": {},
   "outputs": [
    {
     "name": "stdout",
     "output_type": "stream",
     "text": [
      "+-------+------+----------+-------+--------------------+--------------------+--------------------+\n",
      "| textID|#words|      date|country|             website|                 url|               title|\n",
      "+-------+------+----------+-------+--------------------+--------------------+--------------------+\n",
      "|1334669|   334|0010-01-01|     US|        The Next Web|http://thenextweb...|Believe it or not...|\n",
      "|1334671|   493|0010-01-01|     US|     People Magazine|http://www.people...|INSIDE STORY: The...|\n",
      "|1334672|  1255|0010-01-01|     US|San Francisco Chr...|http://www.sfgate...|Biblical scholar'...|\n",
      "|1334673|   695|0010-01-01|     US|                 CNN|http://www.cnn.co...|What you need to ...|\n",
      "|1334674|   724|0010-01-01|     US|       MedPage Today|http://www.medpag...|Lack of Sleep Lin...|\n",
      "|1334676|  1418|0010-01-01|     US|Cracked.com (sati...|http://www.cracke...|5 Real Buried Tre...|\n",
      "|1334678|  1247|0010-01-01|     US|      Common Dreams |http://www.common...|The Real Top Ten ...|\n",
      "|1334679|   574|0010-01-01|     US|NBC Dallas-Fort W...|http://www.nbcdfw...|How Much Bigger W...|\n",
      "|1334680|   191|0010-01-01|     US|         NBC Chicago|http://www.nbcchi...|New Year Baby Bor...|\n",
      "|1334681|   989|0010-01-01|     US|San Francisco Chr...|http://www.sfgate...|Decade in review:...|\n",
      "|1334682|  2800|0010-01-01|     US|     Bleacher Report|http://bleacherre...|MLBs 10 Best Star...|\n",
      "|1334683|   187|0010-01-01|     US|        PR Newswire |http://www.prnews...|BET Unveils the B...|\n",
      "|1334684|   805|0010-01-01|     US|       New York Post|http://nypost.com...|Wizards Gilbert A...|\n",
      "|1334686|   751|0010-01-01|     US|                 CNN|http://www.cnn.co...|Digital piracy hi...|\n",
      "|1334687|   251|0010-01-01|     US|        Gizmodo.com |http://gizmodo.co...|The Digital Camer...|\n",
      "|1334688|   910|0010-01-01|     US|Milwaukee Journal...|http://www.jsonli...|Study highlights ...|\n",
      "|1334689|   676|0010-01-01|     US|                 NPR|http://www.npr.or...|Breaking Into The...|\n",
      "|1334690|  1135|0010-01-01|     US|                 CNN|http://www.cnn.co...|The best and wors...|\n",
      "|1334691|   587|0010-01-01|     US|          Wired News|http://www.wired....|Tasmanian Devil C...|\n",
      "|1334692|  3466|0010-01-01|     US|  Clarksville Online|http://www.clarks...|Heroes: Mortals a...|\n",
      "+-------+------+----------+-------+--------------------+--------------------+--------------------+\n",
      "only showing top 20 rows\n",
      "\n"
     ]
    }
   ],
   "source": [
    "data.show()"
   ]
  },
  {
   "cell_type": "code",
   "execution_count": 55,
   "metadata": {},
   "outputs": [
    {
     "name": "stdout",
     "output_type": "stream",
     "text": [
      "+-------+------+\n",
      "|country| count|\n",
      "+-------+------+\n",
      "|     IN|318680|\n",
      "|     JM| 24705|\n",
      "|     AU|169433|\n",
      "|     PK| 45024|\n",
      "|     IE|145216|\n",
      "|     HK|  5498|\n",
      "|     SG| 32116|\n",
      "|     GH| 18439|\n",
      "|     PH| 65937|\n",
      "|     ZA|155345|\n",
      "|     NG| 37824|\n",
      "|     US|483595|\n",
      "|     MY| 29945|\n",
      "|     LK|  8295|\n",
      "|     CA|433496|\n",
      "|     TZ|  7044|\n",
      "|     NZ| 77504|\n",
      "|     GB|471916|\n",
      "|     KE| 23016|\n",
      "|     BD| 12225|\n",
      "+-------+------+\n",
      "\n"
     ]
    }
   ],
   "source": [
    "country_urls = spark.read.parquet(\"filter_urls.parquet\")\n",
    "country_urls.show()"
   ]
  },
  {
   "cell_type": "code",
   "execution_count": 56,
   "metadata": {},
   "outputs": [
    {
     "name": "stdout",
     "output_type": "stream",
     "text": [
      "+-------+--------------------+-----+\n",
      "|country|             website|count|\n",
      "+-------+--------------------+-----+\n",
      "|     US|            Benzinga|   19|\n",
      "|     US|      24/7 Wall St. |   62|\n",
      "|     US|Film School Rejects |   79|\n",
      "|     US|McCook Daily Gazette|    4|\n",
      "|     US|        HTCPedia.com|    1|\n",
      "|     US| Pro Wrestling Torch|   13|\n",
      "|     US|       The Batavian |   32|\n",
      "|     US|Broomfield Enterp...|    2|\n",
      "|     US|Du Quoin Evening ...|    2|\n",
      "|     US|          MovieViral|    2|\n",
      "|     US|    Access Hollywood|  115|\n",
      "|     US|    Sun Star Courier|   84|\n",
      "|     US|Motorcycle Cruise...|   15|\n",
      "|     US|   Assembly Magazine|    2|\n",
      "|     US|         Labor Notes|    7|\n",
      "|     US|           ADDitude |   11|\n",
      "|     US|Shakin The Southl...|   14|\n",
      "|     US|University of Roc...|   48|\n",
      "|     US|   Metal Underground|    3|\n",
      "|     US|Charleston Post C...|  166|\n",
      "+-------+--------------------+-----+\n",
      "only showing top 20 rows\n",
      "\n"
     ]
    }
   ],
   "source": [
    "country_sources = spark.read.parquet(\"filter_sources.parquet\")\n",
    "country_sources.show()"
   ]
  },
  {
   "cell_type": "code",
   "execution_count": 57,
   "metadata": {},
   "outputs": [
    {
     "name": "stdout",
     "output_type": "stream",
     "text": [
      "+-------+-----------------+\n",
      "|country|words_per_country|\n",
      "+-------+-----------------+\n",
      "|     AU|        114973759|\n",
      "|     PK|         29278292|\n",
      "|     IN|        175954781|\n",
      "|     JM|         16254579|\n",
      "|     NZ|         39611915|\n",
      "|     BD|          7463981|\n",
      "|     KE|         10773652|\n",
      "|     NG|         31525542|\n",
      "|     IE|         81855784|\n",
      "|     ZA|         93694663|\n",
      "|     CA|        303942942|\n",
      "|     GB|        323357618|\n",
      "|     MY|         18090037|\n",
      "|     SG|         13646677|\n",
      "|     TZ|          3967575|\n",
      "|     PH|         35888251|\n",
      "|     US|        430419515|\n",
      "|     LK|          5832367|\n",
      "|     GH|         11884521|\n",
      "|     HK|          4068451|\n",
      "+-------+-----------------+\n",
      "\n"
     ]
    }
   ],
   "source": [
    "country_words = spark.read.parquet(\"filter_words.parquet\")\n",
    "country_words.show()"
   ]
  }
 ],
 "metadata": {
  "kernelspec": {
   "display_name": "Python 3",
   "language": "python",
   "name": "python3"
  },
  "language_info": {
   "codemirror_mode": {
    "name": "ipython",
    "version": 3
   },
   "file_extension": ".py",
   "mimetype": "text/x-python",
   "name": "python",
   "nbconvert_exporter": "python",
   "pygments_lexer": "ipython3",
   "version": "3.6.5"
  }
 },
 "nbformat": 4,
 "nbformat_minor": 2
}
