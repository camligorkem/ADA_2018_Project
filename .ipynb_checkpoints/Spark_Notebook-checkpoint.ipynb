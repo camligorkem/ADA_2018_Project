{
 "cells": [
  {
   "cell_type": "markdown",
   "metadata": {},
   "source": [
    "# Source Exploration with Pyspark"
   ]
  },
  {
   "cell_type": "markdown",
   "metadata": {},
   "source": [
    "Now Corpus data is collected news websites, blogs or other web pages from 20 English-speaking countries. In this notebook we explored and made descriptive analysis of our sources of news. Data files are constructed in cluster and downloaded locally."
   ]
  },
  {
   "cell_type": "code",
   "execution_count": 11,
   "metadata": {},
   "outputs": [],
   "source": [
    "# Add your imports here\n",
    "import pandas as pd\n",
    "import numpy as np\n",
    "import scipy as sp\n",
    "%matplotlib inline\n",
    "import matplotlib.pyplot as plt\n",
    "\n",
    "#import findspark\n",
    "#findspark.init()\n",
    "\n",
    "from pyspark.sql import *\n",
    "import pyspark.sql.functions as sf\n",
    "import re\n",
    "\n",
    "import warnings\n",
    "warnings.filterwarnings('ignore')\n",
    "\n",
    "import seaborn as sns \n",
    "from scipy.stats import pearsonr"
   ]
  },
  {
   "cell_type": "code",
   "execution_count": 12,
   "metadata": {},
   "outputs": [],
   "source": [
    "# create the session\n",
    "spark = SparkSession.builder.getOrCreate()\n",
    "# create the context\n",
    "sc = spark.sparkContext"
   ]
  },
  {
   "cell_type": "code",
   "execution_count": 13,
   "metadata": {},
   "outputs": [],
   "source": [
    "DATA_DIR = './Data/data.parquet/'"
   ]
  },
  {
   "cell_type": "code",
   "execution_count": 14,
   "metadata": {},
   "outputs": [],
   "source": [
    "sources = spark.read.parquet(DATA_DIR + \"filter_sources.parquet\")\n",
    "urls = spark.read.parquet(DATA_DIR + \"filter_urls.parquet\")\n",
    "websites = spark.read.parquet(DATA_DIR + \"filter_websites.parquet\")\n",
    "words = spark.read.parquet(DATA_DIR + \"filter_words.parquet\")"
   ]
  },
  {
   "cell_type": "markdown",
   "metadata": {},
   "source": [
    "Following graph shows how many urls we have for each country. Since each url is unique for each news, we can estimate how many news we have for each country. This numbers will later help us making reasonable comparison."
   ]
  },
  {
   "cell_type": "code",
   "execution_count": 15,
   "metadata": {},
   "outputs": [
    {
     "name": "stdout",
     "output_type": "stream",
     "text": [
      "+-------+------+\n",
      "|country| count|\n",
      "+-------+------+\n",
      "|     JM| 42199|\n",
      "|     IN|759439|\n",
      "|     AU|451217|\n",
      "|     PK|213003|\n",
      "|     BD| 37382|\n",
      "|     KE|110101|\n",
      "|     SG|211016|\n",
      "|     HK| 25863|\n",
      "|     TZ| 16304|\n",
      "|     NG|237077|\n",
      "|     ZA|398981|\n",
      "|     LK| 38378|\n",
      "|     US|862786|\n",
      "|     PH|233941|\n",
      "|     NZ|254049|\n",
      "|     IE|482263|\n",
      "|     CA|795101|\n",
      "|     MY|157823|\n",
      "|     GH|105063|\n",
      "|     GB|840939|\n",
      "+-------+------+\n",
      "\n"
     ]
    }
   ],
   "source": [
    "urls.show()"
   ]
  },
  {
   "cell_type": "code",
   "execution_count": 9,
   "metadata": {},
   "outputs": [
    {
     "data": {
      "text/plain": [
       "pyspark.sql.dataframe.DataFrame"
      ]
     },
     "execution_count": 9,
     "metadata": {},
     "output_type": "execute_result"
    }
   ],
   "source": [
    "type(sources)"
   ]
  },
  {
   "cell_type": "code",
   "execution_count": 16,
   "metadata": {},
   "outputs": [
    {
     "data": {
      "text/plain": [
       "20"
      ]
     },
     "execution_count": 16,
     "metadata": {},
     "output_type": "execute_result"
    }
   ],
   "source": [
    "urls.count()"
   ]
  },
  {
   "cell_type": "code",
   "execution_count": null,
   "metadata": {},
   "outputs": [],
   "source": []
  }
 ],
 "metadata": {
  "kernelspec": {
   "display_name": "Python 3",
   "language": "python",
   "name": "python3"
  },
  "language_info": {
   "codemirror_mode": {
    "name": "ipython",
    "version": 3
   },
   "file_extension": ".py",
   "mimetype": "text/x-python",
   "name": "python",
   "nbconvert_exporter": "python",
   "pygments_lexer": "ipython3",
   "version": "3.6.5"
  }
 },
 "nbformat": 4,
 "nbformat_minor": 2
}
